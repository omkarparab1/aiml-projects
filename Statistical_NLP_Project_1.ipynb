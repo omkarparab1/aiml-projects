{
 "cells": [
  {
   "cell_type": "markdown",
   "metadata": {
    "id": "JMmH3jqJATJ-"
   },
   "source": [
    "# **PART I**\n",
    "# The need is to build a NLP classifier which can use input text parameters to determine the label/s of of the blog."
   ]
  },
  {
   "cell_type": "code",
   "execution_count": 1,
   "metadata": {
    "executionInfo": {
     "elapsed": 1760,
     "status": "ok",
     "timestamp": 1619584744377,
     "user": {
      "displayName": "Omkar Parab",
      "photoUrl": "https://lh3.googleusercontent.com/-k_5aDc4lY0s/AAAAAAAAAAI/AAAAAAAAY7M/CwjzItosNr8/s64/photo.jpg",
      "userId": "03333431617055937457"
     },
     "user_tz": -330
    },
    "id": "84gTmV4_IhlV"
   },
   "outputs": [],
   "source": [
    "import os\n",
    "import pandas as pd\n",
    "import re\n",
    "import nltk\n",
    "from nltk.corpus import stopwords\n",
    "from sklearn.feature_extraction.text import CountVectorizer\n",
    "from sklearn.preprocessing import MultiLabelBinarizer\n",
    "from sklearn.model_selection import train_test_split\n",
    "from sklearn.multiclass import OneVsRestClassifier\n",
    "from sklearn.linear_model import LogisticRegression\n",
    "from sklearn.metrics import accuracy_score\n",
    "from sklearn.metrics import f1_score\n",
    "from sklearn.metrics import average_precision_score\n",
    "from sklearn.metrics import recall_score\n",
    "import warnings\n",
    "warnings.filterwarnings('ignore')"
   ]
  },
  {
   "cell_type": "code",
   "execution_count": 3,
   "metadata": {
    "colab": {
     "base_uri": "https://localhost:8080/"
    },
    "executionInfo": {
     "elapsed": 10534,
     "status": "ok",
     "timestamp": 1619584773854,
     "user": {
      "displayName": "Omkar Parab",
      "photoUrl": "https://lh3.googleusercontent.com/-k_5aDc4lY0s/AAAAAAAAAAI/AAAAAAAAY7M/CwjzItosNr8/s64/photo.jpg",
      "userId": "03333431617055937457"
     },
     "user_tz": -330
    },
    "id": "PzaFym6flM-e",
    "outputId": "b96b64b6-fdbf-4089-f813-64a4a110a9a5"
   },
   "outputs": [
    {
     "name": "stdout",
     "output_type": "stream",
     "text": [
      "Mounted at /content/drive\n"
     ]
    }
   ],
   "source": [
    "from google.colab import drive\n",
    "drive.mount('/content/drive')"
   ]
  },
  {
   "cell_type": "code",
   "execution_count": 4,
   "metadata": {
    "executionInfo": {
     "elapsed": 756,
     "status": "ok",
     "timestamp": 1619584775983,
     "user": {
      "displayName": "Omkar Parab",
      "photoUrl": "https://lh3.googleusercontent.com/-k_5aDc4lY0s/AAAAAAAAAAI/AAAAAAAAY7M/CwjzItosNr8/s64/photo.jpg",
      "userId": "03333431617055937457"
     },
     "user_tz": -330
    },
    "id": "T0y8NT-znPIK"
   },
   "outputs": [],
   "source": [
    "import os\n",
    "os.chdir('drive/MyDrive')"
   ]
  },
  {
   "cell_type": "markdown",
   "metadata": {
    "id": "p2W6InofYgGf"
   },
   "source": [
    "# 1. Import and analyse the data set"
   ]
  },
  {
   "cell_type": "code",
   "execution_count": 5,
   "metadata": {
    "colab": {
     "base_uri": "https://localhost:8080/",
     "height": 195
    },
    "executionInfo": {
     "elapsed": 21126,
     "status": "ok",
     "timestamp": 1619584797703,
     "user": {
      "displayName": "Omkar Parab",
      "photoUrl": "https://lh3.googleusercontent.com/-k_5aDc4lY0s/AAAAAAAAAAI/AAAAAAAAY7M/CwjzItosNr8/s64/photo.jpg",
      "userId": "03333431617055937457"
     },
     "user_tz": -330
    },
    "id": "60siEpg3oqf7",
    "outputId": "67db4273-f8bc-4a4b-eefb-b3feb11923ac"
   },
   "outputs": [
    {
     "data": {
      "text/html": [
       "<div>\n",
       "<style scoped>\n",
       "    .dataframe tbody tr th:only-of-type {\n",
       "        vertical-align: middle;\n",
       "    }\n",
       "\n",
       "    .dataframe tbody tr th {\n",
       "        vertical-align: top;\n",
       "    }\n",
       "\n",
       "    .dataframe thead th {\n",
       "        text-align: right;\n",
       "    }\n",
       "</style>\n",
       "<table border=\"1\" class=\"dataframe\">\n",
       "  <thead>\n",
       "    <tr style=\"text-align: right;\">\n",
       "      <th></th>\n",
       "      <th>id</th>\n",
       "      <th>gender</th>\n",
       "      <th>age</th>\n",
       "      <th>topic</th>\n",
       "      <th>sign</th>\n",
       "      <th>date</th>\n",
       "      <th>text</th>\n",
       "    </tr>\n",
       "  </thead>\n",
       "  <tbody>\n",
       "    <tr>\n",
       "      <th>0</th>\n",
       "      <td>2059027</td>\n",
       "      <td>male</td>\n",
       "      <td>15</td>\n",
       "      <td>Student</td>\n",
       "      <td>Leo</td>\n",
       "      <td>14,May,2004</td>\n",
       "      <td>Info has been found (+/- 100 pages,...</td>\n",
       "    </tr>\n",
       "    <tr>\n",
       "      <th>1</th>\n",
       "      <td>2059027</td>\n",
       "      <td>male</td>\n",
       "      <td>15</td>\n",
       "      <td>Student</td>\n",
       "      <td>Leo</td>\n",
       "      <td>13,May,2004</td>\n",
       "      <td>These are the team members:   Drewe...</td>\n",
       "    </tr>\n",
       "    <tr>\n",
       "      <th>2</th>\n",
       "      <td>2059027</td>\n",
       "      <td>male</td>\n",
       "      <td>15</td>\n",
       "      <td>Student</td>\n",
       "      <td>Leo</td>\n",
       "      <td>12,May,2004</td>\n",
       "      <td>In het kader van kernfusie op aarde...</td>\n",
       "    </tr>\n",
       "    <tr>\n",
       "      <th>3</th>\n",
       "      <td>2059027</td>\n",
       "      <td>male</td>\n",
       "      <td>15</td>\n",
       "      <td>Student</td>\n",
       "      <td>Leo</td>\n",
       "      <td>12,May,2004</td>\n",
       "      <td>testing!!!  testing!!!</td>\n",
       "    </tr>\n",
       "    <tr>\n",
       "      <th>4</th>\n",
       "      <td>3581210</td>\n",
       "      <td>male</td>\n",
       "      <td>33</td>\n",
       "      <td>InvestmentBanking</td>\n",
       "      <td>Aquarius</td>\n",
       "      <td>11,June,2004</td>\n",
       "      <td>Thanks to Yahoo!'s Toolbar I can ...</td>\n",
       "    </tr>\n",
       "  </tbody>\n",
       "</table>\n",
       "</div>"
      ],
      "text/plain": [
       "        id  ...                                               text\n",
       "0  2059027  ...             Info has been found (+/- 100 pages,...\n",
       "1  2059027  ...             These are the team members:   Drewe...\n",
       "2  2059027  ...             In het kader van kernfusie op aarde...\n",
       "3  2059027  ...                   testing!!!  testing!!!          \n",
       "4  3581210  ...               Thanks to Yahoo!'s Toolbar I can ...\n",
       "\n",
       "[5 rows x 7 columns]"
      ]
     },
     "execution_count": 5,
     "metadata": {
      "tags": []
     },
     "output_type": "execute_result"
    }
   ],
   "source": [
    "import pandas as pd\n",
    "df = pd.read_csv('Dataset - blogtext.csv')\n",
    "df.head()"
   ]
  },
  {
   "cell_type": "code",
   "execution_count": 6,
   "metadata": {
    "colab": {
     "base_uri": "https://localhost:8080/"
    },
    "executionInfo": {
     "elapsed": 20941,
     "status": "ok",
     "timestamp": 1619584797704,
     "user": {
      "displayName": "Omkar Parab",
      "photoUrl": "https://lh3.googleusercontent.com/-k_5aDc4lY0s/AAAAAAAAAAI/AAAAAAAAY7M/CwjzItosNr8/s64/photo.jpg",
      "userId": "03333431617055937457"
     },
     "user_tz": -330
    },
    "id": "V0DVv-q4ozmG",
    "outputId": "0fa99643-09e1-4657-e674-ff99c47c2de8"
   },
   "outputs": [
    {
     "data": {
      "text/plain": [
       "id        False\n",
       "gender    False\n",
       "age       False\n",
       "topic     False\n",
       "sign      False\n",
       "date      False\n",
       "text      False\n",
       "dtype: bool"
      ]
     },
     "execution_count": 6,
     "metadata": {
      "tags": []
     },
     "output_type": "execute_result"
    }
   ],
   "source": [
    "df.isna().any()"
   ]
  },
  {
   "cell_type": "code",
   "execution_count": 7,
   "metadata": {
    "colab": {
     "base_uri": "https://localhost:8080/"
    },
    "executionInfo": {
     "elapsed": 20430,
     "status": "ok",
     "timestamp": 1619584797704,
     "user": {
      "displayName": "Omkar Parab",
      "photoUrl": "https://lh3.googleusercontent.com/-k_5aDc4lY0s/AAAAAAAAAAI/AAAAAAAAY7M/CwjzItosNr8/s64/photo.jpg",
      "userId": "03333431617055937457"
     },
     "user_tz": -330
    },
    "id": "z3jG02DFYphV",
    "outputId": "d4bcc983-8bb5-4de0-ee01-878e75b1b22a"
   },
   "outputs": [
    {
     "data": {
      "text/plain": [
       "(681284, 7)"
      ]
     },
     "execution_count": 7,
     "metadata": {
      "tags": []
     },
     "output_type": "execute_result"
    }
   ],
   "source": [
    "df.shape"
   ]
  },
  {
   "cell_type": "code",
   "execution_count": 8,
   "metadata": {
    "executionInfo": {
     "elapsed": 20396,
     "status": "ok",
     "timestamp": 1619584797705,
     "user": {
      "displayName": "Omkar Parab",
      "photoUrl": "https://lh3.googleusercontent.com/-k_5aDc4lY0s/AAAAAAAAAAI/AAAAAAAAY7M/CwjzItosNr8/s64/photo.jpg",
      "userId": "03333431617055937457"
     },
     "user_tz": -330
    },
    "id": "tWXvDtSTKWd_"
   },
   "outputs": [],
   "source": [
    "df = df.head(10000) #as there are 6,81,124 records and its huge for computation which makes colab/jupyter crash, hence we are going to take a subset of the dataset"
   ]
  },
  {
   "cell_type": "code",
   "execution_count": 9,
   "metadata": {
    "colab": {
     "base_uri": "https://localhost:8080/"
    },
    "executionInfo": {
     "elapsed": 20359,
     "status": "ok",
     "timestamp": 1619584797706,
     "user": {
      "displayName": "Omkar Parab",
      "photoUrl": "https://lh3.googleusercontent.com/-k_5aDc4lY0s/AAAAAAAAAAI/AAAAAAAAY7M/CwjzItosNr8/s64/photo.jpg",
      "userId": "03333431617055937457"
     },
     "user_tz": -330
    },
    "id": "ZFrHY1e4ack7",
    "outputId": "393dd9f7-8ecb-4e5b-a263-9ca29d053287"
   },
   "outputs": [
    {
     "name": "stdout",
     "output_type": "stream",
     "text": [
      "<class 'pandas.core.frame.DataFrame'>\n",
      "RangeIndex: 10000 entries, 0 to 9999\n",
      "Data columns (total 7 columns):\n",
      " #   Column  Non-Null Count  Dtype \n",
      "---  ------  --------------  ----- \n",
      " 0   id      10000 non-null  int64 \n",
      " 1   gender  10000 non-null  object\n",
      " 2   age     10000 non-null  int64 \n",
      " 3   topic   10000 non-null  object\n",
      " 4   sign    10000 non-null  object\n",
      " 5   date    10000 non-null  object\n",
      " 6   text    10000 non-null  object\n",
      "dtypes: int64(2), object(5)\n",
      "memory usage: 547.0+ KB\n"
     ]
    }
   ],
   "source": [
    "df.info()"
   ]
  },
  {
   "cell_type": "markdown",
   "metadata": {
    "id": "NtO6x8E5bp68"
   },
   "source": [
    "# 2. Perform data pre-processing on the data:\n",
    "* Data cleansing by removing unwanted characters, spaces, stop words etc. Convert text to lowercase.\n",
    "* Target/label merger and transformation\n",
    "* Train and test split\n",
    "* Vectorisation, etc."
   ]
  },
  {
   "cell_type": "code",
   "execution_count": 10,
   "metadata": {
    "colab": {
     "base_uri": "https://localhost:8080/",
     "height": 195
    },
    "executionInfo": {
     "elapsed": 20270,
     "status": "ok",
     "timestamp": 1619584797706,
     "user": {
      "displayName": "Omkar Parab",
      "photoUrl": "https://lh3.googleusercontent.com/-k_5aDc4lY0s/AAAAAAAAAAI/AAAAAAAAY7M/CwjzItosNr8/s64/photo.jpg",
      "userId": "03333431617055937457"
     },
     "user_tz": -330
    },
    "id": "Dv_PKr4LbyMs",
    "outputId": "8b6533a8-8141-40ef-80c5-03a46f10d69a"
   },
   "outputs": [
    {
     "data": {
      "text/html": [
       "<div>\n",
       "<style scoped>\n",
       "    .dataframe tbody tr th:only-of-type {\n",
       "        vertical-align: middle;\n",
       "    }\n",
       "\n",
       "    .dataframe tbody tr th {\n",
       "        vertical-align: top;\n",
       "    }\n",
       "\n",
       "    .dataframe thead th {\n",
       "        text-align: right;\n",
       "    }\n",
       "</style>\n",
       "<table border=\"1\" class=\"dataframe\">\n",
       "  <thead>\n",
       "    <tr style=\"text-align: right;\">\n",
       "      <th></th>\n",
       "      <th>gender</th>\n",
       "      <th>age</th>\n",
       "      <th>topic</th>\n",
       "      <th>sign</th>\n",
       "      <th>text</th>\n",
       "    </tr>\n",
       "  </thead>\n",
       "  <tbody>\n",
       "    <tr>\n",
       "      <th>0</th>\n",
       "      <td>male</td>\n",
       "      <td>15</td>\n",
       "      <td>Student</td>\n",
       "      <td>Leo</td>\n",
       "      <td>Info has been found (+/- 100 pages,...</td>\n",
       "    </tr>\n",
       "    <tr>\n",
       "      <th>1</th>\n",
       "      <td>male</td>\n",
       "      <td>15</td>\n",
       "      <td>Student</td>\n",
       "      <td>Leo</td>\n",
       "      <td>These are the team members:   Drewe...</td>\n",
       "    </tr>\n",
       "    <tr>\n",
       "      <th>2</th>\n",
       "      <td>male</td>\n",
       "      <td>15</td>\n",
       "      <td>Student</td>\n",
       "      <td>Leo</td>\n",
       "      <td>In het kader van kernfusie op aarde...</td>\n",
       "    </tr>\n",
       "    <tr>\n",
       "      <th>3</th>\n",
       "      <td>male</td>\n",
       "      <td>15</td>\n",
       "      <td>Student</td>\n",
       "      <td>Leo</td>\n",
       "      <td>testing!!!  testing!!!</td>\n",
       "    </tr>\n",
       "    <tr>\n",
       "      <th>4</th>\n",
       "      <td>male</td>\n",
       "      <td>33</td>\n",
       "      <td>InvestmentBanking</td>\n",
       "      <td>Aquarius</td>\n",
       "      <td>Thanks to Yahoo!'s Toolbar I can ...</td>\n",
       "    </tr>\n",
       "  </tbody>\n",
       "</table>\n",
       "</div>"
      ],
      "text/plain": [
       "  gender  age  ...      sign                                               text\n",
       "0   male   15  ...       Leo             Info has been found (+/- 100 pages,...\n",
       "1   male   15  ...       Leo             These are the team members:   Drewe...\n",
       "2   male   15  ...       Leo             In het kader van kernfusie op aarde...\n",
       "3   male   15  ...       Leo                   testing!!!  testing!!!          \n",
       "4   male   33  ...  Aquarius               Thanks to Yahoo!'s Toolbar I can ...\n",
       "\n",
       "[5 rows x 5 columns]"
      ]
     },
     "execution_count": 10,
     "metadata": {
      "tags": []
     },
     "output_type": "execute_result"
    }
   ],
   "source": [
    "df.drop(['id','date'], axis=1, inplace=True) #removing unwanted columns\n",
    "df.head()"
   ]
  },
  {
   "cell_type": "code",
   "execution_count": 11,
   "metadata": {
    "executionInfo": {
     "elapsed": 20846,
     "status": "ok",
     "timestamp": 1619584798304,
     "user": {
      "displayName": "Omkar Parab",
      "photoUrl": "https://lh3.googleusercontent.com/-k_5aDc4lY0s/AAAAAAAAAAI/AAAAAAAAY7M/CwjzItosNr8/s64/photo.jpg",
      "userId": "03333431617055937457"
     },
     "user_tz": -330
    },
    "id": "CTm_TqGwpdb2"
   },
   "outputs": [],
   "source": [
    "import re\n",
    "df['clean_text']=df['text'].apply(lambda x: re.sub(r'[^A-Za-z]+',' ',x)) #removing unwanted characters"
   ]
  },
  {
   "cell_type": "code",
   "execution_count": 12,
   "metadata": {
    "executionInfo": {
     "elapsed": 20826,
     "status": "ok",
     "timestamp": 1619584798305,
     "user": {
      "displayName": "Omkar Parab",
      "photoUrl": "https://lh3.googleusercontent.com/-k_5aDc4lY0s/AAAAAAAAAAI/AAAAAAAAY7M/CwjzItosNr8/s64/photo.jpg",
      "userId": "03333431617055937457"
     },
     "user_tz": -330
    },
    "id": "BslRJAwTrY5p"
   },
   "outputs": [],
   "source": [
    "df['clean_text']=df['clean_text'].apply(lambda x: x.strip()) #removing spaces\n",
    "df['clean_text']=df['clean_text'].apply(lambda x: x.lower()) #converting to lower case"
   ]
  },
  {
   "cell_type": "code",
   "execution_count": 13,
   "metadata": {
    "colab": {
     "base_uri": "https://localhost:8080/",
     "height": 120
    },
    "executionInfo": {
     "elapsed": 20768,
     "status": "ok",
     "timestamp": 1619584798305,
     "user": {
      "displayName": "Omkar Parab",
      "photoUrl": "https://lh3.googleusercontent.com/-k_5aDc4lY0s/AAAAAAAAAAI/AAAAAAAAY7M/CwjzItosNr8/s64/photo.jpg",
      "userId": "03333431617055937457"
     },
     "user_tz": -330
    },
    "id": "atPDrBtCv0qH",
    "outputId": "53312574-525a-4765-e697-2d77e594c30a"
   },
   "outputs": [
    {
     "data": {
      "application/vnd.google.colaboratory.intrinsic+json": {
       "type": "string"
      },
      "text/plain": [
       "'if anything korea is a country of extremes everything here seems fad based i think it may come from korea s history it has been invaded a reported times over the years and each time they got independence i imagine they had to move quickly to get to the next level before the next war or occupation lately well not really lately in the japanese occupation ended then the korean war occurred from after that there was turmoil but in park chung hee took over as dictator president he had elections in which everyone was encouraged to vote but he was still a dictator after his assassination in the next few leaders were basically of the same ilk president park did some amazing things in his time however he took an incredibly backward country and set it on the road to industrialization japan had stripped korea of its resources people and even its language and culture many buildings and palaces were razed and japanese was the official language here from but president park was determined to change that he orchestrated the han river miracle the han river or hangang is the main river in seoul korea and korea made terrific strides if at the expense of some civil liberties fastforward to the present and my point and we see that korea is the world s wired nation more than canada finland and way beyond the u s a there was a craze to have pc s pc bangs or rooms everywhere in the country as well instead of playstation like games where players go against the computer or one or two people korean gamers always the communal types play online games with hundreds or thousands of others in typical korean fashion gamers who left their seat for a second could not pause their game in fact they may be eliminated so pcbang owners sold drinks ramen nooodles and other junk to their clientele it was just a matter of time before someone died as related in urllink this article yes someone died from being on the pc people thought he was just sleeping imagine how long he was there before they really checked him out but alas he was the first known casulty of the net in korea maybe the world korea built on extremes both good and bad'"
      ]
     },
     "execution_count": 13,
     "metadata": {
      "tags": []
     },
     "output_type": "execute_result"
    }
   ],
   "source": [
    "df['clean_text'][7]"
   ]
  },
  {
   "cell_type": "code",
   "execution_count": 14,
   "metadata": {
    "colab": {
     "base_uri": "https://localhost:8080/"
    },
    "executionInfo": {
     "elapsed": 20746,
     "status": "ok",
     "timestamp": 1619584798306,
     "user": {
      "displayName": "Omkar Parab",
      "photoUrl": "https://lh3.googleusercontent.com/-k_5aDc4lY0s/AAAAAAAAAAI/AAAAAAAAY7M/CwjzItosNr8/s64/photo.jpg",
      "userId": "03333431617055937457"
     },
     "user_tz": -330
    },
    "id": "rHiq8Q6cst0l",
    "outputId": "25835843-729d-4d3e-f6f8-8484d39e85d9"
   },
   "outputs": [
    {
     "name": "stdout",
     "output_type": "stream",
     "text": [
      "[nltk_data] Downloading package stopwords to /root/nltk_data...\n",
      "[nltk_data]   Unzipping corpora/stopwords.zip.\n"
     ]
    }
   ],
   "source": [
    "import nltk\n",
    "nltk.download('stopwords')\n",
    "from nltk.corpus import stopwords\n",
    "stopwords = set(stopwords.words('english'))"
   ]
  },
  {
   "cell_type": "code",
   "execution_count": 15,
   "metadata": {
    "executionInfo": {
     "elapsed": 21153,
     "status": "ok",
     "timestamp": 1619584798734,
     "user": {
      "displayName": "Omkar Parab",
      "photoUrl": "https://lh3.googleusercontent.com/-k_5aDc4lY0s/AAAAAAAAAAI/AAAAAAAAY7M/CwjzItosNr8/s64/photo.jpg",
      "userId": "03333431617055937457"
     },
     "user_tz": -330
    },
    "id": "cIWPGNGktrOD"
   },
   "outputs": [],
   "source": [
    "df['clean_text']=df['clean_text'].apply(lambda x: ' '.join([words for words in x.split() if words not in stopwords])) #removing stop words"
   ]
  },
  {
   "cell_type": "code",
   "execution_count": 16,
   "metadata": {
    "colab": {
     "base_uri": "https://localhost:8080/",
     "height": 120
    },
    "executionInfo": {
     "elapsed": 21101,
     "status": "ok",
     "timestamp": 1619584798735,
     "user": {
      "displayName": "Omkar Parab",
      "photoUrl": "https://lh3.googleusercontent.com/-k_5aDc4lY0s/AAAAAAAAAAI/AAAAAAAAY7M/CwjzItosNr8/s64/photo.jpg",
      "userId": "03333431617055937457"
     },
     "user_tz": -330
    },
    "id": "poe0ZMphwVIH",
    "outputId": "6ee4d572-c491-4b91-ce29-1039404a2e77"
   },
   "outputs": [
    {
     "data": {
      "application/vnd.google.colaboratory.intrinsic+json": {
       "type": "string"
      },
      "text/plain": [
       "'anything korea country extremes everything seems fad based think may come korea history invaded reported times years time got independence imagine move quickly get next level next war occupation lately well really lately japanese occupation ended korean war occurred turmoil park chung hee took dictator president elections everyone encouraged vote still dictator assassination next leaders basically ilk president park amazing things time however took incredibly backward country set road industrialization japan stripped korea resources people even language culture many buildings palaces razed japanese official language president park determined change orchestrated han river miracle han river hangang main river seoul korea korea made terrific strides expense civil liberties fastforward present point see korea world wired nation canada finland way beyond u craze pc pc bangs rooms everywhere country well instead playstation like games players go computer one two people korean gamers always communal types play online games hundreds thousands others typical korean fashion gamers left seat second could pause game fact may eliminated pcbang owners sold drinks ramen nooodles junk clientele matter time someone died related urllink article yes someone died pc people thought sleeping imagine long really checked alas first known casulty net korea maybe world korea built extremes good bad'"
      ]
     },
     "execution_count": 16,
     "metadata": {
      "tags": []
     },
     "output_type": "execute_result"
    }
   ],
   "source": [
    "df['clean_text'][7]"
   ]
  },
  {
   "cell_type": "code",
   "execution_count": 17,
   "metadata": {
    "executionInfo": {
     "elapsed": 21079,
     "status": "ok",
     "timestamp": 1619584798736,
     "user": {
      "displayName": "Omkar Parab",
      "photoUrl": "https://lh3.googleusercontent.com/-k_5aDc4lY0s/AAAAAAAAAAI/AAAAAAAAY7M/CwjzItosNr8/s64/photo.jpg",
      "userId": "03333431617055937457"
     },
     "user_tz": -330
    },
    "id": "tll08VqYvK_z"
   },
   "outputs": [],
   "source": [
    "df['labels']=df.apply(lambda col: [col['gender'],str(col['age']),col['topic'],col['sign']], axis=1) #merging all the other columns"
   ]
  },
  {
   "cell_type": "code",
   "execution_count": 18,
   "metadata": {
    "colab": {
     "base_uri": "https://localhost:8080/",
     "height": 195
    },
    "executionInfo": {
     "elapsed": 21058,
     "status": "ok",
     "timestamp": 1619584798736,
     "user": {
      "displayName": "Omkar Parab",
      "photoUrl": "https://lh3.googleusercontent.com/-k_5aDc4lY0s/AAAAAAAAAAI/AAAAAAAAY7M/CwjzItosNr8/s64/photo.jpg",
      "userId": "03333431617055937457"
     },
     "user_tz": -330
    },
    "id": "fAKoFDF1qGco",
    "outputId": "aad516c8-c2d8-4895-c973-afe838551012"
   },
   "outputs": [
    {
     "data": {
      "text/html": [
       "<div>\n",
       "<style scoped>\n",
       "    .dataframe tbody tr th:only-of-type {\n",
       "        vertical-align: middle;\n",
       "    }\n",
       "\n",
       "    .dataframe tbody tr th {\n",
       "        vertical-align: top;\n",
       "    }\n",
       "\n",
       "    .dataframe thead th {\n",
       "        text-align: right;\n",
       "    }\n",
       "</style>\n",
       "<table border=\"1\" class=\"dataframe\">\n",
       "  <thead>\n",
       "    <tr style=\"text-align: right;\">\n",
       "      <th></th>\n",
       "      <th>gender</th>\n",
       "      <th>age</th>\n",
       "      <th>topic</th>\n",
       "      <th>sign</th>\n",
       "      <th>text</th>\n",
       "      <th>clean_text</th>\n",
       "      <th>labels</th>\n",
       "    </tr>\n",
       "  </thead>\n",
       "  <tbody>\n",
       "    <tr>\n",
       "      <th>0</th>\n",
       "      <td>male</td>\n",
       "      <td>15</td>\n",
       "      <td>Student</td>\n",
       "      <td>Leo</td>\n",
       "      <td>Info has been found (+/- 100 pages,...</td>\n",
       "      <td>info found pages mb pdf files wait untill team...</td>\n",
       "      <td>[male, 15, Student, Leo]</td>\n",
       "    </tr>\n",
       "    <tr>\n",
       "      <th>1</th>\n",
       "      <td>male</td>\n",
       "      <td>15</td>\n",
       "      <td>Student</td>\n",
       "      <td>Leo</td>\n",
       "      <td>These are the team members:   Drewe...</td>\n",
       "      <td>team members drewes van der laag urllink mail ...</td>\n",
       "      <td>[male, 15, Student, Leo]</td>\n",
       "    </tr>\n",
       "    <tr>\n",
       "      <th>2</th>\n",
       "      <td>male</td>\n",
       "      <td>15</td>\n",
       "      <td>Student</td>\n",
       "      <td>Leo</td>\n",
       "      <td>In het kader van kernfusie op aarde...</td>\n",
       "      <td>het kader van kernfusie op aarde maak je eigen...</td>\n",
       "      <td>[male, 15, Student, Leo]</td>\n",
       "    </tr>\n",
       "    <tr>\n",
       "      <th>3</th>\n",
       "      <td>male</td>\n",
       "      <td>15</td>\n",
       "      <td>Student</td>\n",
       "      <td>Leo</td>\n",
       "      <td>testing!!!  testing!!!</td>\n",
       "      <td>testing testing</td>\n",
       "      <td>[male, 15, Student, Leo]</td>\n",
       "    </tr>\n",
       "    <tr>\n",
       "      <th>4</th>\n",
       "      <td>male</td>\n",
       "      <td>33</td>\n",
       "      <td>InvestmentBanking</td>\n",
       "      <td>Aquarius</td>\n",
       "      <td>Thanks to Yahoo!'s Toolbar I can ...</td>\n",
       "      <td>thanks yahoo toolbar capture urls popups means...</td>\n",
       "      <td>[male, 33, InvestmentBanking, Aquarius]</td>\n",
       "    </tr>\n",
       "  </tbody>\n",
       "</table>\n",
       "</div>"
      ],
      "text/plain": [
       "  gender  ...                                   labels\n",
       "0   male  ...                 [male, 15, Student, Leo]\n",
       "1   male  ...                 [male, 15, Student, Leo]\n",
       "2   male  ...                 [male, 15, Student, Leo]\n",
       "3   male  ...                 [male, 15, Student, Leo]\n",
       "4   male  ...  [male, 33, InvestmentBanking, Aquarius]\n",
       "\n",
       "[5 rows x 7 columns]"
      ]
     },
     "execution_count": 18,
     "metadata": {
      "tags": []
     },
     "output_type": "execute_result"
    }
   ],
   "source": [
    "df.head()"
   ]
  },
  {
   "cell_type": "code",
   "execution_count": 19,
   "metadata": {
    "executionInfo": {
     "elapsed": 21017,
     "status": "ok",
     "timestamp": 1619584798736,
     "user": {
      "displayName": "Omkar Parab",
      "photoUrl": "https://lh3.googleusercontent.com/-k_5aDc4lY0s/AAAAAAAAAAI/AAAAAAAAY7M/CwjzItosNr8/s64/photo.jpg",
      "userId": "03333431617055937457"
     },
     "user_tz": -330
    },
    "id": "flucvw8PwyJw"
   },
   "outputs": [],
   "source": [
    "df.drop(['gender','age','topic','sign','text'], axis=1, inplace=True)"
   ]
  },
  {
   "cell_type": "code",
   "execution_count": 20,
   "metadata": {
    "colab": {
     "base_uri": "https://localhost:8080/",
     "height": 195
    },
    "executionInfo": {
     "elapsed": 20975,
     "status": "ok",
     "timestamp": 1619584798737,
     "user": {
      "displayName": "Omkar Parab",
      "photoUrl": "https://lh3.googleusercontent.com/-k_5aDc4lY0s/AAAAAAAAAAI/AAAAAAAAY7M/CwjzItosNr8/s64/photo.jpg",
      "userId": "03333431617055937457"
     },
     "user_tz": -330
    },
    "id": "cq3YpRltxEND",
    "outputId": "1ee3117c-cc90-4463-8887-c93f4a27e852"
   },
   "outputs": [
    {
     "data": {
      "text/html": [
       "<div>\n",
       "<style scoped>\n",
       "    .dataframe tbody tr th:only-of-type {\n",
       "        vertical-align: middle;\n",
       "    }\n",
       "\n",
       "    .dataframe tbody tr th {\n",
       "        vertical-align: top;\n",
       "    }\n",
       "\n",
       "    .dataframe thead th {\n",
       "        text-align: right;\n",
       "    }\n",
       "</style>\n",
       "<table border=\"1\" class=\"dataframe\">\n",
       "  <thead>\n",
       "    <tr style=\"text-align: right;\">\n",
       "      <th></th>\n",
       "      <th>clean_text</th>\n",
       "      <th>labels</th>\n",
       "    </tr>\n",
       "  </thead>\n",
       "  <tbody>\n",
       "    <tr>\n",
       "      <th>0</th>\n",
       "      <td>info found pages mb pdf files wait untill team...</td>\n",
       "      <td>[male, 15, Student, Leo]</td>\n",
       "    </tr>\n",
       "    <tr>\n",
       "      <th>1</th>\n",
       "      <td>team members drewes van der laag urllink mail ...</td>\n",
       "      <td>[male, 15, Student, Leo]</td>\n",
       "    </tr>\n",
       "    <tr>\n",
       "      <th>2</th>\n",
       "      <td>het kader van kernfusie op aarde maak je eigen...</td>\n",
       "      <td>[male, 15, Student, Leo]</td>\n",
       "    </tr>\n",
       "    <tr>\n",
       "      <th>3</th>\n",
       "      <td>testing testing</td>\n",
       "      <td>[male, 15, Student, Leo]</td>\n",
       "    </tr>\n",
       "    <tr>\n",
       "      <th>4</th>\n",
       "      <td>thanks yahoo toolbar capture urls popups means...</td>\n",
       "      <td>[male, 33, InvestmentBanking, Aquarius]</td>\n",
       "    </tr>\n",
       "  </tbody>\n",
       "</table>\n",
       "</div>"
      ],
      "text/plain": [
       "                                          clean_text                                   labels\n",
       "0  info found pages mb pdf files wait untill team...                 [male, 15, Student, Leo]\n",
       "1  team members drewes van der laag urllink mail ...                 [male, 15, Student, Leo]\n",
       "2  het kader van kernfusie op aarde maak je eigen...                 [male, 15, Student, Leo]\n",
       "3                                    testing testing                 [male, 15, Student, Leo]\n",
       "4  thanks yahoo toolbar capture urls popups means...  [male, 33, InvestmentBanking, Aquarius]"
      ]
     },
     "execution_count": 20,
     "metadata": {
      "tags": []
     },
     "output_type": "execute_result"
    }
   ],
   "source": [
    "df.head()"
   ]
  },
  {
   "cell_type": "code",
   "execution_count": 21,
   "metadata": {
    "executionInfo": {
     "elapsed": 21275,
     "status": "ok",
     "timestamp": 1619584799061,
     "user": {
      "displayName": "Omkar Parab",
      "photoUrl": "https://lh3.googleusercontent.com/-k_5aDc4lY0s/AAAAAAAAAAI/AAAAAAAAY7M/CwjzItosNr8/s64/photo.jpg",
      "userId": "03333431617055937457"
     },
     "user_tz": -330
    },
    "id": "f9JsPGN_xF6x"
   },
   "outputs": [],
   "source": [
    "X = df['clean_text']\n",
    "y = df['labels']"
   ]
  },
  {
   "cell_type": "code",
   "execution_count": 22,
   "metadata": {
    "executionInfo": {
     "elapsed": 24248,
     "status": "ok",
     "timestamp": 1619584802071,
     "user": {
      "displayName": "Omkar Parab",
      "photoUrl": "https://lh3.googleusercontent.com/-k_5aDc4lY0s/AAAAAAAAAAI/AAAAAAAAY7M/CwjzItosNr8/s64/photo.jpg",
      "userId": "03333431617055937457"
     },
     "user_tz": -330
    },
    "id": "hH8qBqdb6JUL"
   },
   "outputs": [],
   "source": [
    "from sklearn.feature_extraction.text import CountVectorizer\n",
    "vectorizer = CountVectorizer(binary=True, ngram_range=(1,2))\n",
    "X = vectorizer.fit_transform(X)"
   ]
  },
  {
   "cell_type": "code",
   "execution_count": 23,
   "metadata": {
    "colab": {
     "base_uri": "https://localhost:8080/"
    },
    "executionInfo": {
     "elapsed": 25413,
     "status": "ok",
     "timestamp": 1619584803259,
     "user": {
      "displayName": "Omkar Parab",
      "photoUrl": "https://lh3.googleusercontent.com/-k_5aDc4lY0s/AAAAAAAAAAI/AAAAAAAAY7M/CwjzItosNr8/s64/photo.jpg",
      "userId": "03333431617055937457"
     },
     "user_tz": -330
    },
    "id": "fUr3orxjQVt_",
    "outputId": "56887bee-fb1d-45db-db53-e25f8da25930"
   },
   "outputs": [
    {
     "data": {
      "text/plain": [
       "['aa', 'aa amazing', 'aa anger', 'aa compared', 'aa keeps']"
      ]
     },
     "execution_count": 23,
     "metadata": {
      "tags": []
     },
     "output_type": "execute_result"
    }
   ],
   "source": [
    "vectorizer.get_feature_names()[:5]"
   ]
  },
  {
   "cell_type": "code",
   "execution_count": 24,
   "metadata": {
    "executionInfo": {
     "elapsed": 25357,
     "status": "ok",
     "timestamp": 1619584803259,
     "user": {
      "displayName": "Omkar Parab",
      "photoUrl": "https://lh3.googleusercontent.com/-k_5aDc4lY0s/AAAAAAAAAAI/AAAAAAAAY7M/CwjzItosNr8/s64/photo.jpg",
      "userId": "03333431617055937457"
     },
     "user_tz": -330
    },
    "id": "YaUGxQL08Ssm"
   },
   "outputs": [],
   "source": [
    "label_counts=dict()\n",
    "\n",
    "for labels in df.labels.values:\n",
    "    for label in labels:\n",
    "        if label in label_counts:\n",
    "            label_counts[label]+=1\n",
    "        else:\n",
    "            label_counts[label]=1"
   ]
  },
  {
   "cell_type": "code",
   "execution_count": 25,
   "metadata": {
    "executionInfo": {
     "elapsed": 25337,
     "status": "ok",
     "timestamp": 1619584803259,
     "user": {
      "displayName": "Omkar Parab",
      "photoUrl": "https://lh3.googleusercontent.com/-k_5aDc4lY0s/AAAAAAAAAAI/AAAAAAAAY7M/CwjzItosNr8/s64/photo.jpg",
      "userId": "03333431617055937457"
     },
     "user_tz": -330
    },
    "id": "JTQrKgDC8WUN"
   },
   "outputs": [],
   "source": [
    "from sklearn.preprocessing import MultiLabelBinarizer\n",
    "binarizer = MultiLabelBinarizer(classes=sorted(label_counts.keys()))\n",
    "y = binarizer.fit_transform(df.labels) #pre-processing labels"
   ]
  },
  {
   "cell_type": "markdown",
   "metadata": {
    "id": "4ExstxqDxwRG"
   },
   "source": [
    "# 3. Design, train, tune and test the best text classifier."
   ]
  },
  {
   "cell_type": "markdown",
   "metadata": {
    "id": "T2kPQ6ElP5Mm"
   },
   "source": [
    "Here we are using the One-vs-Rest approach, in this approach k classifiers are trained. As a basic classifier we are using LogisticRegression, it is one of the simplest methods but it performs good enough in text classification tasks."
   ]
  },
  {
   "cell_type": "code",
   "execution_count": 26,
   "metadata": {
    "executionInfo": {
     "elapsed": 25243,
     "status": "ok",
     "timestamp": 1619584803260,
     "user": {
      "displayName": "Omkar Parab",
      "photoUrl": "https://lh3.googleusercontent.com/-k_5aDc4lY0s/AAAAAAAAAAI/AAAAAAAAY7M/CwjzItosNr8/s64/photo.jpg",
      "userId": "03333431617055937457"
     },
     "user_tz": -330
    },
    "id": "BgY4k5N78zgW"
   },
   "outputs": [],
   "source": [
    "from sklearn.model_selection import train_test_split\n",
    "X_train, X_test, y_train, y_test = train_test_split(X,y,test_size=0.2)"
   ]
  },
  {
   "cell_type": "code",
   "execution_count": 27,
   "metadata": {
    "executionInfo": {
     "elapsed": 25193,
     "status": "ok",
     "timestamp": 1619584803260,
     "user": {
      "displayName": "Omkar Parab",
      "photoUrl": "https://lh3.googleusercontent.com/-k_5aDc4lY0s/AAAAAAAAAAI/AAAAAAAAY7M/CwjzItosNr8/s64/photo.jpg",
      "userId": "03333431617055937457"
     },
     "user_tz": -330
    },
    "id": "p6aKZaBU9Di1"
   },
   "outputs": [],
   "source": [
    "from sklearn.multiclass import OneVsRestClassifier\n",
    "from sklearn.linear_model import LogisticRegression\n",
    "\n",
    "model=LogisticRegression(solver='lbfgs')\n",
    "model=OneVsRestClassifier(model)"
   ]
  },
  {
   "cell_type": "code",
   "execution_count": 28,
   "metadata": {
    "colab": {
     "base_uri": "https://localhost:8080/"
    },
    "executionInfo": {
     "elapsed": 378297,
     "status": "ok",
     "timestamp": 1619585156387,
     "user": {
      "displayName": "Omkar Parab",
      "photoUrl": "https://lh3.googleusercontent.com/-k_5aDc4lY0s/AAAAAAAAAAI/AAAAAAAAY7M/CwjzItosNr8/s64/photo.jpg",
      "userId": "03333431617055937457"
     },
     "user_tz": -330
    },
    "id": "I0NVm3FbKWeJ",
    "outputId": "bb8a5bc5-4be7-4782-e920-fa6fbfa44e58"
   },
   "outputs": [
    {
     "data": {
      "text/plain": [
       "OneVsRestClassifier(estimator=LogisticRegression(C=1.0, class_weight=None,\n",
       "                                                 dual=False, fit_intercept=True,\n",
       "                                                 intercept_scaling=1,\n",
       "                                                 l1_ratio=None, max_iter=100,\n",
       "                                                 multi_class='auto',\n",
       "                                                 n_jobs=None, penalty='l2',\n",
       "                                                 random_state=None,\n",
       "                                                 solver='lbfgs', tol=0.0001,\n",
       "                                                 verbose=0, warm_start=False),\n",
       "                    n_jobs=None)"
      ]
     },
     "execution_count": 28,
     "metadata": {
      "tags": []
     },
     "output_type": "execute_result"
    }
   ],
   "source": [
    "model.fit(X_train,y_train)"
   ]
  },
  {
   "cell_type": "code",
   "execution_count": 29,
   "metadata": {
    "executionInfo": {
     "elapsed": 378279,
     "status": "ok",
     "timestamp": 1619585156388,
     "user": {
      "displayName": "Omkar Parab",
      "photoUrl": "https://lh3.googleusercontent.com/-k_5aDc4lY0s/AAAAAAAAAAI/AAAAAAAAY7M/CwjzItosNr8/s64/photo.jpg",
      "userId": "03333431617055937457"
     },
     "user_tz": -330
    },
    "id": "TmD_2fEM9MFQ"
   },
   "outputs": [],
   "source": [
    "y_pred=model.predict(X_test)"
   ]
  },
  {
   "cell_type": "markdown",
   "metadata": {
    "id": "816cNH7f99A_"
   },
   "source": [
    "# 4. Display and explain detail the classification report"
   ]
  },
  {
   "cell_type": "code",
   "execution_count": 30,
   "metadata": {
    "executionInfo": {
     "elapsed": 378184,
     "status": "ok",
     "timestamp": 1619585156389,
     "user": {
      "displayName": "Omkar Parab",
      "photoUrl": "https://lh3.googleusercontent.com/-k_5aDc4lY0s/AAAAAAAAAAI/AAAAAAAAY7M/CwjzItosNr8/s64/photo.jpg",
      "userId": "03333431617055937457"
     },
     "user_tz": -330
    },
    "id": "DuNruJNI-EIS"
   },
   "outputs": [],
   "source": [
    "from sklearn.metrics import accuracy_score\n",
    "from sklearn.metrics import f1_score\n",
    "from sklearn.metrics import average_precision_score\n",
    "from sklearn.metrics import recall_score\n",
    "\n",
    "def print_scores(y_test, y_pred, type):\n",
    "    print(type,'average\\n')\n",
    "    print('Accuracy score: ', accuracy_score(y_test, y_pred))\n",
    "    print('F1 score: ', f1_score(y_test, y_pred, average=type))\n",
    "    print('Average precision score: ', average_precision_score(y_test, y_pred, average=type))\n",
    "    print('Average recall score: ', recall_score(y_test, y_pred, average=type))"
   ]
  },
  {
   "cell_type": "code",
   "execution_count": 31,
   "metadata": {
    "colab": {
     "base_uri": "https://localhost:8080/"
    },
    "executionInfo": {
     "elapsed": 378162,
     "status": "ok",
     "timestamp": 1619585156389,
     "user": {
      "displayName": "Omkar Parab",
      "photoUrl": "https://lh3.googleusercontent.com/-k_5aDc4lY0s/AAAAAAAAAAI/AAAAAAAAY7M/CwjzItosNr8/s64/photo.jpg",
      "userId": "03333431617055937457"
     },
     "user_tz": -330
    },
    "id": "Jq1Zq-RxOskW",
    "outputId": "823615c6-f1cc-4a29-8e81-4c7d0c1a149f"
   },
   "outputs": [
    {
     "name": "stdout",
     "output_type": "stream",
     "text": [
      "micro average\n",
      "\n",
      "Accuracy score:  0.3095\n",
      "F1 score:  0.6345108695652174\n",
      "Average precision score:  0.4504245665015244\n",
      "Average recall score:  0.525375\n"
     ]
    }
   ],
   "source": [
    "print_scores(y_test, y_pred, 'micro')"
   ]
  },
  {
   "cell_type": "code",
   "execution_count": 32,
   "metadata": {
    "colab": {
     "base_uri": "https://localhost:8080/"
    },
    "executionInfo": {
     "elapsed": 378781,
     "status": "ok",
     "timestamp": 1619585157032,
     "user": {
      "displayName": "Omkar Parab",
      "photoUrl": "https://lh3.googleusercontent.com/-k_5aDc4lY0s/AAAAAAAAAAI/AAAAAAAAY7M/CwjzItosNr8/s64/photo.jpg",
      "userId": "03333431617055937457"
     },
     "user_tz": -330
    },
    "id": "_v84Mo4SGPL5",
    "outputId": "afd0f012-9f16-48cc-d314-88d0a73612aa"
   },
   "outputs": [
    {
     "name": "stdout",
     "output_type": "stream",
     "text": [
      "macro average\n",
      "\n",
      "Accuracy score:  0.3095\n",
      "F1 score:  0.22321097877988885\n",
      "Average precision score:  nan\n",
      "Average recall score:  0.1717297932829343\n"
     ]
    }
   ],
   "source": [
    "print_scores(y_test, y_pred, 'macro')"
   ]
  },
  {
   "cell_type": "code",
   "execution_count": 33,
   "metadata": {
    "colab": {
     "base_uri": "https://localhost:8080/"
    },
    "executionInfo": {
     "elapsed": 378762,
     "status": "ok",
     "timestamp": 1619585157033,
     "user": {
      "displayName": "Omkar Parab",
      "photoUrl": "https://lh3.googleusercontent.com/-k_5aDc4lY0s/AAAAAAAAAAI/AAAAAAAAY7M/CwjzItosNr8/s64/photo.jpg",
      "userId": "03333431617055937457"
     },
     "user_tz": -330
    },
    "id": "g14N5iU3Gd0D",
    "outputId": "a1003e24-8c0b-4783-8636-0ab030d8f339"
   },
   "outputs": [
    {
     "name": "stdout",
     "output_type": "stream",
     "text": [
      "weighted average\n",
      "\n",
      "Accuracy score:  0.3095\n",
      "F1 score:  0.5890015468141058\n",
      "Average precision score:  0.5085305700641577\n",
      "Average recall score:  0.525375\n"
     ]
    }
   ],
   "source": [
    "print_scores(y_test, y_pred, 'weighted')"
   ]
  },
  {
   "cell_type": "markdown",
   "metadata": {
    "id": "XgMQIyBT99hG"
   },
   "source": [
    "# 5. Print the true vs predicted labels for any 5 entries from the dataset"
   ]
  },
  {
   "cell_type": "code",
   "execution_count": 34,
   "metadata": {
    "executionInfo": {
     "elapsed": 378690,
     "status": "ok",
     "timestamp": 1619585157033,
     "user": {
      "displayName": "Omkar Parab",
      "photoUrl": "https://lh3.googleusercontent.com/-k_5aDc4lY0s/AAAAAAAAAAI/AAAAAAAAY7M/CwjzItosNr8/s64/photo.jpg",
      "userId": "03333431617055937457"
     },
     "user_tz": -330
    },
    "id": "AmwcZ5T1Qywg"
   },
   "outputs": [],
   "source": [
    "pred = y_pred[:10]\n",
    "actual = y_test[:10]"
   ]
  },
  {
   "cell_type": "code",
   "execution_count": 35,
   "metadata": {
    "colab": {
     "base_uri": "https://localhost:8080/"
    },
    "executionInfo": {
     "elapsed": 378662,
     "status": "ok",
     "timestamp": 1619585157034,
     "user": {
      "displayName": "Omkar Parab",
      "photoUrl": "https://lh3.googleusercontent.com/-k_5aDc4lY0s/AAAAAAAAAAI/AAAAAAAAY7M/CwjzItosNr8/s64/photo.jpg",
      "userId": "03333431617055937457"
     },
     "user_tz": -330
    },
    "id": "J18wOz6pOsP_",
    "outputId": "442367d2-7f87-4303-b9fa-e9538a11bd2d"
   },
   "outputs": [
    {
     "data": {
      "text/plain": [
       "[('24', 'Sagittarius', 'female', 'indUnk'),\n",
       " ('17', 'Cancer', 'Student', 'male'),\n",
       " ('35', 'Aries', 'Technology', 'male'),\n",
       " ('34', 'Sagittarius', 'female', 'indUnk'),\n",
       " ('25', 'Aries', 'Technology', 'male'),\n",
       " ('36', 'Aries', 'Fashion', 'male'),\n",
       " ('17', 'Scorpio', 'female', 'indUnk'),\n",
       " ('36', 'Aries', 'Fashion', 'male'),\n",
       " ('35', 'Aries', 'Technology', 'male'),\n",
       " ('37', 'Aquarius', 'female', 'indUnk')]"
      ]
     },
     "execution_count": 35,
     "metadata": {
      "tags": []
     },
     "output_type": "execute_result"
    }
   ],
   "source": [
    "actual = binarizer.inverse_transform(actual)\n",
    "actual"
   ]
  },
  {
   "cell_type": "code",
   "execution_count": 36,
   "metadata": {
    "colab": {
     "base_uri": "https://localhost:8080/"
    },
    "executionInfo": {
     "elapsed": 378616,
     "status": "ok",
     "timestamp": 1619585157034,
     "user": {
      "displayName": "Omkar Parab",
      "photoUrl": "https://lh3.googleusercontent.com/-k_5aDc4lY0s/AAAAAAAAAAI/AAAAAAAAY7M/CwjzItosNr8/s64/photo.jpg",
      "userId": "03333431617055937457"
     },
     "user_tz": -330
    },
    "id": "IpZDvBNBOvng",
    "outputId": "826b224b-29d7-4b7b-9f44-a374d69e8aba"
   },
   "outputs": [
    {
     "data": {
      "text/plain": [
       "[('Aries', 'male'),\n",
       " ('Student', 'male'),\n",
       " ('female',),\n",
       " ('34', 'Sagittarius', 'female', 'indUnk'),\n",
       " ('male',),\n",
       " ('female', 'indUnk'),\n",
       " ('female', 'indUnk'),\n",
       " ('36', 'Aries', 'Fashion', 'male'),\n",
       " ('male',),\n",
       " ('17', 'Scorpio', 'female', 'indUnk')]"
      ]
     },
     "execution_count": 36,
     "metadata": {
      "tags": []
     },
     "output_type": "execute_result"
    }
   ],
   "source": [
    "pred = binarizer.inverse_transform(pred)\n",
    "pred"
   ]
  },
  {
   "cell_type": "markdown",
   "metadata": {
    "id": "RXal11mWCeHn"
   },
   "source": [
    "# **PART II**\n",
    "# Design a python based interactive semi - rule based chatbot which can do the following:\n",
    "1. Start chat session with greetings and ask what the user is looking for.\n",
    "2. Accept dynamic text based questions from the user. Reply back with relevant answer from the designed corpus.\n",
    "3. End the chat session only if the user requests to end else ask what the user is looking for. Loop continues till the user asks to end it"
   ]
  },
  {
   "cell_type": "code",
   "execution_count": 37,
   "metadata": {
    "colab": {
     "base_uri": "https://localhost:8080/"
    },
    "executionInfo": {
     "elapsed": 382603,
     "status": "ok",
     "timestamp": 1619585161081,
     "user": {
      "displayName": "Omkar Parab",
      "photoUrl": "https://lh3.googleusercontent.com/-k_5aDc4lY0s/AAAAAAAAAAI/AAAAAAAAY7M/CwjzItosNr8/s64/photo.jpg",
      "userId": "03333431617055937457"
     },
     "user_tz": -330
    },
    "id": "YYDDR_bzSPxA",
    "outputId": "4c67fcb7-f2bc-454e-8ce4-1bc9f4e0f00b"
   },
   "outputs": [
    {
     "name": "stdout",
     "output_type": "stream",
     "text": [
      "Collecting tflearn\n",
      "\u001b[?25l  Downloading https://files.pythonhosted.org/packages/e7/3c/0b156d08ef3d4e2a8009ecab2af1ad2e304f6fb99562b6271c68a74a4397/tflearn-0.5.0.tar.gz (107kB)\n",
      "\r",
      "\u001b[K     |███                             | 10kB 18.1MB/s eta 0:00:01\r",
      "\u001b[K     |██████                          | 20kB 24.4MB/s eta 0:00:01\r",
      "\u001b[K     |█████████▏                      | 30kB 29.6MB/s eta 0:00:01\r",
      "\u001b[K     |████████████▏                   | 40kB 33.3MB/s eta 0:00:01\r",
      "\u001b[K     |███████████████▎                | 51kB 36.3MB/s eta 0:00:01\r",
      "\u001b[K     |██████████████████▎             | 61kB 39.0MB/s eta 0:00:01\r",
      "\u001b[K     |█████████████████████▍          | 71kB 37.6MB/s eta 0:00:01\r",
      "\u001b[K     |████████████████████████▍       | 81kB 30.3MB/s eta 0:00:01\r",
      "\u001b[K     |███████████████████████████▌    | 92kB 28.7MB/s eta 0:00:01\r",
      "\u001b[K     |██████████████████████████████▌ | 102kB 30.2MB/s eta 0:00:01\r",
      "\u001b[K     |████████████████████████████████| 112kB 30.2MB/s \n",
      "\u001b[?25hRequirement already satisfied: numpy in /usr/local/lib/python3.7/dist-packages (from tflearn) (1.19.5)\n",
      "Requirement already satisfied: six in /usr/local/lib/python3.7/dist-packages (from tflearn) (1.15.0)\n",
      "Requirement already satisfied: Pillow in /usr/local/lib/python3.7/dist-packages (from tflearn) (7.1.2)\n",
      "Building wheels for collected packages: tflearn\n",
      "  Building wheel for tflearn (setup.py) ... \u001b[?25l\u001b[?25hdone\n",
      "  Created wheel for tflearn: filename=tflearn-0.5.0-cp37-none-any.whl size=127301 sha256=034ffea6ba8473f3b979362f54e393f8cb77e6e5917436e1d9a71682654478c4\n",
      "  Stored in directory: /root/.cache/pip/wheels/31/d2/ed/fb9a0d301dd9586c11e9547120278e624227f22fd5f4baf744\n",
      "Successfully built tflearn\n",
      "Installing collected packages: tflearn\n",
      "Successfully installed tflearn-0.5.0\n"
     ]
    }
   ],
   "source": [
    "pip install tflearn"
   ]
  },
  {
   "cell_type": "code",
   "execution_count": 38,
   "metadata": {
    "colab": {
     "base_uri": "https://localhost:8080/"
    },
    "executionInfo": {
     "elapsed": 383716,
     "status": "ok",
     "timestamp": 1619585162220,
     "user": {
      "displayName": "Omkar Parab",
      "photoUrl": "https://lh3.googleusercontent.com/-k_5aDc4lY0s/AAAAAAAAAAI/AAAAAAAAY7M/CwjzItosNr8/s64/photo.jpg",
      "userId": "03333431617055937457"
     },
     "user_tz": -330
    },
    "id": "RRYSUnrpChfa",
    "outputId": "37a15e4f-a8fb-4e95-fb3f-7af86b1c0071"
   },
   "outputs": [
    {
     "name": "stdout",
     "output_type": "stream",
     "text": [
      "WARNING:tensorflow:From /usr/local/lib/python3.7/dist-packages/tensorflow/python/compat/v2_compat.py:96: disable_resource_variables (from tensorflow.python.ops.variable_scope) is deprecated and will be removed in a future version.\n",
      "Instructions for updating:\n",
      "non-resource variables are not supported in the long term\n"
     ]
    }
   ],
   "source": [
    "import nltk\n",
    "from nltk.stem.lancaster import LancasterStemmer\n",
    "stemmer = LancasterStemmer()\n",
    "\n",
    "import tflearn\n",
    "import tensorflow as tf\n",
    "\n",
    "import numpy\n",
    "import random"
   ]
  },
  {
   "cell_type": "code",
   "execution_count": 53,
   "metadata": {
    "colab": {
     "base_uri": "https://localhost:8080/"
    },
    "executionInfo": {
     "elapsed": 696,
     "status": "ok",
     "timestamp": 1619596226289,
     "user": {
      "displayName": "Omkar Parab",
      "photoUrl": "https://lh3.googleusercontent.com/-k_5aDc4lY0s/AAAAAAAAAAI/AAAAAAAAY7M/CwjzItosNr8/s64/photo.jpg",
      "userId": "03333431617055937457"
     },
     "user_tz": -330
    },
    "id": "aRUpyeTeCkb2",
    "outputId": "b8194e93-ed23-475d-db15-0036d18f839b"
   },
   "outputs": [
    {
     "name": "stdout",
     "output_type": "stream",
     "text": [
      "{'intents': [{'tag': 'Intro', 'patterns': ['hi', 'how are you', 'is anyone there', 'hello', 'whats up', 'hey', 'yo', 'listen', 'please help me', 'i am learner from', 'i belong to', 'aiml batch', 'aifl batch', 'i am from', 'my pm is', 'blended', 'online', 'i am from', 'hey ya', 'talking to you for first time'], 'responses': ['Hello! how can i help you ?'], 'context_set': ''}, {'tag': 'Exit', 'patterns': ['thank you', 'thanks', 'cya', 'see you', 'later', 'see you later', 'goodbye', 'i am leaving', 'have a Good day', 'you helped me', 'thanks a lot', 'thanks a ton', 'you are the best', 'great help', 'too good', 'you are a good learning buddy'], 'responses': ['I hope I was able to assist you, Good Bye'], 'context_set': ''}, {'tag': 'Olympus', 'patterns': ['olympus', 'explain me how olympus works', 'I am not able to understand olympus', 'olympus window not working', 'no access to olympus', 'unable to see link in olympus', 'no link visible on olympus', 'whom to contact for olympus', 'lot of problem with olympus', 'olypus is not a good tool', 'lot of problems with olympus', 'how to use olympus', 'teach me olympus'], 'responses': ['Link: Olympus wiki'], 'context_set': ''}, {'tag': 'SL', 'patterns': ['i am not able to understand svm', 'explain me how machine learning works', 'i am not able to understand naive bayes', 'i am not able to understand logistic regression', 'i am not able to understand ensemble techb=niques', 'i am not able to understand knn', 'i am not able to understand knn imputer', 'i am not able to understand cross validation', 'i am not able to understand boosting', 'i am not able to understand random forest', 'i am not able to understand ada boosting', 'i am not able to understand gradient boosting', 'machine learning', 'ML', 'SL', 'supervised learning', 'knn', 'logistic regression', 'regression', 'classification', 'naive bayes', 'nb', 'ensemble techniques', 'bagging', 'boosting', 'ada boosting', 'ada', 'gradient boosting', 'hyper parameters'], 'responses': ['Link: Machine Learning wiki '], 'context_set': ''}, {'tag': 'NN', 'patterns': ['what is deep learning', 'unable to understand deep learning', 'explain me how deep learning works', 'i am not able to understand deep learning', 'not able to understand neural nets', 'very diffult to understand neural nets', 'unable to understand neural nets', 'ann', 'artificial intelligence', 'artificial neural networks', 'weights', 'activation function', 'hidden layers', 'softmax', 'sigmoid', 'relu', 'otimizer', 'forward propagation', 'backward propagation', 'epochs', 'epoch', 'what is an epoch', 'adam', 'sgd'], 'responses': ['Link: Neural Nets wiki'], 'context_set': ''}, {'tag': 'Bot', 'patterns': ['what is your name', 'who are you', 'name please', 'when are your hours of opertions', 'what are your working hours', 'hours of operation', 'working hours', 'hours'], 'responses': ['I am your virtual learning assistant'], 'context_set': ''}, {'tag': 'Profane', 'patterns': ['what the hell', 'bloody stupid bot', 'do you think you are very smart', 'screw you', 'i hate you', 'you are stupid', 'jerk', 'you are a joke', 'useless piece of shit'], 'responses': ['Please use respectful words'], 'context_set': ''}, {'tag': 'Ticket', 'patterns': ['my problem is not solved', 'you did not help me', 'not a good solution', 'bad solution', 'not good solution', 'no help', 'wasted my time', 'useless bot', 'create a ticket'], 'responses': ['Tarnsferring the request to your PM'], 'context_set': ''}]}\n"
     ]
    }
   ],
   "source": [
    "#importing corpus\n",
    "import json\n",
    "with open('GL Bot.json') as file:\n",
    "  corpus = json.load(file)\n",
    "\n",
    "#display corpus\n",
    "print(corpus)"
   ]
  },
  {
   "cell_type": "code",
   "execution_count": 40,
   "metadata": {
    "colab": {
     "base_uri": "https://localhost:8080/"
    },
    "executionInfo": {
     "elapsed": 384639,
     "status": "ok",
     "timestamp": 1619585163210,
     "user": {
      "displayName": "Omkar Parab",
      "photoUrl": "https://lh3.googleusercontent.com/-k_5aDc4lY0s/AAAAAAAAAAI/AAAAAAAAY7M/CwjzItosNr8/s64/photo.jpg",
      "userId": "03333431617055937457"
     },
     "user_tz": -330
    },
    "id": "ENwo5xgJCqc-",
    "outputId": "2ea1969e-ad95-4f4c-d878-1299b369348e"
   },
   "outputs": [
    {
     "name": "stdout",
     "output_type": "stream",
     "text": [
      "[nltk_data] Downloading package punkt to /root/nltk_data...\n",
      "[nltk_data]   Unzipping tokenizers/punkt.zip.\n"
     ]
    },
    {
     "data": {
      "text/plain": [
       "True"
      ]
     },
     "execution_count": 40,
     "metadata": {
      "tags": []
     },
     "output_type": "execute_result"
    }
   ],
   "source": [
    "nltk.download('punkt')"
   ]
  },
  {
   "cell_type": "code",
   "execution_count": 41,
   "metadata": {
    "executionInfo": {
     "elapsed": 384605,
     "status": "ok",
     "timestamp": 1619585163211,
     "user": {
      "displayName": "Omkar Parab",
      "photoUrl": "https://lh3.googleusercontent.com/-k_5aDc4lY0s/AAAAAAAAAAI/AAAAAAAAY7M/CwjzItosNr8/s64/photo.jpg",
      "userId": "03333431617055937457"
     },
     "user_tz": -330
    },
    "id": "RiWakZ1GCs7Q"
   },
   "outputs": [],
   "source": [
    "#extract data\n",
    "\n",
    "W = []\n",
    "L = []\n",
    "doc_x = []\n",
    "doc_y = []\n",
    "\n",
    "for intent in corpus['intents']:\n",
    "  for pattern in intent['patterns']:\n",
    "    w_temp = nltk.word_tokenize(pattern)\n",
    "    W.extend(w_temp)\n",
    "    doc_x.append(w_temp)\n",
    "    doc_y.append(intent['tag'])\n",
    "\n",
    "  if intent['tag'] not in L:\n",
    "    L.append(intent['tag'])"
   ]
  },
  {
   "cell_type": "code",
   "execution_count": 42,
   "metadata": {
    "colab": {
     "base_uri": "https://localhost:8080/"
    },
    "executionInfo": {
     "elapsed": 384560,
     "status": "ok",
     "timestamp": 1619585163211,
     "user": {
      "displayName": "Omkar Parab",
      "photoUrl": "https://lh3.googleusercontent.com/-k_5aDc4lY0s/AAAAAAAAAAI/AAAAAAAAY7M/CwjzItosNr8/s64/photo.jpg",
      "userId": "03333431617055937457"
     },
     "user_tz": -330
    },
    "id": "DLy5FqHvCu7R",
    "outputId": "91523c71-abb0-4e1f-e5c4-425454181c3c"
   },
   "outputs": [
    {
     "data": {
      "text/plain": [
       "['a',\n",
       " 'abl',\n",
       " 'access',\n",
       " 'act',\n",
       " 'ad',\n",
       " 'adam',\n",
       " 'aifl',\n",
       " 'aiml',\n",
       " 'am',\n",
       " 'an',\n",
       " 'anyon',\n",
       " 'ar',\n",
       " 'art',\n",
       " 'backward',\n",
       " 'bad',\n",
       " 'bag',\n",
       " 'batch',\n",
       " 'bay',\n",
       " 'belong',\n",
       " 'best',\n",
       " 'blend',\n",
       " 'bloody',\n",
       " 'boost',\n",
       " 'bot',\n",
       " 'buddy',\n",
       " 'class',\n",
       " 'contact',\n",
       " 'cre',\n",
       " 'cross',\n",
       " 'cya',\n",
       " 'day',\n",
       " 'deep',\n",
       " 'did',\n",
       " 'diffult',\n",
       " 'do',\n",
       " 'ensembl',\n",
       " 'epoch',\n",
       " 'explain',\n",
       " 'first',\n",
       " 'for',\n",
       " 'forest',\n",
       " 'forward',\n",
       " 'from',\n",
       " 'funct',\n",
       " 'good',\n",
       " 'goodby',\n",
       " 'grady',\n",
       " 'gre',\n",
       " 'hat',\n",
       " 'hav',\n",
       " 'hel',\n",
       " 'hello',\n",
       " 'help',\n",
       " 'hey',\n",
       " 'hi',\n",
       " 'hid',\n",
       " 'hour',\n",
       " 'how',\n",
       " 'hyp',\n",
       " 'i',\n",
       " 'imput',\n",
       " 'in',\n",
       " 'intellig',\n",
       " 'is',\n",
       " 'jerk',\n",
       " 'jok',\n",
       " 'knn',\n",
       " 'lat',\n",
       " 'lay',\n",
       " 'learn',\n",
       " 'leav',\n",
       " 'link',\n",
       " 'list',\n",
       " 'log',\n",
       " 'lot',\n",
       " 'machin',\n",
       " 'me',\n",
       " 'ml',\n",
       " 'my',\n",
       " 'naiv',\n",
       " 'nam',\n",
       " 'nb',\n",
       " 'net',\n",
       " 'network',\n",
       " 'neur',\n",
       " 'no',\n",
       " 'not',\n",
       " 'of',\n",
       " 'olymp',\n",
       " 'olyp',\n",
       " 'on',\n",
       " 'onlin',\n",
       " 'op',\n",
       " 'opert',\n",
       " 'otim',\n",
       " 'paramet',\n",
       " 'piec',\n",
       " 'pleas',\n",
       " 'pm',\n",
       " 'problem',\n",
       " 'prop',\n",
       " 'random',\n",
       " 'regress',\n",
       " 'relu',\n",
       " 'screw',\n",
       " 'see',\n",
       " 'sgd',\n",
       " 'shit',\n",
       " 'sigmoid',\n",
       " 'sl',\n",
       " 'smart',\n",
       " 'softmax',\n",
       " 'solv',\n",
       " 'stupid',\n",
       " 'superv',\n",
       " 'svm',\n",
       " 'talk',\n",
       " 'teach',\n",
       " 'techb=niques',\n",
       " 'techn',\n",
       " 'thank',\n",
       " 'the',\n",
       " 'ther',\n",
       " 'think',\n",
       " 'ticket',\n",
       " 'tim',\n",
       " 'to',\n",
       " 'ton',\n",
       " 'too',\n",
       " 'tool',\n",
       " 'un',\n",
       " 'understand',\n",
       " 'up',\n",
       " 'us',\n",
       " 'useless',\n",
       " 'valid',\n",
       " 'very',\n",
       " 'vis',\n",
       " 'wast',\n",
       " 'weight',\n",
       " 'what',\n",
       " 'when',\n",
       " 'who',\n",
       " 'whom',\n",
       " 'window',\n",
       " 'with',\n",
       " 'work',\n",
       " 'ya',\n",
       " 'yo',\n",
       " 'you']"
      ]
     },
     "execution_count": 42,
     "metadata": {
      "tags": []
     },
     "output_type": "execute_result"
    }
   ],
   "source": [
    "#stemming\n",
    "\n",
    "W = [stemmer.stem(w.lower()) for w in W if w != \"?\"]\n",
    "W = sorted(list(set(W)))\n",
    "L = sorted(L)\n",
    "\n",
    "#words\n",
    "W"
   ]
  },
  {
   "cell_type": "code",
   "execution_count": 43,
   "metadata": {
    "colab": {
     "base_uri": "https://localhost:8080/"
    },
    "executionInfo": {
     "elapsed": 384540,
     "status": "ok",
     "timestamp": 1619585163212,
     "user": {
      "displayName": "Omkar Parab",
      "photoUrl": "https://lh3.googleusercontent.com/-k_5aDc4lY0s/AAAAAAAAAAI/AAAAAAAAY7M/CwjzItosNr8/s64/photo.jpg",
      "userId": "03333431617055937457"
     },
     "user_tz": -330
    },
    "id": "MCJls4fJCu4w",
    "outputId": "72b8f42e-1eeb-423a-b548-c17629b53ca4"
   },
   "outputs": [
    {
     "data": {
      "text/plain": [
       "['Bot', 'Exit', 'Intro', 'NN', 'Olympus', 'Profane', 'SL', 'Ticket']"
      ]
     },
     "execution_count": 43,
     "metadata": {
      "tags": []
     },
     "output_type": "execute_result"
    }
   ],
   "source": [
    "#tags\n",
    "L"
   ]
  },
  {
   "cell_type": "code",
   "execution_count": 44,
   "metadata": {
    "executionInfo": {
     "elapsed": 384911,
     "status": "ok",
     "timestamp": 1619585163613,
     "user": {
      "displayName": "Omkar Parab",
      "photoUrl": "https://lh3.googleusercontent.com/-k_5aDc4lY0s/AAAAAAAAAAI/AAAAAAAAY7M/CwjzItosNr8/s64/photo.jpg",
      "userId": "03333431617055937457"
     },
     "user_tz": -330
    },
    "id": "A3pOJPL7Cu20"
   },
   "outputs": [],
   "source": [
    "Train = []\n",
    "Target = []\n",
    "\n",
    "out_empty = [0 for _ in range(len(L))]\n",
    "\n",
    "#loop to create bag of words and put the frequency count on each word\n",
    "for x, doc in  enumerate(doc_x):\n",
    "  bag = []\n",
    "  w_temp = [stemmer.stem(w.lower()) for w in doc]\n",
    "  for w in W:\n",
    "    if w in w_temp:\n",
    "      bag.append(1)\n",
    "    else:\n",
    "      bag.append(0)\n",
    "    output_row = out_empty[:]\n",
    "    output_row[L.index(doc_y[x])] = 1\n",
    "\n",
    "    Train.append(bag)\n",
    "    Target.append(output_row)"
   ]
  },
  {
   "cell_type": "code",
   "execution_count": 45,
   "metadata": {
    "executionInfo": {
     "elapsed": 384867,
     "status": "ok",
     "timestamp": 1619585163614,
     "user": {
      "displayName": "Omkar Parab",
      "photoUrl": "https://lh3.googleusercontent.com/-k_5aDc4lY0s/AAAAAAAAAAI/AAAAAAAAY7M/CwjzItosNr8/s64/photo.jpg",
      "userId": "03333431617055937457"
     },
     "user_tz": -330
    },
    "id": "IwoW0znkCuz_"
   },
   "outputs": [],
   "source": [
    "#converting to numpy arrays\n",
    "\n",
    "Train = numpy.array(Train)\n",
    "Target = numpy.array(Target)"
   ]
  },
  {
   "cell_type": "code",
   "execution_count": 46,
   "metadata": {
    "colab": {
     "base_uri": "https://localhost:8080/"
    },
    "executionInfo": {
     "elapsed": 390534,
     "status": "ok",
     "timestamp": 1619585169307,
     "user": {
      "displayName": "Omkar Parab",
      "photoUrl": "https://lh3.googleusercontent.com/-k_5aDc4lY0s/AAAAAAAAAAI/AAAAAAAAY7M/CwjzItosNr8/s64/photo.jpg",
      "userId": "03333431617055937457"
     },
     "user_tz": -330
    },
    "id": "FC9uylaJCuxW",
    "outputId": "de59b0a0-eccd-44d2-e620-1933da288837"
   },
   "outputs": [
    {
     "name": "stdout",
     "output_type": "stream",
     "text": [
      "WARNING:tensorflow:From /usr/local/lib/python3.7/dist-packages/tflearn/initializations.py:165: calling TruncatedNormal.__init__ (from tensorflow.python.ops.init_ops) with dtype is deprecated and will be removed in a future version.\n",
      "Instructions for updating:\n",
      "Call initializer instance with the dtype argument instead of passing it to the constructor\n"
     ]
    }
   ],
   "source": [
    "from tensorflow.python.framework import ops\n",
    "ops.reset_default_graph()\n",
    "\n",
    "FCNN = tflearn.input_data(shape=[None, len(Train[0])]) #input layer\n",
    "FCNN = tflearn.fully_connected(FCNN, 8)\n",
    "FCNN = tflearn.fully_connected(FCNN, 8)\n",
    "FCNN = tflearn.fully_connected(FCNN, len(Target[0]), activation='softmax') #output layer with size equal to number of tags\n",
    "\n",
    "FCNN = tflearn.regression(FCNN)\n",
    "model = tflearn.DNN(FCNN) #fully connected neural network model"
   ]
  },
  {
   "cell_type": "code",
   "execution_count": 47,
   "metadata": {
    "colab": {
     "base_uri": "https://localhost:8080/"
    },
    "executionInfo": {
     "elapsed": 2746893,
     "status": "ok",
     "timestamp": 1619594245175,
     "user": {
      "displayName": "Omkar Parab",
      "photoUrl": "https://lh3.googleusercontent.com/-k_5aDc4lY0s/AAAAAAAAAAI/AAAAAAAAY7M/CwjzItosNr8/s64/photo.jpg",
      "userId": "03333431617055937457"
     },
     "user_tz": -330
    },
    "id": "UpAQPAZEC0QX",
    "outputId": "7bb4a0fe-131b-4d89-e9c6-025ab4c6c643"
   },
   "outputs": [
    {
     "name": "stdout",
     "output_type": "stream",
     "text": [
      "Training Step: 239999  | total loss: \u001b[1m\u001b[32m0.00000\u001b[0m\u001b[0m | time: 14.788s\n",
      "| Adam | epoch: 100 | loss: 0.00000 - acc: 1.0000 -- iter: 19192/19200\n",
      "Training Step: 240000  | total loss: \u001b[1m\u001b[32m0.00000\u001b[0m\u001b[0m | time: 14.792s\n",
      "| Adam | epoch: 100 | loss: 0.00000 - acc: 1.0000 -- iter: 19200/19200\n",
      "--\n",
      "INFO:tensorflow:/content/drive/My Drive/model.tflearn is not in all_model_checkpoint_paths. Manually adding it.\n"
     ]
    }
   ],
   "source": [
    "model.fit(Train, Target, n_epoch=100, batch_size=8, show_metric=True)\n",
    "model.save('model.tflearn')"
   ]
  },
  {
   "cell_type": "code",
   "execution_count": 57,
   "metadata": {
    "executionInfo": {
     "elapsed": 826,
     "status": "ok",
     "timestamp": 1619598005393,
     "user": {
      "displayName": "Omkar Parab",
      "photoUrl": "https://lh3.googleusercontent.com/-k_5aDc4lY0s/AAAAAAAAAAI/AAAAAAAAY7M/CwjzItosNr8/s64/photo.jpg",
      "userId": "03333431617055937457"
     },
     "user_tz": -330
    },
    "id": "D2yYD_PUC0OP"
   },
   "outputs": [],
   "source": [
    "def bag_of_words(s, W):\n",
    "  bag = [0 for _ in range(len(W))]\n",
    "\n",
    "  s_words = nltk.word_tokenize((s))\n",
    "  s_words = [stemmer.stem(word.lower()) for word in s_words]\n",
    "\n",
    "  for se in s_words:\n",
    "    for i,w in enumerate(W):\n",
    "      if w == se:\n",
    "        bag[i] = 1\n",
    "  return numpy.array(bag)\n",
    "\n",
    "def chat():\n",
    "  print(\"Chat with GL Bot (type: stop to quit)\")\n",
    "  print(\"If answer is not right (type: *)\")\n",
    "  while True:\n",
    "    inp = input(\"\\n\\nYou: \")\n",
    "    if inp.lower()==\"*\":\n",
    "      print(\"BOT: Please rephrase your question and try again\")\n",
    "    if inp.lower() == \"quit\":\n",
    "      break\n",
    "    results = model.predict([bag_of_words(inp, W)])\n",
    "    results_index = numpy.argmax(results)\n",
    "    tag = L[results_index]\n",
    "\n",
    "    for tg in corpus[\"intents\"]:\n",
    "      if tg['tag'] == tag:\n",
    "        responses = tg['responses']\n",
    "  \n",
    "    print(random.choice(responses))"
   ]
  },
  {
   "cell_type": "code",
   "execution_count": 64,
   "metadata": {
    "colab": {
     "base_uri": "https://localhost:8080/"
    },
    "executionInfo": {
     "elapsed": 102332,
     "status": "ok",
     "timestamp": 1619598664346,
     "user": {
      "displayName": "Omkar Parab",
      "photoUrl": "https://lh3.googleusercontent.com/-k_5aDc4lY0s/AAAAAAAAAAI/AAAAAAAAY7M/CwjzItosNr8/s64/photo.jpg",
      "userId": "03333431617055937457"
     },
     "user_tz": -330
    },
    "id": "o6PRk2GgC0Lz",
    "outputId": "744ddfd8-afbe-46df-adb6-1807c7aeced0"
   },
   "outputs": [
    {
     "name": "stdout",
     "output_type": "stream",
     "text": [
      "Chat with GL Bot (type: stop to quit)\n",
      "If answer is not right (type: *)\n",
      "\n",
      "\n",
      "You: hi\n",
      "Hello! how can i help you ?\n",
      "\n",
      "\n",
      "You: who are you\n",
      "I am your virtual learning assistant\n",
      "\n",
      "\n",
      "You: i need CNN class material\n",
      "Link: Machine Learning wiki \n",
      "\n",
      "\n",
      "You: create a ticket\n",
      "Tarnsferring the request to your PM\n",
      "\n",
      "\n",
      "You: useless bot\n",
      "Tarnsferring the request to your PM\n",
      "\n",
      "\n",
      "You: bad\n",
      "Tarnsferring the request to your PM\n",
      "\n",
      "\n",
      "You: goodbye\n",
      "I hope I was able to assist you, Good Bye\n",
      "\n",
      "\n",
      "You: quit\n"
     ]
    }
   ],
   "source": [
    "chat()"
   ]
  }
 ],
 "metadata": {
  "accelerator": "GPU",
  "colab": {
   "collapsed_sections": [],
   "name": "Statistical_NLP_Project_1.ipynb",
   "provenance": []
  },
  "kernelspec": {
   "display_name": "Python 3",
   "language": "python",
   "name": "python3"
  },
  "language_info": {
   "codemirror_mode": {
    "name": "ipython",
    "version": 3
   },
   "file_extension": ".py",
   "mimetype": "text/x-python",
   "name": "python",
   "nbconvert_exporter": "python",
   "pygments_lexer": "ipython3",
   "version": "3.9.4"
  }
 },
 "nbformat": 4,
 "nbformat_minor": 1
}
