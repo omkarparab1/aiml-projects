{
 "cells": [
  {
   "cell_type": "markdown",
   "metadata": {
    "id": "OTeRw_jqTOPu"
   },
   "source": [
    "# The objective of the project is to learn how to implement a simple image classification pipeline based on a deep neural network and understand the basics of Image Classification"
   ]
  },
  {
   "cell_type": "code",
   "execution_count": 24,
   "metadata": {
    "colab": {
     "base_uri": "https://localhost:8080/"
    },
    "id": "FwS_P9-EnA7n",
    "outputId": "e6e31c01-a4f0-459e-daa5-38c75039db7b"
   },
   "outputs": [
    {
     "name": "stdout",
     "output_type": "stream",
     "text": [
      "Drive already mounted at /content/drive; to attempt to forcibly remount, call drive.mount(\"/content/drive\", force_remount=True).\n"
     ]
    }
   ],
   "source": [
    "from google.colab import drive\n",
    "drive.mount('/content/drive')"
   ]
  },
  {
   "cell_type": "code",
   "execution_count": 25,
   "metadata": {
    "id": "U8lDrOanTKtD"
   },
   "outputs": [],
   "source": [
    "import h5py\n",
    "%matplotlib inline\n",
    "import matplotlib.pyplot as plt\n",
    "from tensorflow.keras.utils import to_categorical\n",
    "from tensorflow.keras import optimizers\n",
    "from tensorflow.keras.models import Sequential\n",
    "from tensorflow.keras.layers import Dense, Flatten"
   ]
  },
  {
   "cell_type": "markdown",
   "metadata": {
    "id": "PmpX-Frpns99"
   },
   "source": [
    "# Read the data from the h5py file and understand the train/test splits (10 points)"
   ]
  },
  {
   "cell_type": "code",
   "execution_count": 26,
   "metadata": {
    "colab": {
     "base_uri": "https://localhost:8080/"
    },
    "id": "xyAPMt0MnvMA",
    "outputId": "59e6a143-6f25-4136-967f-bc7a1360f8ac"
   },
   "outputs": [
    {
     "data": {
      "text/plain": [
       "<KeysViewHDF5 ['X_test', 'X_train', 'X_val', 'y_test', 'y_train', 'y_val']>"
      ]
     },
     "execution_count": 26,
     "metadata": {
      "tags": []
     },
     "output_type": "execute_result"
    }
   ],
   "source": [
    "import h5py\n",
    "\n",
    "# Open the file as readonly\n",
    "h5f = h5py.File('/content/drive/My Drive/SVHN_single_grey1.h5', 'r')\n",
    "h5f.keys()"
   ]
  },
  {
   "cell_type": "code",
   "execution_count": 27,
   "metadata": {
    "id": "tJkIMeVon5yd"
   },
   "outputs": [],
   "source": [
    "# Load the training, test and validation set\n",
    "X_train = h5f['X_train'][:]\n",
    "y_train = h5f['y_train'][:]\n",
    "X_test = h5f['X_test'][:]\n",
    "y_test = h5f['y_test'][:]"
   ]
  },
  {
   "cell_type": "code",
   "execution_count": 28,
   "metadata": {
    "colab": {
     "base_uri": "https://localhost:8080/"
    },
    "id": "W3AbtifDukZK",
    "outputId": "04ca4101-4e61-429d-dd7c-c7e1da953145"
   },
   "outputs": [
    {
     "name": "stdout",
     "output_type": "stream",
     "text": [
      "(42000, 32, 32)\n",
      "(42000,)\n",
      "(18000, 32, 32)\n",
      "(18000,)\n"
     ]
    }
   ],
   "source": [
    "# checking shapes of data\n",
    "print(X_train.shape)\n",
    "print(y_train.shape)\n",
    "print(X_test.shape)\n",
    "print(y_test.shape)"
   ]
  },
  {
   "cell_type": "code",
   "execution_count": 29,
   "metadata": {
    "colab": {
     "base_uri": "https://localhost:8080/"
    },
    "id": "qVGJNGQIoYiJ",
    "outputId": "f29ce90d-4a7a-4151-c956-4f2f0147cc45"
   },
   "outputs": [
    {
     "data": {
      "text/plain": [
       "array([[[ 33.0704,  30.2601,  26.852 , ...,  71.4471,  58.2204,\n",
       "          42.9939],\n",
       "        [ 25.2283,  25.5533,  29.9765, ..., 113.0209, 103.3639,\n",
       "          84.2949],\n",
       "        [ 26.2775,  22.6137,  40.4763, ..., 113.3028, 121.775 ,\n",
       "         115.4228],\n",
       "        ...,\n",
       "        [ 28.5502,  36.212 ,  45.0801, ...,  24.1359,  25.0927,\n",
       "          26.0603],\n",
       "        [ 38.4352,  26.4733,  23.2717, ...,  28.1094,  29.4683,\n",
       "          30.0661],\n",
       "        [ 50.2984,  26.0773,  24.0389, ...,  49.6682,  50.853 ,\n",
       "          53.0377]]], dtype=float32)"
      ]
     },
     "execution_count": 29,
     "metadata": {
      "tags": []
     },
     "output_type": "execute_result"
    }
   ],
   "source": [
    "X_train[:1]"
   ]
  },
  {
   "cell_type": "code",
   "execution_count": 30,
   "metadata": {
    "colab": {
     "base_uri": "https://localhost:8080/"
    },
    "id": "vq72Ih_hoqFu",
    "outputId": "8816c49d-8cc7-46b8-d1b1-1d39734bb3e4"
   },
   "outputs": [
    {
     "data": {
      "text/plain": [
       "array([2], dtype=uint8)"
      ]
     },
     "execution_count": 30,
     "metadata": {
      "tags": []
     },
     "output_type": "execute_result"
    }
   ],
   "source": [
    "y_train[:1]"
   ]
  },
  {
   "cell_type": "code",
   "execution_count": 31,
   "metadata": {
    "colab": {
     "base_uri": "https://localhost:8080/"
    },
    "id": "Ni8-PR8Yo-VB",
    "outputId": "148503a5-e81b-42df-b5d0-c41cacd8eb47"
   },
   "outputs": [
    {
     "data": {
      "text/plain": [
       "array([[[ 40.558 ,  46.7917,  48.9764, ..., 112.1153, 112.9904,\n",
       "         112.1646],\n",
       "        [ 39.4379,  44.2911,  47.1768, ..., 111.0122, 110.9475,\n",
       "         109.9368],\n",
       "        [ 38.4488,  43.6394,  48.7098, ..., 109.8921, 109.9414,\n",
       "         109.1048],\n",
       "        ...,\n",
       "        [ 34.9869,  35.4707,  39.6676, ..., 109.211 , 109.9074,\n",
       "         112.7346],\n",
       "        [ 35.6602,  35.5462,  40.3193, ..., 110.9998, 112.049 ,\n",
       "         114.3431],\n",
       "        [ 36.1871,  35.4214,  40.6998, ..., 110.0169, 111.2017,\n",
       "         114.1906]]], dtype=float32)"
      ]
     },
     "execution_count": 31,
     "metadata": {
      "tags": []
     },
     "output_type": "execute_result"
    }
   ],
   "source": [
    "X_test[:1]"
   ]
  },
  {
   "cell_type": "code",
   "execution_count": 32,
   "metadata": {
    "colab": {
     "base_uri": "https://localhost:8080/"
    },
    "id": "eeNb8Dphr6p-",
    "outputId": "fdbe707e-5486-4a48-adbc-f6cad3fef973"
   },
   "outputs": [
    {
     "data": {
      "text/plain": [
       "array([1], dtype=uint8)"
      ]
     },
     "execution_count": 32,
     "metadata": {
      "tags": []
     },
     "output_type": "execute_result"
    }
   ],
   "source": [
    "y_test[:1]"
   ]
  },
  {
   "cell_type": "code",
   "execution_count": 33,
   "metadata": {
    "colab": {
     "base_uri": "https://localhost:8080/",
     "height": 95
    },
    "id": "2tH6oWo-r8D1",
    "outputId": "7e4c3926-f854-4255-eea1-263ad3b339e6"
   },
   "outputs": [
    {
     "data": {
      "image/png": "[encoded data removed]",
      "text/plain": [
       "<Figure size 720x720 with 10 Axes>"
      ]
     },
     "metadata": {
      "needs_background": "light",
      "tags": []
     },
     "output_type": "display_data"
    },
    {
     "name": "stdout",
     "output_type": "stream",
     "text": [
      "label for each of the above image:  [2 6 7 4 4 0 3 0 7 3]\n"
     ]
    }
   ],
   "source": [
    "%matplotlib inline\n",
    "import matplotlib.pyplot as plt\n",
    "\n",
    "# visualizing the first n images of the dataset\n",
    "plt.figure(figsize=(10, 10))\n",
    "for i in range(10):\n",
    "    plt.subplot(1, 10, i+1)\n",
    "    plt.imshow(X_train[i])\n",
    "    plt.axis('off')\n",
    "plt.show()\n",
    "print('label for each of the above image: ', y_train[0:10])"
   ]
  },
  {
   "cell_type": "markdown",
   "metadata": {
    "id": "hC3Hi6Q_uRay"
   },
   "source": [
    "# Reshape and normalize the train and test features (10 points)"
   ]
  },
  {
   "cell_type": "code",
   "execution_count": 34,
   "metadata": {
    "colab": {
     "base_uri": "https://localhost:8080/"
    },
    "id": "Dm4Kwn5MuTh5",
    "outputId": "d3d7bc55-b538-4817-d493-41fc3d848936"
   },
   "outputs": [
    {
     "name": "stdout",
     "output_type": "stream",
     "text": [
      "Resized Training and Test sets :\n",
      "(42000, 1024, 1)\n",
      "(42000,)\n",
      "(18000, 1024, 1)\n",
      "(18000,)\n"
     ]
    }
   ],
   "source": [
    "# normalizing data for feeding model\n",
    "X_train = X_train.reshape(X_train.shape[0], 1024, 1)\n",
    "X_test = X_test.reshape(X_test.shape[0], 1024, 1)\n",
    "\n",
    "# grayscale images and can take values from 0-255\n",
    "X_train = X_train.astype('float32') / 255\n",
    "X_test = X_test.astype('float32') / 255\n",
    "\n",
    "print('Resized Training and Test sets :')\n",
    "print(X_train.shape)\n",
    "print(y_train.shape)\n",
    "print(X_test.shape)\n",
    "print(y_test.shape)"
   ]
  },
  {
   "cell_type": "markdown",
   "metadata": {
    "id": "GhiNf8wJxAy_"
   },
   "source": [
    "# One hot encode the labels for train and test data (10 points)"
   ]
  },
  {
   "cell_type": "code",
   "execution_count": 35,
   "metadata": {
    "colab": {
     "base_uri": "https://localhost:8080/"
    },
    "id": "3IDArGfbxC3H",
    "outputId": "97f9ed62-8c82-4b7b-dafc-be3699b45a1a"
   },
   "outputs": [
    {
     "name": "stdout",
     "output_type": "stream",
     "text": [
      "Number of classes are 10\n"
     ]
    }
   ],
   "source": [
    "from tensorflow.keras.utils import to_categorical\n",
    "\n",
    "y_train = to_categorical(y_train)\n",
    "y_test = to_categorical(y_test)\n",
    "\n",
    "print('Number of classes are', y_test.shape[1])"
   ]
  },
  {
   "cell_type": "markdown",
   "metadata": {
    "id": "buMuZWfI2xg7"
   },
   "source": [
    "# Define the model architecture using TensorFlow with a flatten layer followed by dense layers with activation as ReLu and softmax (10 points)"
   ]
  },
  {
   "cell_type": "code",
   "execution_count": 36,
   "metadata": {
    "id": "30uFE81Y4yRt"
   },
   "outputs": [],
   "source": [
    "from tensorflow.keras import optimizers\n",
    "from tensorflow.keras.models import Sequential\n",
    "from tensorflow.keras.layers import Dense, Flatten\n",
    "\n",
    "# initializing model\n",
    "model = Sequential()  \n",
    "model.add(Flatten())\n",
    "model.add(Dense(256, activation='relu'))\n",
    "model.add(Dense(64, activation='relu'))\n",
    "model.add(Dense(64, activation='relu'))\n",
    "model.add(Dense(32, activation='relu'))\n",
    "model.add(Dense(10, activation='softmax'))"
   ]
  },
  {
   "cell_type": "markdown",
   "metadata": {
    "id": "AYgdZJu075n7"
   },
   "source": [
    "# Compile the model with loss as categorical cross-entropy and adam optimizers. Use accuracy as the metric for evaluation (10 points)"
   ]
  },
  {
   "cell_type": "code",
   "execution_count": 37,
   "metadata": {
    "id": "AO_bc2v02zRh"
   },
   "outputs": [],
   "source": [
    "# compiling model\n",
    "sgd = optimizers.Adam(lr=1e-3)\n",
    "model.compile(loss='categorical_crossentropy', optimizer=sgd, metrics=['accuracy'])"
   ]
  },
  {
   "cell_type": "markdown",
   "metadata": {
    "id": "kL-nMT268FJy"
   },
   "source": [
    "# Fit and evaluate the model. Print the loss and accuracy for the test data (10 points)"
   ]
  },
  {
   "cell_type": "code",
   "execution_count": 38,
   "metadata": {
    "colab": {
     "base_uri": "https://localhost:8080/"
    },
    "id": "11qq-UDC8Gr0",
    "outputId": "c7c6b509-d2e3-4dae-d265-a6889b4eebac"
   },
   "outputs": [
    {
     "name": "stdout",
     "output_type": "stream",
     "text": [
      "Epoch 1/100\n",
      "140/140 [==============================] - 3s 15ms/step - loss: 2.3110 - accuracy: 0.1025 - val_loss: 2.2892 - val_accuracy: 0.1434\n",
      "Epoch 2/100\n",
      "140/140 [==============================] - 2s 14ms/step - loss: 2.2307 - accuracy: 0.1615 - val_loss: 1.8765 - val_accuracy: 0.3196\n",
      "Epoch 3/100\n",
      "140/140 [==============================] - 2s 14ms/step - loss: 1.7749 - accuracy: 0.3633 - val_loss: 1.5603 - val_accuracy: 0.4648\n",
      "Epoch 4/100\n",
      "140/140 [==============================] - 2s 14ms/step - loss: 1.4944 - accuracy: 0.4998 - val_loss: 1.4359 - val_accuracy: 0.5111\n",
      "Epoch 5/100\n",
      "140/140 [==============================] - 2s 14ms/step - loss: 1.3853 - accuracy: 0.5398 - val_loss: 1.2809 - val_accuracy: 0.5877\n",
      "Epoch 6/100\n",
      "140/140 [==============================] - 2s 14ms/step - loss: 1.2914 - accuracy: 0.5820 - val_loss: 1.3287 - val_accuracy: 0.5572\n",
      "Epoch 7/100\n",
      "140/140 [==============================] - 2s 13ms/step - loss: 1.2512 - accuracy: 0.5984 - val_loss: 1.2009 - val_accuracy: 0.6164\n",
      "Epoch 8/100\n",
      "140/140 [==============================] - 2s 13ms/step - loss: 1.1908 - accuracy: 0.6185 - val_loss: 1.1609 - val_accuracy: 0.6327\n",
      "Epoch 9/100\n",
      "140/140 [==============================] - 2s 13ms/step - loss: 1.1400 - accuracy: 0.6426 - val_loss: 1.1169 - val_accuracy: 0.6478\n",
      "Epoch 10/100\n",
      "140/140 [==============================] - 2s 13ms/step - loss: 1.0814 - accuracy: 0.6624 - val_loss: 1.0835 - val_accuracy: 0.6608\n",
      "Epoch 11/100\n",
      "140/140 [==============================] - 2s 13ms/step - loss: 1.0565 - accuracy: 0.6715 - val_loss: 1.0637 - val_accuracy: 0.6698\n",
      "Epoch 12/100\n",
      "140/140 [==============================] - 2s 13ms/step - loss: 1.0087 - accuracy: 0.6889 - val_loss: 0.9950 - val_accuracy: 0.6918\n",
      "Epoch 13/100\n",
      "140/140 [==============================] - 2s 13ms/step - loss: 1.0044 - accuracy: 0.6873 - val_loss: 0.9836 - val_accuracy: 0.6969\n",
      "Epoch 14/100\n",
      "140/140 [==============================] - 2s 13ms/step - loss: 0.9605 - accuracy: 0.7030 - val_loss: 0.9401 - val_accuracy: 0.7144\n",
      "Epoch 15/100\n",
      "140/140 [==============================] - 2s 13ms/step - loss: 0.9245 - accuracy: 0.7118 - val_loss: 0.9903 - val_accuracy: 0.6916\n",
      "Epoch 16/100\n",
      "140/140 [==============================] - 2s 14ms/step - loss: 0.8960 - accuracy: 0.7201 - val_loss: 0.9457 - val_accuracy: 0.7099\n",
      "Epoch 17/100\n",
      "140/140 [==============================] - 2s 14ms/step - loss: 0.8750 - accuracy: 0.7294 - val_loss: 0.9581 - val_accuracy: 0.7047\n",
      "Epoch 18/100\n",
      "140/140 [==============================] - 2s 14ms/step - loss: 0.8761 - accuracy: 0.7278 - val_loss: 0.9390 - val_accuracy: 0.7129\n",
      "Epoch 19/100\n",
      "140/140 [==============================] - 2s 14ms/step - loss: 0.8594 - accuracy: 0.7350 - val_loss: 0.8954 - val_accuracy: 0.7266\n",
      "Epoch 20/100\n",
      "140/140 [==============================] - 2s 13ms/step - loss: 0.8329 - accuracy: 0.7443 - val_loss: 0.8791 - val_accuracy: 0.7307\n",
      "Epoch 21/100\n",
      "140/140 [==============================] - 2s 14ms/step - loss: 0.8163 - accuracy: 0.7477 - val_loss: 0.8468 - val_accuracy: 0.7434\n",
      "Epoch 22/100\n",
      "140/140 [==============================] - 2s 14ms/step - loss: 0.7978 - accuracy: 0.7519 - val_loss: 0.8355 - val_accuracy: 0.7484\n",
      "Epoch 23/100\n",
      "140/140 [==============================] - 2s 13ms/step - loss: 0.7824 - accuracy: 0.7590 - val_loss: 0.8513 - val_accuracy: 0.7426\n",
      "Epoch 24/100\n",
      "140/140 [==============================] - 2s 13ms/step - loss: 0.7787 - accuracy: 0.7597 - val_loss: 0.8583 - val_accuracy: 0.7392\n",
      "Epoch 25/100\n",
      "140/140 [==============================] - 2s 13ms/step - loss: 0.7595 - accuracy: 0.7660 - val_loss: 0.8204 - val_accuracy: 0.7526\n",
      "Epoch 26/100\n",
      "140/140 [==============================] - 2s 14ms/step - loss: 0.7570 - accuracy: 0.7684 - val_loss: 0.8314 - val_accuracy: 0.7481\n",
      "Epoch 27/100\n",
      "140/140 [==============================] - 2s 14ms/step - loss: 0.7519 - accuracy: 0.7672 - val_loss: 0.8089 - val_accuracy: 0.7567\n",
      "Epoch 28/100\n",
      "140/140 [==============================] - 2s 13ms/step - loss: 0.7388 - accuracy: 0.7700 - val_loss: 0.8019 - val_accuracy: 0.7569\n",
      "Epoch 29/100\n",
      "140/140 [==============================] - 2s 14ms/step - loss: 0.7389 - accuracy: 0.7706 - val_loss: 0.7961 - val_accuracy: 0.7621\n",
      "Epoch 30/100\n",
      "140/140 [==============================] - 2s 13ms/step - loss: 0.7300 - accuracy: 0.7722 - val_loss: 0.8055 - val_accuracy: 0.7573\n",
      "Epoch 31/100\n",
      "140/140 [==============================] - 2s 13ms/step - loss: 0.7035 - accuracy: 0.7831 - val_loss: 0.7984 - val_accuracy: 0.7627\n",
      "Epoch 32/100\n",
      "140/140 [==============================] - 2s 14ms/step - loss: 0.6950 - accuracy: 0.7863 - val_loss: 0.7765 - val_accuracy: 0.7681\n",
      "Epoch 33/100\n",
      "140/140 [==============================] - 2s 13ms/step - loss: 0.7085 - accuracy: 0.7847 - val_loss: 0.7885 - val_accuracy: 0.7650\n",
      "Epoch 34/100\n",
      "140/140 [==============================] - 2s 13ms/step - loss: 0.6775 - accuracy: 0.7906 - val_loss: 0.7720 - val_accuracy: 0.7722\n",
      "Epoch 35/100\n",
      "140/140 [==============================] - 2s 13ms/step - loss: 0.6739 - accuracy: 0.7897 - val_loss: 0.7863 - val_accuracy: 0.7632\n",
      "Epoch 36/100\n",
      "140/140 [==============================] - 2s 14ms/step - loss: 0.6806 - accuracy: 0.7914 - val_loss: 0.7584 - val_accuracy: 0.7704\n",
      "Epoch 37/100\n",
      "140/140 [==============================] - 2s 13ms/step - loss: 0.6638 - accuracy: 0.7934 - val_loss: 0.7852 - val_accuracy: 0.7654\n",
      "Epoch 38/100\n",
      "140/140 [==============================] - 2s 14ms/step - loss: 0.6752 - accuracy: 0.7917 - val_loss: 0.8407 - val_accuracy: 0.7461\n",
      "Epoch 39/100\n",
      "140/140 [==============================] - 2s 14ms/step - loss: 0.6790 - accuracy: 0.7899 - val_loss: 0.7395 - val_accuracy: 0.7841\n",
      "Epoch 40/100\n",
      "140/140 [==============================] - 2s 13ms/step - loss: 0.6540 - accuracy: 0.7974 - val_loss: 0.7353 - val_accuracy: 0.7838\n",
      "Epoch 41/100\n",
      "140/140 [==============================] - 2s 14ms/step - loss: 0.6401 - accuracy: 0.8050 - val_loss: 0.7531 - val_accuracy: 0.7730\n",
      "Epoch 42/100\n",
      "140/140 [==============================] - 2s 13ms/step - loss: 0.6488 - accuracy: 0.7988 - val_loss: 0.7512 - val_accuracy: 0.7763\n",
      "Epoch 43/100\n",
      "140/140 [==============================] - 2s 14ms/step - loss: 0.6429 - accuracy: 0.8003 - val_loss: 0.7377 - val_accuracy: 0.7798\n",
      "Epoch 44/100\n",
      "140/140 [==============================] - 2s 13ms/step - loss: 0.6256 - accuracy: 0.8075 - val_loss: 0.7475 - val_accuracy: 0.7795\n",
      "Epoch 45/100\n",
      "140/140 [==============================] - 2s 14ms/step - loss: 0.6331 - accuracy: 0.8024 - val_loss: 0.7380 - val_accuracy: 0.7813\n",
      "Epoch 46/100\n",
      "140/140 [==============================] - 2s 14ms/step - loss: 0.6138 - accuracy: 0.8108 - val_loss: 0.7503 - val_accuracy: 0.7770\n",
      "Epoch 47/100\n",
      "140/140 [==============================] - 2s 13ms/step - loss: 0.6318 - accuracy: 0.8038 - val_loss: 0.7350 - val_accuracy: 0.7803\n",
      "Epoch 48/100\n",
      "140/140 [==============================] - 2s 14ms/step - loss: 0.6076 - accuracy: 0.8149 - val_loss: 0.7432 - val_accuracy: 0.7798\n",
      "Epoch 49/100\n",
      "140/140 [==============================] - 2s 14ms/step - loss: 0.6116 - accuracy: 0.8135 - val_loss: 0.7175 - val_accuracy: 0.7889\n",
      "Epoch 50/100\n",
      "140/140 [==============================] - 2s 13ms/step - loss: 0.6000 - accuracy: 0.8164 - val_loss: 0.7306 - val_accuracy: 0.7817\n",
      "Epoch 51/100\n",
      "140/140 [==============================] - 2s 13ms/step - loss: 0.5845 - accuracy: 0.8197 - val_loss: 0.7024 - val_accuracy: 0.7924\n",
      "Epoch 52/100\n",
      "140/140 [==============================] - 2s 14ms/step - loss: 0.6013 - accuracy: 0.8148 - val_loss: 0.7211 - val_accuracy: 0.7846\n",
      "Epoch 53/100\n",
      "140/140 [==============================] - 2s 14ms/step - loss: 0.5976 - accuracy: 0.8145 - val_loss: 0.7326 - val_accuracy: 0.7849\n",
      "Epoch 54/100\n",
      "140/140 [==============================] - 2s 14ms/step - loss: 0.5737 - accuracy: 0.8215 - val_loss: 0.7111 - val_accuracy: 0.7936\n",
      "Epoch 55/100\n",
      "140/140 [==============================] - 2s 14ms/step - loss: 0.5769 - accuracy: 0.8218 - val_loss: 0.7465 - val_accuracy: 0.7794\n",
      "Epoch 56/100\n",
      "140/140 [==============================] - 2s 13ms/step - loss: 0.5901 - accuracy: 0.8188 - val_loss: 0.6986 - val_accuracy: 0.7938\n",
      "Epoch 57/100\n",
      "140/140 [==============================] - 2s 13ms/step - loss: 0.5783 - accuracy: 0.8184 - val_loss: 0.7324 - val_accuracy: 0.7823\n",
      "Epoch 58/100\n",
      "140/140 [==============================] - 2s 14ms/step - loss: 0.5612 - accuracy: 0.8274 - val_loss: 0.7025 - val_accuracy: 0.7918\n",
      "Epoch 59/100\n",
      "140/140 [==============================] - 2s 13ms/step - loss: 0.5633 - accuracy: 0.8243 - val_loss: 0.7036 - val_accuracy: 0.7946\n",
      "Epoch 60/100\n",
      "140/140 [==============================] - 2s 13ms/step - loss: 0.5658 - accuracy: 0.8229 - val_loss: 0.7126 - val_accuracy: 0.7901\n",
      "Epoch 61/100\n",
      "140/140 [==============================] - 2s 13ms/step - loss: 0.5633 - accuracy: 0.8258 - val_loss: 0.6720 - val_accuracy: 0.8016\n",
      "Epoch 62/100\n",
      "140/140 [==============================] - 2s 14ms/step - loss: 0.5496 - accuracy: 0.8321 - val_loss: 0.6916 - val_accuracy: 0.7959\n",
      "Epoch 63/100\n",
      "140/140 [==============================] - 2s 14ms/step - loss: 0.5372 - accuracy: 0.8332 - val_loss: 0.6721 - val_accuracy: 0.8014\n",
      "Epoch 64/100\n",
      "140/140 [==============================] - 2s 13ms/step - loss: 0.5413 - accuracy: 0.8349 - val_loss: 0.7031 - val_accuracy: 0.7949\n",
      "Epoch 65/100\n",
      "140/140 [==============================] - 2s 14ms/step - loss: 0.5279 - accuracy: 0.8357 - val_loss: 0.7192 - val_accuracy: 0.7871\n",
      "Epoch 66/100\n",
      "140/140 [==============================] - 2s 14ms/step - loss: 0.5219 - accuracy: 0.8405 - val_loss: 0.7052 - val_accuracy: 0.7974\n",
      "Epoch 67/100\n",
      "140/140 [==============================] - 2s 14ms/step - loss: 0.5345 - accuracy: 0.8330 - val_loss: 0.6971 - val_accuracy: 0.8006\n",
      "Epoch 68/100\n",
      "140/140 [==============================] - 2s 14ms/step - loss: 0.5257 - accuracy: 0.8390 - val_loss: 0.6619 - val_accuracy: 0.8063\n",
      "Epoch 69/100\n",
      "140/140 [==============================] - 2s 14ms/step - loss: 0.5134 - accuracy: 0.8429 - val_loss: 0.6615 - val_accuracy: 0.8042\n",
      "Epoch 70/100\n",
      "140/140 [==============================] - 2s 14ms/step - loss: 0.5203 - accuracy: 0.8396 - val_loss: 0.7031 - val_accuracy: 0.7923\n",
      "Epoch 71/100\n",
      "140/140 [==============================] - 2s 14ms/step - loss: 0.5195 - accuracy: 0.8420 - val_loss: 0.7223 - val_accuracy: 0.7871\n",
      "Epoch 72/100\n",
      "140/140 [==============================] - 2s 13ms/step - loss: 0.5250 - accuracy: 0.8379 - val_loss: 0.6611 - val_accuracy: 0.8079\n",
      "Epoch 73/100\n",
      "140/140 [==============================] - 2s 14ms/step - loss: 0.5026 - accuracy: 0.8448 - val_loss: 0.6754 - val_accuracy: 0.8023\n",
      "Epoch 74/100\n",
      "140/140 [==============================] - 2s 13ms/step - loss: 0.5151 - accuracy: 0.8387 - val_loss: 0.6837 - val_accuracy: 0.8007\n",
      "Epoch 75/100\n",
      "140/140 [==============================] - 2s 14ms/step - loss: 0.5201 - accuracy: 0.8385 - val_loss: 0.6765 - val_accuracy: 0.8023\n",
      "Epoch 76/100\n",
      "140/140 [==============================] - 2s 13ms/step - loss: 0.5018 - accuracy: 0.8441 - val_loss: 0.6845 - val_accuracy: 0.8024\n",
      "Epoch 77/100\n",
      "140/140 [==============================] - 2s 13ms/step - loss: 0.5028 - accuracy: 0.8411 - val_loss: 0.6505 - val_accuracy: 0.8120\n",
      "Epoch 78/100\n",
      "140/140 [==============================] - 2s 14ms/step - loss: 0.4799 - accuracy: 0.8514 - val_loss: 0.6843 - val_accuracy: 0.8013\n",
      "Epoch 79/100\n",
      "140/140 [==============================] - 2s 13ms/step - loss: 0.4958 - accuracy: 0.8458 - val_loss: 0.6943 - val_accuracy: 0.8009\n",
      "Epoch 80/100\n",
      "140/140 [==============================] - 2s 14ms/step - loss: 0.4944 - accuracy: 0.8450 - val_loss: 0.6728 - val_accuracy: 0.8042\n",
      "Epoch 81/100\n",
      "140/140 [==============================] - 2s 14ms/step - loss: 0.4885 - accuracy: 0.8491 - val_loss: 0.6728 - val_accuracy: 0.8057\n",
      "Epoch 82/100\n",
      "140/140 [==============================] - 2s 14ms/step - loss: 0.4840 - accuracy: 0.8482 - val_loss: 0.6882 - val_accuracy: 0.7997\n",
      "Epoch 83/100\n",
      "140/140 [==============================] - 2s 15ms/step - loss: 0.4995 - accuracy: 0.8446 - val_loss: 0.6909 - val_accuracy: 0.7986\n",
      "Epoch 84/100\n",
      "140/140 [==============================] - 2s 14ms/step - loss: 0.4914 - accuracy: 0.8473 - val_loss: 0.6832 - val_accuracy: 0.8039\n",
      "Epoch 85/100\n",
      "140/140 [==============================] - 2s 14ms/step - loss: 0.5070 - accuracy: 0.8434 - val_loss: 0.6637 - val_accuracy: 0.8094\n",
      "Epoch 86/100\n",
      "140/140 [==============================] - 2s 14ms/step - loss: 0.4811 - accuracy: 0.8514 - val_loss: 0.6555 - val_accuracy: 0.8110\n",
      "Epoch 87/100\n",
      "140/140 [==============================] - 2s 14ms/step - loss: 0.4649 - accuracy: 0.8543 - val_loss: 0.6535 - val_accuracy: 0.8111\n",
      "Epoch 88/100\n",
      "140/140 [==============================] - 2s 13ms/step - loss: 0.4678 - accuracy: 0.8541 - val_loss: 0.6804 - val_accuracy: 0.8028\n",
      "Epoch 89/100\n",
      "140/140 [==============================] - 2s 14ms/step - loss: 0.4654 - accuracy: 0.8555 - val_loss: 0.6536 - val_accuracy: 0.8107\n",
      "Epoch 90/100\n",
      "140/140 [==============================] - 2s 14ms/step - loss: 0.4654 - accuracy: 0.8564 - val_loss: 0.6370 - val_accuracy: 0.8174\n",
      "Epoch 91/100\n",
      "140/140 [==============================] - 2s 14ms/step - loss: 0.4613 - accuracy: 0.8552 - val_loss: 0.6823 - val_accuracy: 0.8052\n",
      "Epoch 92/100\n",
      "140/140 [==============================] - 2s 13ms/step - loss: 0.4610 - accuracy: 0.8549 - val_loss: 0.6500 - val_accuracy: 0.8144\n",
      "Epoch 93/100\n",
      "140/140 [==============================] - 2s 13ms/step - loss: 0.4492 - accuracy: 0.8599 - val_loss: 0.6835 - val_accuracy: 0.8011\n",
      "Epoch 94/100\n",
      "140/140 [==============================] - 2s 14ms/step - loss: 0.4547 - accuracy: 0.8579 - val_loss: 0.6687 - val_accuracy: 0.8103\n",
      "Epoch 95/100\n",
      "140/140 [==============================] - 2s 14ms/step - loss: 0.4633 - accuracy: 0.8556 - val_loss: 0.6797 - val_accuracy: 0.8052\n",
      "Epoch 96/100\n",
      "140/140 [==============================] - 2s 14ms/step - loss: 0.4517 - accuracy: 0.8559 - val_loss: 0.6737 - val_accuracy: 0.8078\n",
      "Epoch 97/100\n",
      "140/140 [==============================] - 2s 13ms/step - loss: 0.4383 - accuracy: 0.8637 - val_loss: 0.6781 - val_accuracy: 0.8073\n",
      "Epoch 98/100\n",
      "140/140 [==============================] - 2s 14ms/step - loss: 0.4397 - accuracy: 0.8602 - val_loss: 0.6783 - val_accuracy: 0.8116\n",
      "Epoch 99/100\n",
      "140/140 [==============================] - 2s 14ms/step - loss: 0.4423 - accuracy: 0.8611 - val_loss: 0.6551 - val_accuracy: 0.8154\n",
      "Epoch 100/100\n",
      "140/140 [==============================] - 2s 14ms/step - loss: 0.4314 - accuracy: 0.8649 - val_loss: 0.6780 - val_accuracy: 0.8064\n"
     ]
    },
    {
     "data": {
      "text/plain": [
       "<tensorflow.python.keras.callbacks.History at 0x7efdf9362a50>"
      ]
     },
     "execution_count": 38,
     "metadata": {
      "tags": []
     },
     "output_type": "execute_result"
    }
   ],
   "source": [
    "model.fit(X_train, y_train, validation_data=(X_test, y_test), epochs=100, batch_size=300, verbose=1)"
   ]
  },
  {
   "cell_type": "code",
   "execution_count": 39,
   "metadata": {
    "colab": {
     "base_uri": "https://localhost:8080/"
    },
    "id": "mSQmAfsg8gxl",
    "outputId": "1a262ee5-0111-4c09-bc9d-e9c1a2f6a155"
   },
   "outputs": [
    {
     "name": "stdout",
     "output_type": "stream",
     "text": [
      "141/141 [==============================] - 1s 4ms/step - loss: 0.6780 - accuracy: 0.8064\n",
      "Test loss : 0.6780170202255249\n",
      "Test accuracy : 0.8063889145851135\n"
     ]
    }
   ],
   "source": [
    "results = model.evaluate(X_test, y_test, batch_size=128)\n",
    "print('Test loss :', results[0])\n",
    "print('Test accuracy :', results[1])"
   ]
  }
 ],
 "metadata": {
  "colab": {
   "collapsed_sections": [],
   "name": "neural networks svhn digit recognition final.ipynb",
   "provenance": []
  },
  "kernelspec": {
   "display_name": "Python 3",
   "language": "python",
   "name": "python3"
  },
  "language_info": {
   "codemirror_mode": {
    "name": "ipython",
    "version": 3
   },
   "file_extension": ".py",
   "mimetype": "text/x-python",
   "name": "python",
   "nbconvert_exporter": "python",
   "pygments_lexer": "ipython3",
   "version": "3.8.5"
  }
 },
 "nbformat": 4,
 "nbformat_minor": 1
}
