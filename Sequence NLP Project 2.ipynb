{
 "cells": [
  {
   "cell_type": "markdown",
   "id": "804878e2",
   "metadata": {},
   "source": [
    "# • DOMAIN: Social media analytics\n",
    "\n",
    "# • CONTEXT: \n",
    "Past studies in Sarcasm Detection mostly make use of Twitter datasets collected using hashtag based supervision but such datasets are noisy in terms of labels and language. Furthermore, many tweets are replies to other tweets and detecting sarcasm in these requires the availability of contextual tweets.In this hands-on project, the goal is to build a model to detect whether a sentence is sarcastic or not, using Bidirectional LSTMs.\n",
    "\n",
    "# • DATA DESCRIPTION:\n",
    "The dataset is collected from two news websites, theonion.com and huffingtonpost.com. This new dataset has the following advantages over the existing Twitter datasets: Since news headlines are written by professionals in a formal manner, there are no spelling mistakes and informal usage. This reduces the sparsity and also increases the chance of finding pre-trained embeddings. Furthermore, since the sole purpose of TheOnion is to publish sarcastic news, we get high-quality labels with\n",
    "much less noise as compared to Twitter datasets. Unlike tweets that reply to other tweets, the news headlines obtained are self-contained. This would help us in teasing apart the real sarcastic elements.<br>\n",
    "Content: Each record consists of three attributes:<br>\n",
    "is_sarcastic: 1 if the record is sarcastic otherwise 0<br>\n",
    "headline: the headline of the news article<br>\n",
    "article_link: link to the original news article. Useful in collecting supplementary data<br>\n",
    "Reference: https://github.com/rishabhmisra/News-Headlines-Dataset-For-Sarcasm-Detection\n",
    "\n",
    "# PROJECT OBJECTIVE: \n",
    "Build a sequential NLP classifier which can use input text parameters to determine the customer sentiments.\n",
    "\n",
    "# Steps and tasks: [ Total Score: 30 points]\n",
    "1. Read and explore the data\n",
    "2. Retain relevant columns\n",
    "3. Get length of each sentence\n",
    "4. Define parameters\n",
    "5. Get indices for words\n",
    "6. Create features and labels\n",
    "7. Get vocabulary size\n",
    "8. Create a weight matrix using GloVe embeddings\n",
    "9. Define and compile a Bidirectional LSTM model.<br>Hint: Be analytical and experimental here in trying new approaches to design the best model.\n",
    "10. Fit the model and check the validation accuracy"
   ]
  },
  {
   "cell_type": "markdown",
   "id": "06244792",
   "metadata": {},
   "source": [
    "# 1. Read and explore the data"
   ]
  },
  {
   "cell_type": "code",
   "execution_count": 1,
   "id": "df149f02",
   "metadata": {},
   "outputs": [
    {
     "data": {
      "text/html": [
       "<div>\n",
       "<style scoped>\n",
       "    .dataframe tbody tr th:only-of-type {\n",
       "        vertical-align: middle;\n",
       "    }\n",
       "\n",
       "    .dataframe tbody tr th {\n",
       "        vertical-align: top;\n",
       "    }\n",
       "\n",
       "    .dataframe thead th {\n",
       "        text-align: right;\n",
       "    }\n",
       "</style>\n",
       "<table border=\"1\" class=\"dataframe\">\n",
       "  <thead>\n",
       "    <tr style=\"text-align: right;\">\n",
       "      <th></th>\n",
       "      <th>is_sarcastic</th>\n",
       "      <th>headline</th>\n",
       "      <th>article_link</th>\n",
       "    </tr>\n",
       "  </thead>\n",
       "  <tbody>\n",
       "    <tr>\n",
       "      <th>0</th>\n",
       "      <td>1</td>\n",
       "      <td>thirtysomething scientists unveil doomsday clo...</td>\n",
       "      <td>https://www.theonion.com/thirtysomething-scien...</td>\n",
       "    </tr>\n",
       "    <tr>\n",
       "      <th>1</th>\n",
       "      <td>0</td>\n",
       "      <td>dem rep. totally nails why congress is falling...</td>\n",
       "      <td>https://www.huffingtonpost.com/entry/donna-edw...</td>\n",
       "    </tr>\n",
       "    <tr>\n",
       "      <th>2</th>\n",
       "      <td>0</td>\n",
       "      <td>eat your veggies: 9 deliciously different recipes</td>\n",
       "      <td>https://www.huffingtonpost.com/entry/eat-your-...</td>\n",
       "    </tr>\n",
       "    <tr>\n",
       "      <th>3</th>\n",
       "      <td>1</td>\n",
       "      <td>inclement weather prevents liar from getting t...</td>\n",
       "      <td>https://local.theonion.com/inclement-weather-p...</td>\n",
       "    </tr>\n",
       "    <tr>\n",
       "      <th>4</th>\n",
       "      <td>1</td>\n",
       "      <td>mother comes pretty close to using word 'strea...</td>\n",
       "      <td>https://www.theonion.com/mother-comes-pretty-c...</td>\n",
       "    </tr>\n",
       "  </tbody>\n",
       "</table>\n",
       "</div>"
      ],
      "text/plain": [
       "   is_sarcastic                                           headline  \\\n",
       "0             1  thirtysomething scientists unveil doomsday clo...   \n",
       "1             0  dem rep. totally nails why congress is falling...   \n",
       "2             0  eat your veggies: 9 deliciously different recipes   \n",
       "3             1  inclement weather prevents liar from getting t...   \n",
       "4             1  mother comes pretty close to using word 'strea...   \n",
       "\n",
       "                                        article_link  \n",
       "0  https://www.theonion.com/thirtysomething-scien...  \n",
       "1  https://www.huffingtonpost.com/entry/donna-edw...  \n",
       "2  https://www.huffingtonpost.com/entry/eat-your-...  \n",
       "3  https://local.theonion.com/inclement-weather-p...  \n",
       "4  https://www.theonion.com/mother-comes-pretty-c...  "
      ]
     },
     "execution_count": 1,
     "metadata": {},
     "output_type": "execute_result"
    }
   ],
   "source": [
    "import pandas as pd\n",
    "\n",
    "df = pd.read_json('Sarcasm_Headlines_Dataset.json', lines=True)\n",
    "df.head()"
   ]
  },
  {
   "cell_type": "code",
   "execution_count": 2,
   "id": "d1e1f7fd",
   "metadata": {},
   "outputs": [
    {
     "name": "stdout",
     "output_type": "stream",
     "text": [
      "<class 'pandas.core.frame.DataFrame'>\n",
      "RangeIndex: 28619 entries, 0 to 28618\n",
      "Data columns (total 3 columns):\n",
      " #   Column        Non-Null Count  Dtype \n",
      "---  ------        --------------  ----- \n",
      " 0   is_sarcastic  28619 non-null  int64 \n",
      " 1   headline      28619 non-null  object\n",
      " 2   article_link  28619 non-null  object\n",
      "dtypes: int64(1), object(2)\n",
      "memory usage: 670.9+ KB\n"
     ]
    }
   ],
   "source": [
    "df.info()"
   ]
  },
  {
   "cell_type": "markdown",
   "id": "6465052a",
   "metadata": {},
   "source": [
    "### There are 28619 rows in the dataset. <br><br>Most of the headlines are lower cased."
   ]
  },
  {
   "cell_type": "code",
   "execution_count": 3,
   "id": "9e777f2d",
   "metadata": {},
   "outputs": [
    {
     "data": {
      "text/plain": [
       "is_sarcastic    0\n",
       "headline        0\n",
       "article_link    0\n",
       "dtype: int64"
      ]
     },
     "execution_count": 3,
     "metadata": {},
     "output_type": "execute_result"
    }
   ],
   "source": [
    "df.isnull().sum()"
   ]
  },
  {
   "cell_type": "markdown",
   "id": "b831e57f",
   "metadata": {},
   "source": [
    "### There are no null values in the dataset."
   ]
  },
  {
   "cell_type": "code",
   "execution_count": 4,
   "id": "01f1e82e",
   "metadata": {},
   "outputs": [
    {
     "data": {
      "text/plain": [
       "0    14985\n",
       "1    13634\n",
       "Name: is_sarcastic, dtype: int64"
      ]
     },
     "execution_count": 4,
     "metadata": {},
     "output_type": "execute_result"
    }
   ],
   "source": [
    "df['is_sarcastic'].value_counts()"
   ]
  },
  {
   "cell_type": "code",
   "execution_count": 5,
   "id": "d4d49b32",
   "metadata": {},
   "outputs": [
    {
     "data": {
      "text/plain": [
       "<AxesSubplot:>"
      ]
     },
     "execution_count": 5,
     "metadata": {},
     "output_type": "execute_result"
    },
    {
     "data": {
      "image/png": "[encoded data removed]",
      "text/plain": [
       "<Figure size 432x288 with 1 Axes>"
      ]
     },
     "metadata": {
      "needs_background": "light"
     },
     "output_type": "display_data"
    }
   ],
   "source": [
    "import matplotlib.pyplot as plt\n",
    "%matplotlib inline\n",
    "\n",
    "df['is_sarcastic'].value_counts().plot(kind = 'bar')"
   ]
  },
  {
   "cell_type": "markdown",
   "id": "7218cb5d",
   "metadata": {},
   "source": [
    "### We can see that the dataset is balanced."
   ]
  },
  {
   "cell_type": "markdown",
   "id": "021a65d1",
   "metadata": {},
   "source": [
    "# 2. Retain relevant columns"
   ]
  },
  {
   "cell_type": "code",
   "execution_count": 6,
   "id": "e1e1d09d",
   "metadata": {},
   "outputs": [
    {
     "data": {
      "text/html": [
       "<div>\n",
       "<style scoped>\n",
       "    .dataframe tbody tr th:only-of-type {\n",
       "        vertical-align: middle;\n",
       "    }\n",
       "\n",
       "    .dataframe tbody tr th {\n",
       "        vertical-align: top;\n",
       "    }\n",
       "\n",
       "    .dataframe thead th {\n",
       "        text-align: right;\n",
       "    }\n",
       "</style>\n",
       "<table border=\"1\" class=\"dataframe\">\n",
       "  <thead>\n",
       "    <tr style=\"text-align: right;\">\n",
       "      <th></th>\n",
       "      <th>is_sarcastic</th>\n",
       "      <th>headline</th>\n",
       "    </tr>\n",
       "  </thead>\n",
       "  <tbody>\n",
       "    <tr>\n",
       "      <th>0</th>\n",
       "      <td>1</td>\n",
       "      <td>thirtysomething scientists unveil doomsday clo...</td>\n",
       "    </tr>\n",
       "    <tr>\n",
       "      <th>1</th>\n",
       "      <td>0</td>\n",
       "      <td>dem rep. totally nails why congress is falling...</td>\n",
       "    </tr>\n",
       "    <tr>\n",
       "      <th>2</th>\n",
       "      <td>0</td>\n",
       "      <td>eat your veggies: 9 deliciously different recipes</td>\n",
       "    </tr>\n",
       "    <tr>\n",
       "      <th>3</th>\n",
       "      <td>1</td>\n",
       "      <td>inclement weather prevents liar from getting t...</td>\n",
       "    </tr>\n",
       "    <tr>\n",
       "      <th>4</th>\n",
       "      <td>1</td>\n",
       "      <td>mother comes pretty close to using word 'strea...</td>\n",
       "    </tr>\n",
       "  </tbody>\n",
       "</table>\n",
       "</div>"
      ],
      "text/plain": [
       "   is_sarcastic                                           headline\n",
       "0             1  thirtysomething scientists unveil doomsday clo...\n",
       "1             0  dem rep. totally nails why congress is falling...\n",
       "2             0  eat your veggies: 9 deliciously different recipes\n",
       "3             1  inclement weather prevents liar from getting t...\n",
       "4             1  mother comes pretty close to using word 'strea..."
      ]
     },
     "execution_count": 6,
     "metadata": {},
     "output_type": "execute_result"
    }
   ],
   "source": [
    "# dropping article_link column as it is not needed\n",
    "\n",
    "df.drop('article_link', axis=1, inplace=True)\n",
    "df.head()"
   ]
  },
  {
   "cell_type": "markdown",
   "id": "637c9867",
   "metadata": {},
   "source": [
    "# 3. Get length of each sentence"
   ]
  },
  {
   "cell_type": "code",
   "execution_count": 7,
   "id": "6f2a1d75",
   "metadata": {},
   "outputs": [
    {
     "data": {
      "text/html": [
       "<div>\n",
       "<style scoped>\n",
       "    .dataframe tbody tr th:only-of-type {\n",
       "        vertical-align: middle;\n",
       "    }\n",
       "\n",
       "    .dataframe tbody tr th {\n",
       "        vertical-align: top;\n",
       "    }\n",
       "\n",
       "    .dataframe thead th {\n",
       "        text-align: right;\n",
       "    }\n",
       "</style>\n",
       "<table border=\"1\" class=\"dataframe\">\n",
       "  <thead>\n",
       "    <tr style=\"text-align: right;\">\n",
       "      <th></th>\n",
       "      <th>is_sarcastic</th>\n",
       "      <th>headline</th>\n",
       "      <th>len</th>\n",
       "    </tr>\n",
       "  </thead>\n",
       "  <tbody>\n",
       "    <tr>\n",
       "      <th>7302</th>\n",
       "      <td>1</td>\n",
       "      <td>hot wheels ranked number one toy for rolling d...</td>\n",
       "      <td>151</td>\n",
       "    </tr>\n",
       "    <tr>\n",
       "      <th>24815</th>\n",
       "      <td>1</td>\n",
       "      <td>elmore leonard, modern prose master, noted for...</td>\n",
       "      <td>39</td>\n",
       "    </tr>\n",
       "    <tr>\n",
       "      <th>23598</th>\n",
       "      <td>0</td>\n",
       "      <td>occasionally you realize someone you thought w...</td>\n",
       "      <td>38</td>\n",
       "    </tr>\n",
       "    <tr>\n",
       "      <th>21199</th>\n",
       "      <td>0</td>\n",
       "      <td>something to vote for on november 8, 2016:    ...</td>\n",
       "      <td>34</td>\n",
       "    </tr>\n",
       "    <tr>\n",
       "      <th>16588</th>\n",
       "      <td>1</td>\n",
       "      <td>'12 years a slave,' 'captain phillips,' 'ameri...</td>\n",
       "      <td>31</td>\n",
       "    </tr>\n",
       "    <tr>\n",
       "      <th>27972</th>\n",
       "      <td>1</td>\n",
       "      <td>mia farrow: 'it's possible my son was fathered...</td>\n",
       "      <td>30</td>\n",
       "    </tr>\n",
       "    <tr>\n",
       "      <th>2146</th>\n",
       "      <td>1</td>\n",
       "      <td>maya angelou, poet, author, civil rights activ...</td>\n",
       "      <td>29</td>\n",
       "    </tr>\n",
       "    <tr>\n",
       "      <th>28081</th>\n",
       "      <td>0</td>\n",
       "      <td>top 3 reasons why 400 ppm co2 is/is not the en...</td>\n",
       "      <td>29</td>\n",
       "    </tr>\n",
       "    <tr>\n",
       "      <th>26597</th>\n",
       "      <td>1</td>\n",
       "      <td>jared kushner claims that russian interference...</td>\n",
       "      <td>28</td>\n",
       "    </tr>\n",
       "    <tr>\n",
       "      <th>20776</th>\n",
       "      <td>0</td>\n",
       "      <td>'how do we treat the little people, joan?' i a...</td>\n",
       "      <td>28</td>\n",
       "    </tr>\n",
       "  </tbody>\n",
       "</table>\n",
       "</div>"
      ],
      "text/plain": [
       "       is_sarcastic                                           headline  len\n",
       "7302              1  hot wheels ranked number one toy for rolling d...  151\n",
       "24815             1  elmore leonard, modern prose master, noted for...   39\n",
       "23598             0  occasionally you realize someone you thought w...   38\n",
       "21199             0  something to vote for on november 8, 2016:    ...   34\n",
       "16588             1  '12 years a slave,' 'captain phillips,' 'ameri...   31\n",
       "27972             1  mia farrow: 'it's possible my son was fathered...   30\n",
       "2146              1  maya angelou, poet, author, civil rights activ...   29\n",
       "28081             0  top 3 reasons why 400 ppm co2 is/is not the en...   29\n",
       "26597             1  jared kushner claims that russian interference...   28\n",
       "20776             0  'how do we treat the little people, joan?' i a...   28"
      ]
     },
     "execution_count": 7,
     "metadata": {},
     "output_type": "execute_result"
    }
   ],
   "source": [
    "df['len'] = df['headline'].astype('str').apply(lambda x: len(x.split(' ')))\n",
    "df.sort_values(by=['len'], ascending=False).head(10)"
   ]
  },
  {
   "cell_type": "code",
   "execution_count": 8,
   "id": "36cd6fdd",
   "metadata": {},
   "outputs": [
    {
     "data": {
      "text/plain": [
       "'hot wheels ranked number one toy for rolling down ramp, knocking over dominoes that send marble down a funnel, dropping onto teeter-totter that yanks on string, causing pulley system to raise wooden block, propelling series of twine rollers that unwind spring, launching tennis ball across room, inching tire down slope until it hits power switch, activating table fan that blows toy ship with nail attached to it across kiddie pool, popping water balloon that fills cup, weighing down lever that forces basketball down track, nudging broomstick on axis to rotate, allowing golf ball to roll into sideways coffee mug, which tumbles down row of hardcover books until handle catches hook attached to lever that causes wooden mallet to slam down on serving spoon, catapulting small ball into cup attached by ribbon to lazy susan, which spins until it pushes d battery down incline plane, tipping over salt shaker to season omelet'"
      ]
     },
     "execution_count": 8,
     "metadata": {},
     "output_type": "execute_result"
    }
   ],
   "source": [
    "df.iloc[7302]['headline']"
   ]
  },
  {
   "cell_type": "code",
   "execution_count": 9,
   "id": "edf28cc0",
   "metadata": {},
   "outputs": [],
   "source": [
    "# converting headlines to lower case\n",
    "\n",
    "df['headline'] = df['headline'].astype('str').apply(lambda x: x.lower())"
   ]
  },
  {
   "cell_type": "code",
   "execution_count": 10,
   "id": "e194a0d9",
   "metadata": {},
   "outputs": [],
   "source": [
    "# removing punctuations from headlines\n",
    "\n",
    "df['headline'] = df['headline'].replace('[^\\w\\s]','',regex=True)"
   ]
  },
  {
   "cell_type": "code",
   "execution_count": 11,
   "id": "0ecab1a4",
   "metadata": {},
   "outputs": [
    {
     "name": "stderr",
     "output_type": "stream",
     "text": [
      "[nltk_data] Downloading package stopwords to\n",
      "[nltk_data]     C:\\Users\\Omkar\\AppData\\Roaming\\nltk_data...\n",
      "[nltk_data]   Package stopwords is already up-to-date!\n"
     ]
    },
    {
     "data": {
      "text/plain": [
       "True"
      ]
     },
     "execution_count": 11,
     "metadata": {},
     "output_type": "execute_result"
    }
   ],
   "source": [
    "import nltk\n",
    "nltk.download('stopwords')"
   ]
  },
  {
   "cell_type": "code",
   "execution_count": 12,
   "id": "7af94ccf",
   "metadata": {},
   "outputs": [],
   "source": [
    "from nltk.corpus import stopwords"
   ]
  },
  {
   "cell_type": "code",
   "execution_count": 13,
   "id": "fd092704",
   "metadata": {},
   "outputs": [],
   "source": [
    "stop = set(stopwords.words('english'))"
   ]
  },
  {
   "cell_type": "code",
   "execution_count": 14,
   "id": "df0842be",
   "metadata": {},
   "outputs": [],
   "source": [
    "# removing stop words using nltk\n",
    "\n",
    "df['headline'] = df['headline'].apply(lambda words: ' '.join (word for word in words.split() if word not in stop))"
   ]
  },
  {
   "cell_type": "markdown",
   "id": "2089bef5",
   "metadata": {},
   "source": [
    "# 4. Define parameters"
   ]
  },
  {
   "cell_type": "code",
   "execution_count": 15,
   "id": "8de9fa0e",
   "metadata": {},
   "outputs": [],
   "source": [
    "# taking 39 as max length as line 7302 with length of 151 has garbage value\n",
    "\n",
    "max_features = 10000\n",
    "maxlen = 39\n",
    "embedding_size = 50"
   ]
  },
  {
   "cell_type": "markdown",
   "id": "99600901",
   "metadata": {},
   "source": [
    "# 5. Get indices for words"
   ]
  },
  {
   "cell_type": "code",
   "execution_count": 16,
   "id": "f904fd1c",
   "metadata": {},
   "outputs": [],
   "source": [
    "# applying keras tokenizer\n",
    "\n",
    "from tensorflow.keras.preprocessing.text import Tokenizer\n",
    "\n",
    "tokenizer = Tokenizer(num_words=max_features)\n",
    "tokenizer.fit_on_texts(df['headline'])"
   ]
  },
  {
   "cell_type": "markdown",
   "id": "18d839e7",
   "metadata": {},
   "source": [
    "# 6. Create features and labels"
   ]
  },
  {
   "cell_type": "code",
   "execution_count": 17,
   "id": "bac27164",
   "metadata": {},
   "outputs": [
    {
     "name": "stdout",
     "output_type": "stream",
     "text": [
      "Number of features : 28619\n",
      "Types of labels : [0 1]\n"
     ]
    }
   ],
   "source": [
    "import numpy as np\n",
    "from tensorflow.keras.preprocessing.sequence import pad_sequences\n",
    "\n",
    "X = tokenizer.texts_to_sequences(df['headline'])\n",
    "X = pad_sequences(X, maxlen = maxlen)\n",
    "y = np.asarray(df['is_sarcastic'])\n",
    "\n",
    "print('Number of features :',len(X))\n",
    "print('Types of labels :', np.unique(y))"
   ]
  },
  {
   "cell_type": "markdown",
   "id": "b90103c6",
   "metadata": {},
   "source": [
    "# 7. Get vocabulary size"
   ]
  },
  {
   "cell_type": "code",
   "execution_count": 18,
   "id": "c11df7de",
   "metadata": {},
   "outputs": [
    {
     "name": "stdout",
     "output_type": "stream",
     "text": [
      "Vocabulary Size:  29506\n"
     ]
    }
   ],
   "source": [
    "print('Vocabulary Size: ', len(tokenizer.word_index) + 1)"
   ]
  },
  {
   "cell_type": "markdown",
   "id": "be1dc353",
   "metadata": {},
   "source": [
    "# 8. Create a weight matrix using GloVe embeddings"
   ]
  },
  {
   "cell_type": "code",
   "execution_count": 19,
   "id": "d27a6fbd",
   "metadata": {},
   "outputs": [],
   "source": [
    "# reading glove embeddings from the provided file\n",
    "\n",
    "embedding_file = 'glove.6B.50d.txt'\n",
    "embedding = {}\n",
    "\n",
    "for o in open(embedding_file, encoding='utf-8'):\n",
    "    word = o.split(' ')[0]\n",
    "    embd = np.asarray(o.split(' ')[1:] , dtype = 'float32')\n",
    "    embedding[word] = embd"
   ]
  },
  {
   "cell_type": "code",
   "execution_count": 20,
   "id": "8aed2c9a",
   "metadata": {},
   "outputs": [
    {
     "data": {
      "text/plain": [
       "29506"
      ]
     },
     "execution_count": 20,
     "metadata": {},
     "output_type": "execute_result"
    }
   ],
   "source": [
    "# creating a weight matrix\n",
    "\n",
    "num_words = len(tokenizer.word_index) + 1\n",
    "embedding_matrix = np.zeros((num_words, 50))\n",
    "\n",
    "for word,i in tokenizer.word_index.items():\n",
    "    if word in embedding.keys():\n",
    "        embedding_matrix[i] = embedding[word]\n",
    "\n",
    "len(embedding_matrix)"
   ]
  },
  {
   "cell_type": "markdown",
   "id": "0ddcb21e",
   "metadata": {},
   "source": [
    "# 9. Define and compile a Bidirectional LSTM model.\n",
    "### Hint: Be analytical and experimental here in trying new approaches to design the best model."
   ]
  },
  {
   "cell_type": "code",
   "execution_count": 21,
   "id": "7414b197",
   "metadata": {},
   "outputs": [],
   "source": [
    "from tensorflow.keras.models import Sequential\n",
    "from tensorflow.keras.layers import Embedding, Bidirectional, LSTM, Dense, Dropout, Flatten\n",
    "\n",
    "# embedding layer with input_dim, embedding_size, weights, input_length \n",
    "model = Sequential()\n",
    "model.add(Embedding(num_words, embedding_size, weights = [embedding_matrix], input_length = maxlen))\n",
    "\n",
    "# LSTM layer\n",
    "model.add(Bidirectional(LSTM(128, return_sequences = True)))\n",
    "\n",
    "# extract features\n",
    "model.add(Flatten())\n",
    "\n",
    "# dense layers\n",
    "model.add(Dense(128, activation = 'relu'))\n",
    "model.add(Dropout(0.2))\n",
    "model.add(Dense(64, activation ='relu'))\n",
    "model.add(Dropout(0.2))\n",
    "model.add(Dense(1, activation = 'sigmoid'))"
   ]
  },
  {
   "cell_type": "code",
   "execution_count": 22,
   "id": "939eaea3",
   "metadata": {},
   "outputs": [
    {
     "name": "stdout",
     "output_type": "stream",
     "text": [
      "Model: \"sequential\"\n",
      "_________________________________________________________________\n",
      "Layer (type)                 Output Shape              Param #   \n",
      "=================================================================\n",
      "embedding (Embedding)        (None, 39, 50)            1475300   \n",
      "_________________________________________________________________\n",
      "bidirectional (Bidirectional (None, 39, 256)           183296    \n",
      "_________________________________________________________________\n",
      "flatten (Flatten)            (None, 9984)              0         \n",
      "_________________________________________________________________\n",
      "dense (Dense)                (None, 128)               1278080   \n",
      "_________________________________________________________________\n",
      "dropout (Dropout)            (None, 128)               0         \n",
      "_________________________________________________________________\n",
      "dense_1 (Dense)              (None, 64)                8256      \n",
      "_________________________________________________________________\n",
      "dropout_1 (Dropout)          (None, 64)                0         \n",
      "_________________________________________________________________\n",
      "dense_2 (Dense)              (None, 1)                 65        \n",
      "=================================================================\n",
      "Total params: 2,944,997\n",
      "Trainable params: 2,944,997\n",
      "Non-trainable params: 0\n",
      "_________________________________________________________________\n"
     ]
    }
   ],
   "source": [
    "model.summary()"
   ]
  },
  {
   "cell_type": "code",
   "execution_count": 23,
   "id": "174709b0",
   "metadata": {},
   "outputs": [],
   "source": [
    "model.compile(loss = 'binary_crossentropy', optimizer = 'adam', metrics = ['accuracy'])"
   ]
  },
  {
   "cell_type": "markdown",
   "id": "6221e607",
   "metadata": {},
   "source": [
    "# 10. Fit the model and check the validation accuracy"
   ]
  },
  {
   "cell_type": "code",
   "execution_count": 24,
   "id": "71c6ef98",
   "metadata": {},
   "outputs": [
    {
     "name": "stdout",
     "output_type": "stream",
     "text": [
      "Epoch 1/20\n",
      "229/229 [==============================] - 28s 109ms/step - loss: 0.5469 - accuracy: 0.7188 - val_loss: 0.4719 - val_accuracy: 0.7739\n",
      "Epoch 2/20\n",
      "229/229 [==============================] - 26s 114ms/step - loss: 0.4109 - accuracy: 0.8104 - val_loss: 0.4069 - val_accuracy: 0.8124\n",
      "Epoch 3/20\n",
      "229/229 [==============================] - 25s 110ms/step - loss: 0.3091 - accuracy: 0.8642 - val_loss: 0.4031 - val_accuracy: 0.8199\n",
      "Epoch 4/20\n",
      "229/229 [==============================] - 24s 106ms/step - loss: 0.2298 - accuracy: 0.9043 - val_loss: 0.4214 - val_accuracy: 0.8312\n",
      "Epoch 5/20\n",
      "229/229 [==============================] - 24s 106ms/step - loss: 0.1720 - accuracy: 0.9298 - val_loss: 0.4718 - val_accuracy: 0.8188\n",
      "Epoch 6/20\n",
      "229/229 [==============================] - 26s 115ms/step - loss: 0.1285 - accuracy: 0.9479 - val_loss: 0.5928 - val_accuracy: 0.8202\n",
      "Epoch 7/20\n",
      "229/229 [==============================] - 28s 124ms/step - loss: 0.0942 - accuracy: 0.9636 - val_loss: 0.7479 - val_accuracy: 0.8188\n",
      "Epoch 8/20\n",
      "229/229 [==============================] - 30s 130ms/step - loss: 0.0689 - accuracy: 0.9738 - val_loss: 0.9066 - val_accuracy: 0.8090\n",
      "Epoch 9/20\n",
      "229/229 [==============================] - 29s 128ms/step - loss: 0.0527 - accuracy: 0.9797 - val_loss: 1.0443 - val_accuracy: 0.8115\n",
      "Epoch 10/20\n",
      "229/229 [==============================] - 24s 107ms/step - loss: 0.0443 - accuracy: 0.9823 - val_loss: 1.1163 - val_accuracy: 0.8057\n",
      "Epoch 11/20\n",
      "229/229 [==============================] - 27s 116ms/step - loss: 0.0303 - accuracy: 0.9883 - val_loss: 1.3553 - val_accuracy: 0.8094\n",
      "Epoch 12/20\n",
      "229/229 [==============================] - 23s 101ms/step - loss: 0.0248 - accuracy: 0.9906 - val_loss: 1.5659 - val_accuracy: 0.8077\n",
      "Epoch 13/20\n",
      "229/229 [==============================] - 21s 90ms/step - loss: 0.0203 - accuracy: 0.9932 - val_loss: 1.8273 - val_accuracy: 0.8003\n",
      "Epoch 14/20\n",
      "229/229 [==============================] - 20s 89ms/step - loss: 0.0197 - accuracy: 0.9928 - val_loss: 1.7602 - val_accuracy: 0.8082\n",
      "Epoch 15/20\n",
      "229/229 [==============================] - 20s 89ms/step - loss: 0.0160 - accuracy: 0.9941 - val_loss: 1.9714 - val_accuracy: 0.8094\n",
      "Epoch 16/20\n",
      "229/229 [==============================] - 21s 90ms/step - loss: 0.0111 - accuracy: 0.9962 - val_loss: 1.9093 - val_accuracy: 0.8111\n",
      "Epoch 17/20\n",
      "229/229 [==============================] - 21s 90ms/step - loss: 0.0139 - accuracy: 0.9947 - val_loss: 1.8163 - val_accuracy: 0.8145\n",
      "Epoch 18/20\n",
      "229/229 [==============================] - 20s 89ms/step - loss: 0.0121 - accuracy: 0.9957 - val_loss: 1.9411 - val_accuracy: 0.8096\n",
      "Epoch 19/20\n",
      "229/229 [==============================] - 20s 89ms/step - loss: 0.0089 - accuracy: 0.9967 - val_loss: 2.1932 - val_accuracy: 0.8084\n",
      "Epoch 20/20\n",
      "229/229 [==============================] - 21s 90ms/step - loss: 0.0131 - accuracy: 0.9951 - val_loss: 1.9575 - val_accuracy: 0.8064\n"
     ]
    }
   ],
   "source": [
    "history = model.fit(X, y, validation_split=0.2, batch_size = 100, epochs = 20)"
   ]
  },
  {
   "cell_type": "markdown",
   "id": "e89f46d4",
   "metadata": {},
   "source": [
    "### The validation accuracy is coming around 80%"
   ]
  },
  {
   "cell_type": "code",
   "execution_count": 25,
   "id": "05007d17",
   "metadata": {},
   "outputs": [
    {
     "data": {
      "image/png": "[encoded data removed]",
      "text/plain": [
       "<Figure size 432x288 with 1 Axes>"
      ]
     },
     "metadata": {
      "needs_background": "light"
     },
     "output_type": "display_data"
    }
   ],
   "source": [
    "%matplotlib inline\n",
    "import matplotlib.pyplot as plt\n",
    "\n",
    "plt.plot(history.history['accuracy'])\n",
    "plt.plot(history.history['val_accuracy'])\n",
    "plt.title('Training and Validation accuracy')\n",
    "plt.xlabel('Epoch')\n",
    "plt.ylabel('Accuracy')\n",
    "plt.legend(['Training', 'Validation'], loc='best')\n",
    "plt.grid(True)"
   ]
  }
 ],
 "metadata": {
  "kernelspec": {
   "display_name": "Python 3",
   "language": "python",
   "name": "python3"
  },
  "language_info": {
   "codemirror_mode": {
    "name": "ipython",
    "version": 3
   },
   "file_extension": ".py",
   "mimetype": "text/x-python",
   "name": "python",
   "nbconvert_exporter": "python",
   "pygments_lexer": "ipython3",
   "version": "3.8.8"
  }
 },
 "nbformat": 4,
 "nbformat_minor": 5
}
