{
 "cells": [
  {
   "cell_type": "markdown",
   "metadata": {},
   "source": [
    "## 1. Read and explore the given dataset. ( Rename column/add headers, plot histograms, find data characteristics)"
   ]
  },
  {
   "cell_type": "code",
   "execution_count": 1,
   "metadata": {},
   "outputs": [],
   "source": [
    "import numpy as np\n",
    "import pandas as pd\n",
    "df = pd.read_csv(\"electronic_dataset.csv\")"
   ]
  },
  {
   "cell_type": "code",
   "execution_count": 2,
   "metadata": {},
   "outputs": [
    {
     "data": {
      "text/html": [
       "<div>\n",
       "<style scoped>\n",
       "    .dataframe tbody tr th:only-of-type {\n",
       "        vertical-align: middle;\n",
       "    }\n",
       "\n",
       "    .dataframe tbody tr th {\n",
       "        vertical-align: top;\n",
       "    }\n",
       "\n",
       "    .dataframe thead th {\n",
       "        text-align: right;\n",
       "    }\n",
       "</style>\n",
       "<table border=\"1\" class=\"dataframe\">\n",
       "  <thead>\n",
       "    <tr style=\"text-align: right;\">\n",
       "      <th></th>\n",
       "      <th>user_id</th>\n",
       "      <th>prod_id</th>\n",
       "      <th>ratings</th>\n",
       "      <th>timestamp</th>\n",
       "    </tr>\n",
       "  </thead>\n",
       "  <tbody>\n",
       "    <tr>\n",
       "      <th>0</th>\n",
       "      <td>A3L1GVWVJKWZZS</td>\n",
       "      <td>B0058UUR6E</td>\n",
       "      <td>5.0</td>\n",
       "      <td>1364774400</td>\n",
       "    </tr>\n",
       "    <tr>\n",
       "      <th>1</th>\n",
       "      <td>A08831071BVKZMKNCPI5S</td>\n",
       "      <td>B009ID0VVS</td>\n",
       "      <td>5.0</td>\n",
       "      <td>1357257600</td>\n",
       "    </tr>\n",
       "    <tr>\n",
       "      <th>2</th>\n",
       "      <td>A1SINU2I4IOPNU</td>\n",
       "      <td>B000GBO9IM</td>\n",
       "      <td>4.0</td>\n",
       "      <td>1358121600</td>\n",
       "    </tr>\n",
       "    <tr>\n",
       "      <th>3</th>\n",
       "      <td>A3P3P31EEOX2BD</td>\n",
       "      <td>B00CDCIOHO</td>\n",
       "      <td>3.0</td>\n",
       "      <td>1404950400</td>\n",
       "    </tr>\n",
       "    <tr>\n",
       "      <th>4</th>\n",
       "      <td>A3DBLJ3MPBJQMN</td>\n",
       "      <td>B000MS3VGA</td>\n",
       "      <td>5.0</td>\n",
       "      <td>1294444800</td>\n",
       "    </tr>\n",
       "  </tbody>\n",
       "</table>\n",
       "</div>"
      ],
      "text/plain": [
       "                 user_id     prod_id  ratings   timestamp\n",
       "0         A3L1GVWVJKWZZS  B0058UUR6E      5.0  1364774400\n",
       "1  A08831071BVKZMKNCPI5S  B009ID0VVS      5.0  1357257600\n",
       "2         A1SINU2I4IOPNU  B000GBO9IM      4.0  1358121600\n",
       "3         A3P3P31EEOX2BD  B00CDCIOHO      3.0  1404950400\n",
       "4         A3DBLJ3MPBJQMN  B000MS3VGA      5.0  1294444800"
      ]
     },
     "execution_count": 2,
     "metadata": {},
     "output_type": "execute_result"
    }
   ],
   "source": [
    "df.head()"
   ]
  },
  {
   "cell_type": "code",
   "execution_count": 3,
   "metadata": {},
   "outputs": [],
   "source": [
    "#dropping timestamp as its not a required feature\n",
    "df.drop('timestamp',axis=1,inplace=True)"
   ]
  },
  {
   "cell_type": "code",
   "execution_count": 4,
   "metadata": {},
   "outputs": [],
   "source": [
    "df.rename(columns={'user_id': 'userID', 'prod_id': 'productID'}, inplace=True)"
   ]
  },
  {
   "cell_type": "code",
   "execution_count": 5,
   "metadata": {},
   "outputs": [
    {
     "name": "stdout",
     "output_type": "stream",
     "text": [
      "<class 'pandas.core.frame.DataFrame'>\n",
      "RangeIndex: 500000 entries, 0 to 499999\n",
      "Data columns (total 3 columns):\n",
      " #   Column     Non-Null Count   Dtype  \n",
      "---  ------     --------------   -----  \n",
      " 0   userID     500000 non-null  object \n",
      " 1   productID  500000 non-null  object \n",
      " 2   ratings    500000 non-null  float64\n",
      "dtypes: float64(1), object(2)\n",
      "memory usage: 11.4+ MB\n"
     ]
    }
   ],
   "source": [
    "df.info()"
   ]
  },
  {
   "cell_type": "code",
   "execution_count": 6,
   "metadata": {},
   "outputs": [
    {
     "data": {
      "text/plain": [
       "userID        object\n",
       "productID     object\n",
       "ratings      float64\n",
       "dtype: object"
      ]
     },
     "execution_count": 6,
     "metadata": {},
     "output_type": "execute_result"
    }
   ],
   "source": [
    "df.dtypes"
   ]
  },
  {
   "cell_type": "code",
   "execution_count": 7,
   "metadata": {},
   "outputs": [
    {
     "data": {
      "text/plain": [
       "(500000, 3)"
      ]
     },
     "execution_count": 7,
     "metadata": {},
     "output_type": "execute_result"
    }
   ],
   "source": [
    "df.shape"
   ]
  },
  {
   "cell_type": "code",
   "execution_count": 8,
   "metadata": {},
   "outputs": [
    {
     "data": {
      "text/plain": [
       "userID       0\n",
       "productID    0\n",
       "ratings      0\n",
       "dtype: int64"
      ]
     },
     "execution_count": 8,
     "metadata": {},
     "output_type": "execute_result"
    }
   ],
   "source": [
    "df.isnull().sum()"
   ]
  },
  {
   "cell_type": "code",
   "execution_count": 9,
   "metadata": {},
   "outputs": [
    {
     "data": {
      "image/png": "[encoded data removed]",
      "text/plain": [
       "<Figure size 432x288 with 1 Axes>"
      ]
     },
     "metadata": {
      "needs_background": "light"
     },
     "output_type": "display_data"
    }
   ],
   "source": [
    "import matplotlib.pyplot as plt\n",
    "%matplotlib inline\n",
    "plt.hist(df['ratings'])\n",
    "plt.show()"
   ]
  },
  {
   "cell_type": "code",
   "execution_count": 10,
   "metadata": {},
   "outputs": [
    {
     "name": "stderr",
     "output_type": "stream",
     "text": [
      "C:\\Users\\Omkar\\anaconda3\\lib\\site-packages\\seaborn\\categorical.py:3666: UserWarning: The `factorplot` function has been renamed to `catplot`. The original name will be removed in a future release. Please update your code. Note that the default `kind` in `factorplot` (`'point'`) has changed `'strip'` in `catplot`.\n",
      "  warnings.warn(msg)\n"
     ]
    },
    {
     "data": {
      "text/plain": [
       "<seaborn.axisgrid.FacetGrid at 0x2260c36dd60>"
      ]
     },
     "execution_count": 10,
     "metadata": {},
     "output_type": "execute_result"
    },
    {
     "data": {
      "image/png": "[encoded data removed]",
      "text/plain": [
       "<Figure size 360x360 with 1 Axes>"
      ]
     },
     "metadata": {
      "needs_background": "light"
     },
     "output_type": "display_data"
    }
   ],
   "source": [
    "import seaborn as sns\n",
    "g = sns.factorplot(\"ratings\", data=df, kind='count')\n",
    "g.set_ylabels(\"Total number of ratings\")"
   ]
  },
  {
   "cell_type": "code",
   "execution_count": 11,
   "metadata": {
    "scrolled": true
   },
   "outputs": [
    {
     "data": {
      "text/plain": [
       "count            500000\n",
       "unique           448368\n",
       "top       A680RUE1FDO8B\n",
       "freq                 36\n",
       "Name: userID, dtype: object"
      ]
     },
     "execution_count": 11,
     "metadata": {},
     "output_type": "execute_result"
    }
   ],
   "source": [
    "df.userID.describe()"
   ]
  },
  {
   "cell_type": "code",
   "execution_count": 12,
   "metadata": {},
   "outputs": [
    {
     "data": {
      "text/plain": [
       "count         500000\n",
       "unique        130138\n",
       "top       B0074BW614\n",
       "freq            1138\n",
       "Name: productID, dtype: object"
      ]
     },
     "execution_count": 12,
     "metadata": {},
     "output_type": "execute_result"
    }
   ],
   "source": [
    "df.productID.describe()"
   ]
  },
  {
   "cell_type": "markdown",
   "metadata": {},
   "source": [
    "### EDA\n",
    "There are 500000 records in the dataset<br>\n",
    "There are no missing values in the dataset<br>\n",
    "There are 448368 unique users in the dataset<br>\n",
    "There are 130138 unique items in the dataset<br>\n",
    "There are no outliers in the ratings column, since the total value counts add upto original number of rows<br>\n",
    "Majority of the ratings are concentrated towards 5 stars"
   ]
  },
  {
   "cell_type": "markdown",
   "metadata": {},
   "source": [
    "## 2. Build Popularity Recommender model"
   ]
  },
  {
   "cell_type": "code",
   "execution_count": 15,
   "metadata": {},
   "outputs": [],
   "source": [
    "def popularity_recommender(userID, num_of_recommendations=5):\n",
    "    product_grouped_by_rating = df.groupby(['productID']).agg({'ratings': 'count'}).reset_index()\n",
    "    sorted_product = product_grouped_by_rating.sort_values(['ratings'], ascending = False) # ratings in descending order\n",
    "    df2 = sorted_product.reset_index(drop=True)\n",
    "    recommendations = df2.head(num_of_recommendations)\n",
    "    recommendations.userID = userID\n",
    "    return recommendations.productID"
   ]
  },
  {
   "cell_type": "code",
   "execution_count": 16,
   "metadata": {},
   "outputs": [
    {
     "name": "stdout",
     "output_type": "stream",
     "text": [
      "0    B0074BW614\n",
      "1    B00DR0PDNE\n",
      "2    B007WTAJTO\n",
      "3    B0019EHU8G\n",
      "4    B006GWO5WK\n",
      "Name: productID, dtype: object\n"
     ]
    }
   ],
   "source": [
    "print(popularity_recommender('A2CX7LUOHB2NDG'))"
   ]
  },
  {
   "cell_type": "code",
   "execution_count": 18,
   "metadata": {},
   "outputs": [
    {
     "name": "stdout",
     "output_type": "stream",
     "text": [
      "0    B0074BW614\n",
      "1    B00DR0PDNE\n",
      "2    B007WTAJTO\n",
      "3    B0019EHU8G\n",
      "4    B006GWO5WK\n",
      "Name: productID, dtype: object\n"
     ]
    }
   ],
   "source": [
    "print(popularity_recommender('A2WNBOD3WNDNKT'))"
   ]
  },
  {
   "cell_type": "markdown",
   "metadata": {},
   "source": [
    "### since it is popularity based recommendation system, it returns the same list of the popular products for all users"
   ]
  },
  {
   "cell_type": "markdown",
   "metadata": {},
   "source": [
    "## 3. Split the data randomly into a train and test dataset. ( For example, split it in 70/30 ratio)"
   ]
  },
  {
   "cell_type": "code",
   "execution_count": null,
   "metadata": {},
   "outputs": [],
   "source": [
    "from sklearn.model_selection import train_test_split\n",
    "train_data, test_data = train_test_split(df, test_size = 0.30, random_state=0)"
   ]
  },
  {
   "cell_type": "markdown",
   "metadata": {},
   "source": [
    "## 4. Build Collaborative Filtering model"
   ]
  },
  {
   "cell_type": "code",
   "execution_count": 20,
   "metadata": {},
   "outputs": [
    {
     "data": {
      "text/html": [
       "<div>\n",
       "<style scoped>\n",
       "    .dataframe tbody tr th:only-of-type {\n",
       "        vertical-align: middle;\n",
       "    }\n",
       "\n",
       "    .dataframe tbody tr th {\n",
       "        vertical-align: top;\n",
       "    }\n",
       "\n",
       "    .dataframe thead th {\n",
       "        text-align: right;\n",
       "    }\n",
       "</style>\n",
       "<table border=\"1\" class=\"dataframe\">\n",
       "  <thead>\n",
       "    <tr style=\"text-align: right;\">\n",
       "      <th></th>\n",
       "      <th>userID</th>\n",
       "      <th>productID</th>\n",
       "      <th>ratings</th>\n",
       "    </tr>\n",
       "  </thead>\n",
       "  <tbody>\n",
       "    <tr>\n",
       "      <th>0</th>\n",
       "      <td>A3L1GVWVJKWZZS</td>\n",
       "      <td>B0058UUR6E</td>\n",
       "      <td>5.0</td>\n",
       "    </tr>\n",
       "    <tr>\n",
       "      <th>1</th>\n",
       "      <td>A08831071BVKZMKNCPI5S</td>\n",
       "      <td>B009ID0VVS</td>\n",
       "      <td>5.0</td>\n",
       "    </tr>\n",
       "    <tr>\n",
       "      <th>2</th>\n",
       "      <td>A1SINU2I4IOPNU</td>\n",
       "      <td>B000GBO9IM</td>\n",
       "      <td>4.0</td>\n",
       "    </tr>\n",
       "    <tr>\n",
       "      <th>3</th>\n",
       "      <td>A3P3P31EEOX2BD</td>\n",
       "      <td>B00CDCIOHO</td>\n",
       "      <td>3.0</td>\n",
       "    </tr>\n",
       "    <tr>\n",
       "      <th>4</th>\n",
       "      <td>A3DBLJ3MPBJQMN</td>\n",
       "      <td>B000MS3VGA</td>\n",
       "      <td>5.0</td>\n",
       "    </tr>\n",
       "  </tbody>\n",
       "</table>\n",
       "</div>"
      ],
      "text/plain": [
       "                  userID   productID  ratings\n",
       "0         A3L1GVWVJKWZZS  B0058UUR6E      5.0\n",
       "1  A08831071BVKZMKNCPI5S  B009ID0VVS      5.0\n",
       "2         A1SINU2I4IOPNU  B000GBO9IM      4.0\n",
       "3         A3P3P31EEOX2BD  B00CDCIOHO      3.0\n",
       "4         A3DBLJ3MPBJQMN  B000MS3VGA      5.0"
      ]
     },
     "execution_count": 20,
     "metadata": {},
     "output_type": "execute_result"
    }
   ],
   "source": [
    "collaborative_filter = df.head(10000)\n",
    "collaborative_filter.head()"
   ]
  },
  {
   "cell_type": "code",
   "execution_count": 24,
   "metadata": {},
   "outputs": [
    {
     "data": {
      "text/html": [
       "<div>\n",
       "<style scoped>\n",
       "    .dataframe tbody tr th:only-of-type {\n",
       "        vertical-align: middle;\n",
       "    }\n",
       "\n",
       "    .dataframe tbody tr th {\n",
       "        vertical-align: top;\n",
       "    }\n",
       "\n",
       "    .dataframe thead th {\n",
       "        text-align: right;\n",
       "    }\n",
       "</style>\n",
       "<table border=\"1\" class=\"dataframe\">\n",
       "  <thead>\n",
       "    <tr style=\"text-align: right;\">\n",
       "      <th>productID</th>\n",
       "      <th>0972683275</th>\n",
       "      <th>1400532620</th>\n",
       "      <th>1400532655</th>\n",
       "      <th>140053271X</th>\n",
       "      <th>8862935293</th>\n",
       "      <th>9888002198</th>\n",
       "      <th>9983891204</th>\n",
       "      <th>9983902842</th>\n",
       "      <th>B000001OM5</th>\n",
       "      <th>B00000J0BM</th>\n",
       "      <th>...</th>\n",
       "      <th>B00K5ARKF8</th>\n",
       "      <th>B00K899B9Y</th>\n",
       "      <th>B00KA4UJD4</th>\n",
       "      <th>B00KDIT95G</th>\n",
       "      <th>B00KDR84QC</th>\n",
       "      <th>B00KFAG64O</th>\n",
       "      <th>B00KFAGCUM</th>\n",
       "      <th>B00KSLCU72</th>\n",
       "      <th>B00L403O94</th>\n",
       "      <th>B00LMOH8DU</th>\n",
       "    </tr>\n",
       "    <tr>\n",
       "      <th>userID</th>\n",
       "      <th></th>\n",
       "      <th></th>\n",
       "      <th></th>\n",
       "      <th></th>\n",
       "      <th></th>\n",
       "      <th></th>\n",
       "      <th></th>\n",
       "      <th></th>\n",
       "      <th></th>\n",
       "      <th></th>\n",
       "      <th></th>\n",
       "      <th></th>\n",
       "      <th></th>\n",
       "      <th></th>\n",
       "      <th></th>\n",
       "      <th></th>\n",
       "      <th></th>\n",
       "      <th></th>\n",
       "      <th></th>\n",
       "      <th></th>\n",
       "      <th></th>\n",
       "    </tr>\n",
       "  </thead>\n",
       "  <tbody>\n",
       "    <tr>\n",
       "      <th>A0039882N9YMEWTV40QZ</th>\n",
       "      <td>0.0</td>\n",
       "      <td>0.0</td>\n",
       "      <td>0.0</td>\n",
       "      <td>0.0</td>\n",
       "      <td>0.0</td>\n",
       "      <td>0.0</td>\n",
       "      <td>0.0</td>\n",
       "      <td>0.0</td>\n",
       "      <td>0.0</td>\n",
       "      <td>0.0</td>\n",
       "      <td>...</td>\n",
       "      <td>0.0</td>\n",
       "      <td>0.0</td>\n",
       "      <td>0.0</td>\n",
       "      <td>0.0</td>\n",
       "      <td>0.0</td>\n",
       "      <td>0.0</td>\n",
       "      <td>0.0</td>\n",
       "      <td>0.0</td>\n",
       "      <td>0.0</td>\n",
       "      <td>0.0</td>\n",
       "    </tr>\n",
       "    <tr>\n",
       "      <th>A0154198260VIT02KU4BW</th>\n",
       "      <td>0.0</td>\n",
       "      <td>0.0</td>\n",
       "      <td>0.0</td>\n",
       "      <td>0.0</td>\n",
       "      <td>0.0</td>\n",
       "      <td>0.0</td>\n",
       "      <td>0.0</td>\n",
       "      <td>0.0</td>\n",
       "      <td>0.0</td>\n",
       "      <td>0.0</td>\n",
       "      <td>...</td>\n",
       "      <td>0.0</td>\n",
       "      <td>0.0</td>\n",
       "      <td>0.0</td>\n",
       "      <td>0.0</td>\n",
       "      <td>0.0</td>\n",
       "      <td>0.0</td>\n",
       "      <td>0.0</td>\n",
       "      <td>0.0</td>\n",
       "      <td>0.0</td>\n",
       "      <td>0.0</td>\n",
       "    </tr>\n",
       "    <tr>\n",
       "      <th>A0193442L7IJXD7HANDM</th>\n",
       "      <td>0.0</td>\n",
       "      <td>0.0</td>\n",
       "      <td>0.0</td>\n",
       "      <td>0.0</td>\n",
       "      <td>0.0</td>\n",
       "      <td>0.0</td>\n",
       "      <td>0.0</td>\n",
       "      <td>0.0</td>\n",
       "      <td>0.0</td>\n",
       "      <td>0.0</td>\n",
       "      <td>...</td>\n",
       "      <td>0.0</td>\n",
       "      <td>0.0</td>\n",
       "      <td>0.0</td>\n",
       "      <td>0.0</td>\n",
       "      <td>0.0</td>\n",
       "      <td>0.0</td>\n",
       "      <td>0.0</td>\n",
       "      <td>0.0</td>\n",
       "      <td>0.0</td>\n",
       "      <td>0.0</td>\n",
       "    </tr>\n",
       "    <tr>\n",
       "      <th>A0266076X6KPZ6CCHGVS</th>\n",
       "      <td>0.0</td>\n",
       "      <td>0.0</td>\n",
       "      <td>0.0</td>\n",
       "      <td>0.0</td>\n",
       "      <td>0.0</td>\n",
       "      <td>0.0</td>\n",
       "      <td>0.0</td>\n",
       "      <td>0.0</td>\n",
       "      <td>0.0</td>\n",
       "      <td>0.0</td>\n",
       "      <td>...</td>\n",
       "      <td>0.0</td>\n",
       "      <td>0.0</td>\n",
       "      <td>0.0</td>\n",
       "      <td>0.0</td>\n",
       "      <td>0.0</td>\n",
       "      <td>0.0</td>\n",
       "      <td>0.0</td>\n",
       "      <td>0.0</td>\n",
       "      <td>0.0</td>\n",
       "      <td>0.0</td>\n",
       "    </tr>\n",
       "    <tr>\n",
       "      <th>A03058242Q8HEE7R0P6UI</th>\n",
       "      <td>0.0</td>\n",
       "      <td>0.0</td>\n",
       "      <td>0.0</td>\n",
       "      <td>0.0</td>\n",
       "      <td>0.0</td>\n",
       "      <td>0.0</td>\n",
       "      <td>0.0</td>\n",
       "      <td>0.0</td>\n",
       "      <td>0.0</td>\n",
       "      <td>0.0</td>\n",
       "      <td>...</td>\n",
       "      <td>0.0</td>\n",
       "      <td>0.0</td>\n",
       "      <td>0.0</td>\n",
       "      <td>0.0</td>\n",
       "      <td>0.0</td>\n",
       "      <td>0.0</td>\n",
       "      <td>0.0</td>\n",
       "      <td>0.0</td>\n",
       "      <td>0.0</td>\n",
       "      <td>0.0</td>\n",
       "    </tr>\n",
       "  </tbody>\n",
       "</table>\n",
       "<p>5 rows × 7978 columns</p>\n",
       "</div>"
      ],
      "text/plain": [
       "productID              0972683275  1400532620  1400532655  140053271X  \\\n",
       "userID                                                                  \n",
       "A0039882N9YMEWTV40QZ          0.0         0.0         0.0         0.0   \n",
       "A0154198260VIT02KU4BW         0.0         0.0         0.0         0.0   \n",
       "A0193442L7IJXD7HANDM          0.0         0.0         0.0         0.0   \n",
       "A0266076X6KPZ6CCHGVS          0.0         0.0         0.0         0.0   \n",
       "A03058242Q8HEE7R0P6UI         0.0         0.0         0.0         0.0   \n",
       "\n",
       "productID              8862935293  9888002198  9983891204  9983902842  \\\n",
       "userID                                                                  \n",
       "A0039882N9YMEWTV40QZ          0.0         0.0         0.0         0.0   \n",
       "A0154198260VIT02KU4BW         0.0         0.0         0.0         0.0   \n",
       "A0193442L7IJXD7HANDM          0.0         0.0         0.0         0.0   \n",
       "A0266076X6KPZ6CCHGVS          0.0         0.0         0.0         0.0   \n",
       "A03058242Q8HEE7R0P6UI         0.0         0.0         0.0         0.0   \n",
       "\n",
       "productID              B000001OM5  B00000J0BM  ...  B00K5ARKF8  B00K899B9Y  \\\n",
       "userID                                         ...                           \n",
       "A0039882N9YMEWTV40QZ          0.0         0.0  ...         0.0         0.0   \n",
       "A0154198260VIT02KU4BW         0.0         0.0  ...         0.0         0.0   \n",
       "A0193442L7IJXD7HANDM          0.0         0.0  ...         0.0         0.0   \n",
       "A0266076X6KPZ6CCHGVS          0.0         0.0  ...         0.0         0.0   \n",
       "A03058242Q8HEE7R0P6UI         0.0         0.0  ...         0.0         0.0   \n",
       "\n",
       "productID              B00KA4UJD4  B00KDIT95G  B00KDR84QC  B00KFAG64O  \\\n",
       "userID                                                                  \n",
       "A0039882N9YMEWTV40QZ          0.0         0.0         0.0         0.0   \n",
       "A0154198260VIT02KU4BW         0.0         0.0         0.0         0.0   \n",
       "A0193442L7IJXD7HANDM          0.0         0.0         0.0         0.0   \n",
       "A0266076X6KPZ6CCHGVS          0.0         0.0         0.0         0.0   \n",
       "A03058242Q8HEE7R0P6UI         0.0         0.0         0.0         0.0   \n",
       "\n",
       "productID              B00KFAGCUM  B00KSLCU72  B00L403O94  B00LMOH8DU  \n",
       "userID                                                                 \n",
       "A0039882N9YMEWTV40QZ          0.0         0.0         0.0         0.0  \n",
       "A0154198260VIT02KU4BW         0.0         0.0         0.0         0.0  \n",
       "A0193442L7IJXD7HANDM          0.0         0.0         0.0         0.0  \n",
       "A0266076X6KPZ6CCHGVS          0.0         0.0         0.0         0.0  \n",
       "A03058242Q8HEE7R0P6UI         0.0         0.0         0.0         0.0  \n",
       "\n",
       "[5 rows x 7978 columns]"
      ]
     },
     "execution_count": 24,
     "metadata": {},
     "output_type": "execute_result"
    }
   ],
   "source": [
    "pivot_df = collaborative_filter.pivot(index = 'userID', columns ='productID', values = 'ratings').fillna(0)\n",
    "pivot_df.head()"
   ]
  },
  {
   "cell_type": "code",
   "execution_count": 26,
   "metadata": {},
   "outputs": [],
   "source": [
    "from scipy.sparse.linalg import svds\n",
    "U, sigma, Vt = svds(pivot_df, k = 50)\n",
    "sigma = np.diag(sigma)"
   ]
  },
  {
   "cell_type": "code",
   "execution_count": 29,
   "metadata": {},
   "outputs": [
    {
     "data": {
      "text/html": [
       "<div>\n",
       "<style scoped>\n",
       "    .dataframe tbody tr th:only-of-type {\n",
       "        vertical-align: middle;\n",
       "    }\n",
       "\n",
       "    .dataframe tbody tr th {\n",
       "        vertical-align: top;\n",
       "    }\n",
       "\n",
       "    .dataframe thead th {\n",
       "        text-align: right;\n",
       "    }\n",
       "</style>\n",
       "<table border=\"1\" class=\"dataframe\">\n",
       "  <thead>\n",
       "    <tr style=\"text-align: right;\">\n",
       "      <th>productID</th>\n",
       "      <th>0972683275</th>\n",
       "      <th>1400532620</th>\n",
       "      <th>1400532655</th>\n",
       "      <th>140053271X</th>\n",
       "      <th>8862935293</th>\n",
       "      <th>9888002198</th>\n",
       "      <th>9983891204</th>\n",
       "      <th>9983902842</th>\n",
       "      <th>B000001OM5</th>\n",
       "      <th>B00000J0BM</th>\n",
       "      <th>...</th>\n",
       "      <th>B00K5ARKF8</th>\n",
       "      <th>B00K899B9Y</th>\n",
       "      <th>B00KA4UJD4</th>\n",
       "      <th>B00KDIT95G</th>\n",
       "      <th>B00KDR84QC</th>\n",
       "      <th>B00KFAG64O</th>\n",
       "      <th>B00KFAGCUM</th>\n",
       "      <th>B00KSLCU72</th>\n",
       "      <th>B00L403O94</th>\n",
       "      <th>B00LMOH8DU</th>\n",
       "    </tr>\n",
       "  </thead>\n",
       "  <tbody>\n",
       "    <tr>\n",
       "      <th>0</th>\n",
       "      <td>-3.858509e-34</td>\n",
       "      <td>5.312101e-37</td>\n",
       "      <td>8.829806e-34</td>\n",
       "      <td>8.684734e-34</td>\n",
       "      <td>7.304922e-35</td>\n",
       "      <td>2.824105e-34</td>\n",
       "      <td>-8.682936e-34</td>\n",
       "      <td>2.359576e-34</td>\n",
       "      <td>1.088018e-35</td>\n",
       "      <td>2.781119e-34</td>\n",
       "      <td>...</td>\n",
       "      <td>-8.946691e-34</td>\n",
       "      <td>-7.888031e-34</td>\n",
       "      <td>3.878124e-34</td>\n",
       "      <td>-5.873718e-34</td>\n",
       "      <td>4.546641e-35</td>\n",
       "      <td>7.001503e-36</td>\n",
       "      <td>6.315665e-34</td>\n",
       "      <td>-1.629118e-34</td>\n",
       "      <td>-5.938557e-36</td>\n",
       "      <td>4.115509e-34</td>\n",
       "    </tr>\n",
       "    <tr>\n",
       "      <th>1</th>\n",
       "      <td>1.225323e-33</td>\n",
       "      <td>5.565277e-36</td>\n",
       "      <td>-2.777947e-33</td>\n",
       "      <td>-2.522150e-33</td>\n",
       "      <td>7.859786e-34</td>\n",
       "      <td>-8.260358e-34</td>\n",
       "      <td>2.256782e-33</td>\n",
       "      <td>-6.962585e-34</td>\n",
       "      <td>-2.124284e-34</td>\n",
       "      <td>-8.827552e-34</td>\n",
       "      <td>...</td>\n",
       "      <td>2.548394e-33</td>\n",
       "      <td>2.342902e-33</td>\n",
       "      <td>-1.120910e-33</td>\n",
       "      <td>1.633850e-33</td>\n",
       "      <td>-4.329332e-34</td>\n",
       "      <td>1.365426e-34</td>\n",
       "      <td>-1.847648e-33</td>\n",
       "      <td>5.132246e-34</td>\n",
       "      <td>-1.571517e-33</td>\n",
       "      <td>-1.215651e-33</td>\n",
       "    </tr>\n",
       "    <tr>\n",
       "      <th>2</th>\n",
       "      <td>-1.183246e-34</td>\n",
       "      <td>1.700509e-37</td>\n",
       "      <td>2.700833e-34</td>\n",
       "      <td>2.669728e-34</td>\n",
       "      <td>2.299120e-35</td>\n",
       "      <td>8.668094e-35</td>\n",
       "      <td>-2.657758e-34</td>\n",
       "      <td>7.199996e-35</td>\n",
       "      <td>-2.036262e-36</td>\n",
       "      <td>8.552254e-35</td>\n",
       "      <td>...</td>\n",
       "      <td>-2.743389e-34</td>\n",
       "      <td>-2.421535e-34</td>\n",
       "      <td>1.186246e-34</td>\n",
       "      <td>-1.801416e-34</td>\n",
       "      <td>1.264483e-35</td>\n",
       "      <td>5.876894e-36</td>\n",
       "      <td>1.938637e-34</td>\n",
       "      <td>-4.991359e-35</td>\n",
       "      <td>-2.691672e-36</td>\n",
       "      <td>1.259288e-34</td>\n",
       "    </tr>\n",
       "    <tr>\n",
       "      <th>3</th>\n",
       "      <td>-1.584738e-34</td>\n",
       "      <td>2.742141e-37</td>\n",
       "      <td>3.594346e-34</td>\n",
       "      <td>3.555792e-34</td>\n",
       "      <td>3.631149e-35</td>\n",
       "      <td>1.157963e-34</td>\n",
       "      <td>-3.523675e-34</td>\n",
       "      <td>9.616016e-35</td>\n",
       "      <td>-2.960946e-36</td>\n",
       "      <td>1.149130e-34</td>\n",
       "      <td>...</td>\n",
       "      <td>-3.657814e-34</td>\n",
       "      <td>-3.238989e-34</td>\n",
       "      <td>1.583560e-34</td>\n",
       "      <td>-2.411602e-34</td>\n",
       "      <td>2.519478e-35</td>\n",
       "      <td>6.375518e-36</td>\n",
       "      <td>2.586896e-34</td>\n",
       "      <td>-6.668530e-35</td>\n",
       "      <td>-1.512439e-35</td>\n",
       "      <td>1.672847e-34</td>\n",
       "    </tr>\n",
       "    <tr>\n",
       "      <th>4</th>\n",
       "      <td>1.842621e-34</td>\n",
       "      <td>5.630138e-37</td>\n",
       "      <td>-2.580181e-34</td>\n",
       "      <td>-3.877313e-34</td>\n",
       "      <td>9.910694e-35</td>\n",
       "      <td>-7.476725e-35</td>\n",
       "      <td>3.019322e-34</td>\n",
       "      <td>-7.211285e-35</td>\n",
       "      <td>7.292778e-34</td>\n",
       "      <td>-9.985872e-35</td>\n",
       "      <td>...</td>\n",
       "      <td>4.159647e-34</td>\n",
       "      <td>3.907370e-34</td>\n",
       "      <td>-1.550164e-34</td>\n",
       "      <td>2.194945e-34</td>\n",
       "      <td>-6.496674e-34</td>\n",
       "      <td>-5.585067e-34</td>\n",
       "      <td>-2.502402e-34</td>\n",
       "      <td>6.531931e-35</td>\n",
       "      <td>1.753925e-34</td>\n",
       "      <td>-1.364686e-34</td>\n",
       "    </tr>\n",
       "  </tbody>\n",
       "</table>\n",
       "<p>5 rows × 7978 columns</p>\n",
       "</div>"
      ],
      "text/plain": [
       "productID    0972683275    1400532620    1400532655    140053271X  \\\n",
       "0         -3.858509e-34  5.312101e-37  8.829806e-34  8.684734e-34   \n",
       "1          1.225323e-33  5.565277e-36 -2.777947e-33 -2.522150e-33   \n",
       "2         -1.183246e-34  1.700509e-37  2.700833e-34  2.669728e-34   \n",
       "3         -1.584738e-34  2.742141e-37  3.594346e-34  3.555792e-34   \n",
       "4          1.842621e-34  5.630138e-37 -2.580181e-34 -3.877313e-34   \n",
       "\n",
       "productID    8862935293    9888002198    9983891204    9983902842  \\\n",
       "0          7.304922e-35  2.824105e-34 -8.682936e-34  2.359576e-34   \n",
       "1          7.859786e-34 -8.260358e-34  2.256782e-33 -6.962585e-34   \n",
       "2          2.299120e-35  8.668094e-35 -2.657758e-34  7.199996e-35   \n",
       "3          3.631149e-35  1.157963e-34 -3.523675e-34  9.616016e-35   \n",
       "4          9.910694e-35 -7.476725e-35  3.019322e-34 -7.211285e-35   \n",
       "\n",
       "productID    B000001OM5    B00000J0BM  ...    B00K5ARKF8    B00K899B9Y  \\\n",
       "0          1.088018e-35  2.781119e-34  ... -8.946691e-34 -7.888031e-34   \n",
       "1         -2.124284e-34 -8.827552e-34  ...  2.548394e-33  2.342902e-33   \n",
       "2         -2.036262e-36  8.552254e-35  ... -2.743389e-34 -2.421535e-34   \n",
       "3         -2.960946e-36  1.149130e-34  ... -3.657814e-34 -3.238989e-34   \n",
       "4          7.292778e-34 -9.985872e-35  ...  4.159647e-34  3.907370e-34   \n",
       "\n",
       "productID    B00KA4UJD4    B00KDIT95G    B00KDR84QC    B00KFAG64O  \\\n",
       "0          3.878124e-34 -5.873718e-34  4.546641e-35  7.001503e-36   \n",
       "1         -1.120910e-33  1.633850e-33 -4.329332e-34  1.365426e-34   \n",
       "2          1.186246e-34 -1.801416e-34  1.264483e-35  5.876894e-36   \n",
       "3          1.583560e-34 -2.411602e-34  2.519478e-35  6.375518e-36   \n",
       "4         -1.550164e-34  2.194945e-34 -6.496674e-34 -5.585067e-34   \n",
       "\n",
       "productID    B00KFAGCUM    B00KSLCU72    B00L403O94    B00LMOH8DU  \n",
       "0          6.315665e-34 -1.629118e-34 -5.938557e-36  4.115509e-34  \n",
       "1         -1.847648e-33  5.132246e-34 -1.571517e-33 -1.215651e-33  \n",
       "2          1.938637e-34 -4.991359e-35 -2.691672e-36  1.259288e-34  \n",
       "3          2.586896e-34 -6.668530e-35 -1.512439e-35  1.672847e-34  \n",
       "4         -2.502402e-34  6.531931e-35  1.753925e-34 -1.364686e-34  \n",
       "\n",
       "[5 rows x 7978 columns]"
      ]
     },
     "execution_count": 29,
     "metadata": {},
     "output_type": "execute_result"
    }
   ],
   "source": [
    "user_predicted_ratings = np.dot(np.dot(U, sigma), Vt) \n",
    "pred_df = pd.DataFrame(user_predicted_ratings, columns = pivot_df.columns)\n",
    "pred_df.head()"
   ]
  },
  {
   "cell_type": "code",
   "execution_count": 38,
   "metadata": {},
   "outputs": [],
   "source": [
    "def item_recommender(userID, pivot_df, pred_df, num_of_recommendations=5):\n",
    "    user_idx = userID-1\n",
    "    sort_prod_by_ratings = pivot_df.iloc[user_idx].sort_values(ascending=False)\n",
    "    sort_prod_by_predictions = pred_df.iloc[user_idx].sort_values(ascending=False)\n",
    "    \n",
    "    df = pd.concat([sort_prod_by_ratings, sort_prod_by_predictions], axis=1)\n",
    "    df.index.name = 'Recommended Items'\n",
    "    df.columns = ['prod_by_ratings', 'prod_by_predictions']\n",
    "    df = df.loc[df.prod_by_ratings == 0]   \n",
    "    df = df.sort_values('prod_by_predictions', ascending=False)\n",
    "    print(df.head(num_of_recommendations))"
   ]
  },
  {
   "cell_type": "code",
   "execution_count": 39,
   "metadata": {},
   "outputs": [
    {
     "name": "stdout",
     "output_type": "stream",
     "text": [
      "                   prod_by_ratings  prod_by_predictions\n",
      "Recommended Items                                      \n",
      "B0015AARJI                     0.0         1.383651e-16\n",
      "B000LRMS66                     0.0         9.501256e-17\n",
      "B002V88HFE                     0.0         3.783779e-17\n",
      "B002BH3I9U                     0.0         3.481604e-17\n",
      "B0007XJSQC                     0.0         3.281787e-17\n"
     ]
    }
   ],
   "source": [
    "item_recommender(5, pivot_df, pred_df)"
   ]
  },
  {
   "cell_type": "markdown",
   "metadata": {},
   "source": [
    "## 5. Evaluate the above model. ( Once the model is trained on the training data, it can be used to compute the error (like RMSE) on predictions made on the test data.) You can also use a different method to evaluate the models"
   ]
  },
  {
   "cell_type": "code",
   "execution_count": 40,
   "metadata": {},
   "outputs": [
    {
     "data": {
      "text/plain": [
       "0.00056"
      ]
     },
     "execution_count": 40,
     "metadata": {},
     "output_type": "execute_result"
    }
   ],
   "source": [
    "rmse_df = pd.concat([pivot_df.mean(), pred_df.mean()], axis=1)\n",
    "rmse_df.columns = ['Avg_actual_ratings', 'Avg_predicted_ratings']\n",
    "rmse = round((((rmse_df.Avg_actual_ratings - rmse_df.Avg_predicted_ratings) ** 2).mean() ** 0.5), 5)\n",
    "rmse"
   ]
  },
  {
   "cell_type": "markdown",
   "metadata": {},
   "source": [
    "## 6. Get top - K ( K = 5) recommendations. Since our goal is to recommend new products to each user based on his/her habits, we will recommend 5 new products"
   ]
  },
  {
   "cell_type": "code",
   "execution_count": 42,
   "metadata": {},
   "outputs": [
    {
     "name": "stdout",
     "output_type": "stream",
     "text": [
      "                   prod_by_ratings  prod_by_predictions\n",
      "Recommended Items                                      \n",
      "B00316263Y                     0.0         1.368448e-17\n",
      "B003ES5ZUU                     0.0         1.117949e-17\n",
      "B003ELYQGG                     0.0         9.983773e-18\n",
      "B002WE6D44                     0.0         8.549165e-18\n",
      "B00622AG6S                     0.0         7.825965e-18\n"
     ]
    }
   ],
   "source": [
    "item_recommender(20, pivot_df, predictions_df)"
   ]
  },
  {
   "cell_type": "markdown",
   "metadata": {},
   "source": [
    "## 8.Summarise your insights"
   ]
  },
  {
   "cell_type": "markdown",
   "metadata": {},
   "source": [
    "The collaborative filtering algorithm uses user behavior for recommending items<br>\n",
    "This algorithm first finds the similarity score between users, based on this similarity score, it then picks out the most similar users and recommends products which these similar users have liked or bought previously<br>\n",
    "The popularity based items are solely based on the ratings count or frequency of a product(with or without weighted ratings<br>\n",
    "There is no way to know the user habits, also the products with very few ratings will never make this list until a hybrid recommendation system is used such as popularity with random<br>\n",
    "This approach can be weighted to make sure, random recommedations are for those products which have very low ratings count but high rating values<br>\n",
    "There are limitations with collaborative filtering with a straightforward implementation, it is obeserved that the recommendations tend to be already popular, and the items from the long tail section might get ignored<br>\n",
    "Users having higher correlation will tend to be similar"
   ]
  }
 ],
 "metadata": {
  "kernelspec": {
   "display_name": "Python 3",
   "language": "python",
   "name": "python3"
  },
  "language_info": {
   "codemirror_mode": {
    "name": "ipython",
    "version": 3
   },
   "file_extension": ".py",
   "mimetype": "text/x-python",
   "name": "python",
   "nbconvert_exporter": "python",
   "pygments_lexer": "ipython3",
   "version": "3.8.3"
  }
 },
 "nbformat": 4,
 "nbformat_minor": 4
}
