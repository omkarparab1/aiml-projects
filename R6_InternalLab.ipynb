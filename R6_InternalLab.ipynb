{
 "cells": [
  {
   "cell_type": "markdown",
   "metadata": {
    "id": "YeoiMbH7djEv"
   },
   "source": [
    "# Stock prices dataset\n",
    "The data is of tock exchange's stock listings for each trading day of 2010 to 2016.\n",
    "\n",
    "## Description\n",
    "A brief description of columns.\n",
    "- open: The opening market price of the equity symbol on the date\n",
    "- high: The highest market price of the equity symbol on the date\n",
    "- low: The lowest recorded market price of the equity symbol on the date\n",
    "- close: The closing recorded price of the equity symbol on the date\n",
    "- symbol: Symbol of the listed company\n",
    "- volume: Total traded volume of the equity symbol on the date\n",
    "- date: Date of record"
   ]
  },
  {
   "cell_type": "markdown",
   "metadata": {
    "id": "RSoYY2nII_UW"
   },
   "source": [
    "In this assignment, we will work on the stock prices dataset named \"prices.csv\". Task is to create a Neural Network to classify closing price for a stock based on some parameters."
   ]
  },
  {
   "cell_type": "markdown",
   "metadata": {
    "id": "_88voqAH-O6J"
   },
   "source": [
    "## Question 1"
   ]
  },
  {
   "cell_type": "markdown",
   "metadata": {
    "id": "dRHCeJqP-evf"
   },
   "source": [
    "### Load the data\n",
    "- load the csv file and read it using pandas\n",
    "- file name is prices.csv"
   ]
  },
  {
   "cell_type": "code",
   "execution_count": 18,
   "metadata": {
    "colab": {
     "base_uri": "https://localhost:8080/"
    },
    "executionInfo": {
     "elapsed": 24940,
     "status": "ok",
     "timestamp": 1610283226923,
     "user": {
      "displayName": "jovije1996",
      "photoUrl": "",
      "userId": "07377799791697773871"
     },
     "user_tz": -330
    },
    "id": "Gr4YcffYd1FQ",
    "outputId": "07af72c2-13ed-4185-f1e4-2448c5e3feff"
   },
   "outputs": [
    {
     "name": "stdout",
     "output_type": "stream",
     "text": [
      "Mounted at /content/drive\n"
     ]
    }
   ],
   "source": [
    "# run this cell to to mount the google drive if you are using google colab\n",
    "\n",
    "from google.colab import drive\n",
    "drive.mount('/content/drive')"
   ]
  },
  {
   "cell_type": "code",
   "execution_count": 19,
   "metadata": {
    "executionInfo": {
     "elapsed": 760,
     "status": "ok",
     "timestamp": 1610283228998,
     "user": {
      "displayName": "jovije1996",
      "photoUrl": "",
      "userId": "07377799791697773871"
     },
     "user_tz": -330
    },
    "id": "xV__0IA3vwmJ"
   },
   "outputs": [],
   "source": [
    "import pandas as pd\n",
    "import numpy as np"
   ]
  },
  {
   "cell_type": "code",
   "execution_count": 20,
   "metadata": {
    "executionInfo": {
     "elapsed": 2242,
     "status": "ok",
     "timestamp": 1610283230996,
     "user": {
      "displayName": "jovije1996",
      "photoUrl": "",
      "userId": "07377799791697773871"
     },
     "user_tz": -330
    },
    "id": "hfpjTfP9ojai"
   },
   "outputs": [],
   "source": [
    "df = pd.read_csv('/content/drive/My Drive/prices.csv')"
   ]
  },
  {
   "cell_type": "code",
   "execution_count": 21,
   "metadata": {
    "colab": {
     "base_uri": "https://localhost:8080/",
     "height": 195
    },
    "executionInfo": {
     "elapsed": 778,
     "status": "ok",
     "timestamp": 1610283233268,
     "user": {
      "displayName": "jovije1996",
      "photoUrl": "",
      "userId": "07377799791697773871"
     },
     "user_tz": -330
    },
    "id": "BbBRp0hBo2xy",
    "outputId": "c8e1f482-bd86-4d74-8ca7-745305b6ea52"
   },
   "outputs": [
    {
     "data": {
      "text/html": [
       "<div>\n",
       "<style scoped>\n",
       "    .dataframe tbody tr th:only-of-type {\n",
       "        vertical-align: middle;\n",
       "    }\n",
       "\n",
       "    .dataframe tbody tr th {\n",
       "        vertical-align: top;\n",
       "    }\n",
       "\n",
       "    .dataframe thead th {\n",
       "        text-align: right;\n",
       "    }\n",
       "</style>\n",
       "<table border=\"1\" class=\"dataframe\">\n",
       "  <thead>\n",
       "    <tr style=\"text-align: right;\">\n",
       "      <th></th>\n",
       "      <th>date</th>\n",
       "      <th>symbol</th>\n",
       "      <th>open</th>\n",
       "      <th>close</th>\n",
       "      <th>low</th>\n",
       "      <th>high</th>\n",
       "      <th>volume</th>\n",
       "    </tr>\n",
       "  </thead>\n",
       "  <tbody>\n",
       "    <tr>\n",
       "      <th>0</th>\n",
       "      <td>2016-01-05 00:00:00</td>\n",
       "      <td>WLTW</td>\n",
       "      <td>123.430000</td>\n",
       "      <td>125.839996</td>\n",
       "      <td>122.309998</td>\n",
       "      <td>126.250000</td>\n",
       "      <td>2163600.0</td>\n",
       "    </tr>\n",
       "    <tr>\n",
       "      <th>1</th>\n",
       "      <td>2016-01-06 00:00:00</td>\n",
       "      <td>WLTW</td>\n",
       "      <td>125.239998</td>\n",
       "      <td>119.980003</td>\n",
       "      <td>119.940002</td>\n",
       "      <td>125.540001</td>\n",
       "      <td>2386400.0</td>\n",
       "    </tr>\n",
       "    <tr>\n",
       "      <th>2</th>\n",
       "      <td>2016-01-07 00:00:00</td>\n",
       "      <td>WLTW</td>\n",
       "      <td>116.379997</td>\n",
       "      <td>114.949997</td>\n",
       "      <td>114.930000</td>\n",
       "      <td>119.739998</td>\n",
       "      <td>2489500.0</td>\n",
       "    </tr>\n",
       "    <tr>\n",
       "      <th>3</th>\n",
       "      <td>2016-01-08 00:00:00</td>\n",
       "      <td>WLTW</td>\n",
       "      <td>115.480003</td>\n",
       "      <td>116.620003</td>\n",
       "      <td>113.500000</td>\n",
       "      <td>117.440002</td>\n",
       "      <td>2006300.0</td>\n",
       "    </tr>\n",
       "    <tr>\n",
       "      <th>4</th>\n",
       "      <td>2016-01-11 00:00:00</td>\n",
       "      <td>WLTW</td>\n",
       "      <td>117.010002</td>\n",
       "      <td>114.970001</td>\n",
       "      <td>114.089996</td>\n",
       "      <td>117.330002</td>\n",
       "      <td>1408600.0</td>\n",
       "    </tr>\n",
       "  </tbody>\n",
       "</table>\n",
       "</div>"
      ],
      "text/plain": [
       "                  date symbol        open  ...         low        high     volume\n",
       "0  2016-01-05 00:00:00   WLTW  123.430000  ...  122.309998  126.250000  2163600.0\n",
       "1  2016-01-06 00:00:00   WLTW  125.239998  ...  119.940002  125.540001  2386400.0\n",
       "2  2016-01-07 00:00:00   WLTW  116.379997  ...  114.930000  119.739998  2489500.0\n",
       "3  2016-01-08 00:00:00   WLTW  115.480003  ...  113.500000  117.440002  2006300.0\n",
       "4  2016-01-11 00:00:00   WLTW  117.010002  ...  114.089996  117.330002  1408600.0\n",
       "\n",
       "[5 rows x 7 columns]"
      ]
     },
     "execution_count": 21,
     "metadata": {
      "tags": []
     },
     "output_type": "execute_result"
    }
   ],
   "source": [
    "df.head()"
   ]
  },
  {
   "cell_type": "markdown",
   "metadata": {
    "id": "HlLKVPVH_BCT"
   },
   "source": [
    "## Question 2"
   ]
  },
  {
   "cell_type": "markdown",
   "metadata": {
    "id": "ZxoGynuBeO4t"
   },
   "source": [
    "### Drop null\n",
    "- Drop null values if any"
   ]
  },
  {
   "cell_type": "code",
   "execution_count": 22,
   "metadata": {
    "colab": {
     "base_uri": "https://localhost:8080/"
    },
    "executionInfo": {
     "elapsed": 798,
     "status": "ok",
     "timestamp": 1610283235626,
     "user": {
      "displayName": "jovije1996",
      "photoUrl": "",
      "userId": "07377799791697773871"
     },
     "user_tz": -330
    },
    "id": "_yuwJJIeeUaD",
    "outputId": "96f4241e-95cf-4934-ed1f-88a0626e9464"
   },
   "outputs": [
    {
     "data": {
      "text/plain": [
       "date      0\n",
       "symbol    0\n",
       "open      0\n",
       "close     0\n",
       "low       0\n",
       "high      0\n",
       "volume    0\n",
       "dtype: int64"
      ]
     },
     "execution_count": 22,
     "metadata": {
      "tags": []
     },
     "output_type": "execute_result"
    }
   ],
   "source": [
    "df.isnull().sum()"
   ]
  },
  {
   "cell_type": "markdown",
   "metadata": {
    "id": "9J4BlzVA_gZd"
   },
   "source": [
    "### Drop columns\n",
    "- Now, we don't need \"date\", \"volume\" and \"symbol\" column\n",
    "- drop \"date\", \"volume\" and \"symbol\" column from the data\n"
   ]
  },
  {
   "cell_type": "code",
   "execution_count": 23,
   "metadata": {
    "executionInfo": {
     "elapsed": 731,
     "status": "ok",
     "timestamp": 1610283236930,
     "user": {
      "displayName": "jovije1996",
      "photoUrl": "",
      "userId": "07377799791697773871"
     },
     "user_tz": -330
    },
    "id": "IKEK8aEE_Csx"
   },
   "outputs": [],
   "source": [
    "df.drop(['date', 'volume', 'symbol'], axis=1, inplace=True)"
   ]
  },
  {
   "cell_type": "code",
   "execution_count": 24,
   "metadata": {
    "colab": {
     "base_uri": "https://localhost:8080/",
     "height": 195
    },
    "executionInfo": {
     "elapsed": 715,
     "status": "ok",
     "timestamp": 1610283237323,
     "user": {
      "displayName": "jovije1996",
      "photoUrl": "",
      "userId": "07377799791697773871"
     },
     "user_tz": -330
    },
    "id": "kqB8Ysf5sFlj",
    "outputId": "b72b33fe-8afc-48ee-b14c-847aaef2b2eb"
   },
   "outputs": [
    {
     "data": {
      "text/html": [
       "<div>\n",
       "<style scoped>\n",
       "    .dataframe tbody tr th:only-of-type {\n",
       "        vertical-align: middle;\n",
       "    }\n",
       "\n",
       "    .dataframe tbody tr th {\n",
       "        vertical-align: top;\n",
       "    }\n",
       "\n",
       "    .dataframe thead th {\n",
       "        text-align: right;\n",
       "    }\n",
       "</style>\n",
       "<table border=\"1\" class=\"dataframe\">\n",
       "  <thead>\n",
       "    <tr style=\"text-align: right;\">\n",
       "      <th></th>\n",
       "      <th>open</th>\n",
       "      <th>close</th>\n",
       "      <th>low</th>\n",
       "      <th>high</th>\n",
       "    </tr>\n",
       "  </thead>\n",
       "  <tbody>\n",
       "    <tr>\n",
       "      <th>0</th>\n",
       "      <td>123.430000</td>\n",
       "      <td>125.839996</td>\n",
       "      <td>122.309998</td>\n",
       "      <td>126.250000</td>\n",
       "    </tr>\n",
       "    <tr>\n",
       "      <th>1</th>\n",
       "      <td>125.239998</td>\n",
       "      <td>119.980003</td>\n",
       "      <td>119.940002</td>\n",
       "      <td>125.540001</td>\n",
       "    </tr>\n",
       "    <tr>\n",
       "      <th>2</th>\n",
       "      <td>116.379997</td>\n",
       "      <td>114.949997</td>\n",
       "      <td>114.930000</td>\n",
       "      <td>119.739998</td>\n",
       "    </tr>\n",
       "    <tr>\n",
       "      <th>3</th>\n",
       "      <td>115.480003</td>\n",
       "      <td>116.620003</td>\n",
       "      <td>113.500000</td>\n",
       "      <td>117.440002</td>\n",
       "    </tr>\n",
       "    <tr>\n",
       "      <th>4</th>\n",
       "      <td>117.010002</td>\n",
       "      <td>114.970001</td>\n",
       "      <td>114.089996</td>\n",
       "      <td>117.330002</td>\n",
       "    </tr>\n",
       "  </tbody>\n",
       "</table>\n",
       "</div>"
      ],
      "text/plain": [
       "         open       close         low        high\n",
       "0  123.430000  125.839996  122.309998  126.250000\n",
       "1  125.239998  119.980003  119.940002  125.540001\n",
       "2  116.379997  114.949997  114.930000  119.739998\n",
       "3  115.480003  116.620003  113.500000  117.440002\n",
       "4  117.010002  114.970001  114.089996  117.330002"
      ]
     },
     "execution_count": 24,
     "metadata": {
      "tags": []
     },
     "output_type": "execute_result"
    }
   ],
   "source": [
    "df.head()"
   ]
  },
  {
   "cell_type": "markdown",
   "metadata": {
    "id": "cTPhO6v-AiZt"
   },
   "source": [
    "## Question 3"
   ]
  },
  {
   "cell_type": "markdown",
   "metadata": {
    "id": "SsZXmF3NAkna"
   },
   "source": [
    "### Print the dataframe\n",
    "- print the modified dataframe"
   ]
  },
  {
   "cell_type": "code",
   "execution_count": 25,
   "metadata": {
    "colab": {
     "base_uri": "https://localhost:8080/",
     "height": 195
    },
    "executionInfo": {
     "elapsed": 891,
     "status": "ok",
     "timestamp": 1610283239465,
     "user": {
      "displayName": "jovije1996",
      "photoUrl": "",
      "userId": "07377799791697773871"
     },
     "user_tz": -330
    },
    "id": "aKs04iIHAjxN",
    "outputId": "c495510f-d860-4016-8ae7-a4f7cb861425"
   },
   "outputs": [
    {
     "data": {
      "text/html": [
       "<div>\n",
       "<style scoped>\n",
       "    .dataframe tbody tr th:only-of-type {\n",
       "        vertical-align: middle;\n",
       "    }\n",
       "\n",
       "    .dataframe tbody tr th {\n",
       "        vertical-align: top;\n",
       "    }\n",
       "\n",
       "    .dataframe thead th {\n",
       "        text-align: right;\n",
       "    }\n",
       "</style>\n",
       "<table border=\"1\" class=\"dataframe\">\n",
       "  <thead>\n",
       "    <tr style=\"text-align: right;\">\n",
       "      <th></th>\n",
       "      <th>open</th>\n",
       "      <th>close</th>\n",
       "      <th>low</th>\n",
       "      <th>high</th>\n",
       "    </tr>\n",
       "  </thead>\n",
       "  <tbody>\n",
       "    <tr>\n",
       "      <th>402420</th>\n",
       "      <td>81.449997</td>\n",
       "      <td>81.400002</td>\n",
       "      <td>81.029999</td>\n",
       "      <td>81.699997</td>\n",
       "    </tr>\n",
       "    <tr>\n",
       "      <th>119121</th>\n",
       "      <td>29.280001</td>\n",
       "      <td>29.570000</td>\n",
       "      <td>28.980000</td>\n",
       "      <td>29.639999</td>\n",
       "    </tr>\n",
       "    <tr>\n",
       "      <th>415618</th>\n",
       "      <td>67.730003</td>\n",
       "      <td>67.300003</td>\n",
       "      <td>66.480003</td>\n",
       "      <td>67.730003</td>\n",
       "    </tr>\n",
       "    <tr>\n",
       "      <th>276431</th>\n",
       "      <td>17.170000</td>\n",
       "      <td>16.879999</td>\n",
       "      <td>16.840000</td>\n",
       "      <td>17.330000</td>\n",
       "    </tr>\n",
       "    <tr>\n",
       "      <th>64115</th>\n",
       "      <td>38.630001</td>\n",
       "      <td>39.930000</td>\n",
       "      <td>38.540001</td>\n",
       "      <td>39.950001</td>\n",
       "    </tr>\n",
       "  </tbody>\n",
       "</table>\n",
       "</div>"
      ],
      "text/plain": [
       "             open      close        low       high\n",
       "402420  81.449997  81.400002  81.029999  81.699997\n",
       "119121  29.280001  29.570000  28.980000  29.639999\n",
       "415618  67.730003  67.300003  66.480003  67.730003\n",
       "276431  17.170000  16.879999  16.840000  17.330000\n",
       "64115   38.630001  39.930000  38.540001  39.950001"
      ]
     },
     "execution_count": 25,
     "metadata": {
      "tags": []
     },
     "output_type": "execute_result"
    }
   ],
   "source": [
    "df.sample(5)"
   ]
  },
  {
   "cell_type": "markdown",
   "metadata": {
    "id": "C8u_jlbABTip"
   },
   "source": [
    "### Get features and label from the dataset in separate variable\n",
    "- Let's separate labels and features now. We are going to predict the value for \"close\" column so that will be our label. Our features will be \"open\", \"low\", \"high\"\n",
    "- Take \"open\" \"low\", \"high\" columns as features\n",
    "- Take \"close\" column as label"
   ]
  },
  {
   "cell_type": "code",
   "execution_count": 26,
   "metadata": {
    "colab": {
     "base_uri": "https://localhost:8080/",
     "height": 195
    },
    "executionInfo": {
     "elapsed": 681,
     "status": "ok",
     "timestamp": 1610283240026,
     "user": {
      "displayName": "jovije1996",
      "photoUrl": "",
      "userId": "07377799791697773871"
     },
     "user_tz": -330
    },
    "id": "3JbMAd3otloC",
    "outputId": "a593a9af-d657-4b20-c200-f70fda0da40b"
   },
   "outputs": [
    {
     "data": {
      "text/html": [
       "<div>\n",
       "<style scoped>\n",
       "    .dataframe tbody tr th:only-of-type {\n",
       "        vertical-align: middle;\n",
       "    }\n",
       "\n",
       "    .dataframe tbody tr th {\n",
       "        vertical-align: top;\n",
       "    }\n",
       "\n",
       "    .dataframe thead th {\n",
       "        text-align: right;\n",
       "    }\n",
       "</style>\n",
       "<table border=\"1\" class=\"dataframe\">\n",
       "  <thead>\n",
       "    <tr style=\"text-align: right;\">\n",
       "      <th></th>\n",
       "      <th>open</th>\n",
       "      <th>low</th>\n",
       "      <th>high</th>\n",
       "    </tr>\n",
       "  </thead>\n",
       "  <tbody>\n",
       "    <tr>\n",
       "      <th>0</th>\n",
       "      <td>123.430000</td>\n",
       "      <td>122.309998</td>\n",
       "      <td>126.250000</td>\n",
       "    </tr>\n",
       "    <tr>\n",
       "      <th>1</th>\n",
       "      <td>125.239998</td>\n",
       "      <td>119.940002</td>\n",
       "      <td>125.540001</td>\n",
       "    </tr>\n",
       "    <tr>\n",
       "      <th>2</th>\n",
       "      <td>116.379997</td>\n",
       "      <td>114.930000</td>\n",
       "      <td>119.739998</td>\n",
       "    </tr>\n",
       "    <tr>\n",
       "      <th>3</th>\n",
       "      <td>115.480003</td>\n",
       "      <td>113.500000</td>\n",
       "      <td>117.440002</td>\n",
       "    </tr>\n",
       "    <tr>\n",
       "      <th>4</th>\n",
       "      <td>117.010002</td>\n",
       "      <td>114.089996</td>\n",
       "      <td>117.330002</td>\n",
       "    </tr>\n",
       "  </tbody>\n",
       "</table>\n",
       "</div>"
      ],
      "text/plain": [
       "         open         low        high\n",
       "0  123.430000  122.309998  126.250000\n",
       "1  125.239998  119.940002  125.540001\n",
       "2  116.379997  114.930000  119.739998\n",
       "3  115.480003  113.500000  117.440002\n",
       "4  117.010002  114.089996  117.330002"
      ]
     },
     "execution_count": 26,
     "metadata": {
      "tags": []
     },
     "output_type": "execute_result"
    }
   ],
   "source": [
    "x = df.drop(['close'], axis=1)\n",
    "x.head()"
   ]
  },
  {
   "cell_type": "code",
   "execution_count": 27,
   "metadata": {
    "colab": {
     "base_uri": "https://localhost:8080/"
    },
    "executionInfo": {
     "elapsed": 653,
     "status": "ok",
     "timestamp": 1610283240910,
     "user": {
      "displayName": "jovije1996",
      "photoUrl": "",
      "userId": "07377799791697773871"
     },
     "user_tz": -330
    },
    "id": "xQjCMzUXBJbg",
    "outputId": "9f98eff5-7704-46fb-df02-d265b08fe830"
   },
   "outputs": [
    {
     "data": {
      "text/plain": [
       "0    125.839996\n",
       "1    119.980003\n",
       "2    114.949997\n",
       "3    116.620003\n",
       "4    114.970001\n",
       "Name: close, dtype: float64"
      ]
     },
     "execution_count": 27,
     "metadata": {
      "tags": []
     },
     "output_type": "execute_result"
    }
   ],
   "source": [
    "y =  df['close']\n",
    "y.head()"
   ]
  },
  {
   "cell_type": "markdown",
   "metadata": {
    "id": "6vGtnapgBIJm"
   },
   "source": [
    "## Question 4"
   ]
  },
  {
   "cell_type": "markdown",
   "metadata": {
    "id": "8pZAKdJ5gcrm"
   },
   "source": [
    "### Create train and test sets\n",
    "- Split the data into training and testing"
   ]
  },
  {
   "cell_type": "code",
   "execution_count": 30,
   "metadata": {
    "executionInfo": {
     "elapsed": 1051,
     "status": "ok",
     "timestamp": 1610283268897,
     "user": {
      "displayName": "jovije1996",
      "photoUrl": "",
      "userId": "07377799791697773871"
     },
     "user_tz": -330
    },
    "id": "KalRqA6Rgqsn"
   },
   "outputs": [],
   "source": [
    "from sklearn.model_selection import train_test_split\n",
    "\n",
    "X_train, X_test, y_train, y_test = train_test_split(x, y, test_size=0.3, random_state=1)"
   ]
  },
  {
   "cell_type": "code",
   "execution_count": 31,
   "metadata": {
    "colab": {
     "base_uri": "https://localhost:8080/"
    },
    "executionInfo": {
     "elapsed": 770,
     "status": "ok",
     "timestamp": 1610283271360,
     "user": {
      "displayName": "jovije1996",
      "photoUrl": "",
      "userId": "07377799791697773871"
     },
     "user_tz": -330
    },
    "id": "9ji-ysEru4H8",
    "outputId": "f31af2d0-4274-450c-d5cd-af2def33c741"
   },
   "outputs": [
    {
     "name": "stdout",
     "output_type": "stream",
     "text": [
      "(595884, 3)\n",
      "(255380, 3)\n",
      "(595884,)\n",
      "(255380,)\n"
     ]
    }
   ],
   "source": [
    "print(X_train.shape)\n",
    "print(X_test.shape)\n",
    "print(y_train.shape)\n",
    "print(y_test.shape)"
   ]
  },
  {
   "cell_type": "markdown",
   "metadata": {
    "id": "aTAKzlxZBz0z"
   },
   "source": [
    "## Question 5"
   ]
  },
  {
   "cell_type": "markdown",
   "metadata": {
    "id": "O7BU2qxEg0Ki"
   },
   "source": [
    "### Scaling\n",
    "- Scale the data (features only)\n",
    "- Use StandarScaler"
   ]
  },
  {
   "cell_type": "code",
   "execution_count": 32,
   "metadata": {
    "executionInfo": {
     "elapsed": 844,
     "status": "ok",
     "timestamp": 1610283274430,
     "user": {
      "displayName": "jovije1996",
      "photoUrl": "",
      "userId": "07377799791697773871"
     },
     "user_tz": -330
    },
    "id": "AcO8SlhPhBkR"
   },
   "outputs": [],
   "source": [
    "from sklearn.preprocessing import StandardScaler"
   ]
  },
  {
   "cell_type": "code",
   "execution_count": 33,
   "metadata": {
    "executionInfo": {
     "elapsed": 739,
     "status": "ok",
     "timestamp": 1610283274835,
     "user": {
      "displayName": "jovije1996",
      "photoUrl": "",
      "userId": "07377799791697773871"
     },
     "user_tz": -330
    },
    "id": "J9agnctLyDql"
   },
   "outputs": [],
   "source": [
    "sc = StandardScaler()"
   ]
  },
  {
   "cell_type": "code",
   "execution_count": 34,
   "metadata": {
    "executionInfo": {
     "elapsed": 929,
     "status": "ok",
     "timestamp": 1610283277199,
     "user": {
      "displayName": "jovije1996",
      "photoUrl": "",
      "userId": "07377799791697773871"
     },
     "user_tz": -330
    },
    "id": "_qGPZuScxUM0"
   },
   "outputs": [],
   "source": [
    "X_train = sc.fit_transform(X_train)\n",
    "X_test = sc.transform(X_test)"
   ]
  },
  {
   "cell_type": "code",
   "execution_count": 35,
   "metadata": {
    "colab": {
     "base_uri": "https://localhost:8080/"
    },
    "executionInfo": {
     "elapsed": 1041,
     "status": "ok",
     "timestamp": 1610283278270,
     "user": {
      "displayName": "jovije1996",
      "photoUrl": "",
      "userId": "07377799791697773871"
     },
     "user_tz": -330
    },
    "id": "IZxPf9d7xb6n",
    "outputId": "7099a36b-288a-4830-b8c2-2b19687086c2"
   },
   "outputs": [
    {
     "data": {
      "text/plain": [
       "array([[-0.10868706, -0.10420252, -0.09860727],\n",
       "       [-0.08264803, -0.0771819 , -0.08719303],\n",
       "       [-0.4381945 , -0.43426619, -0.42664809],\n",
       "       ...,\n",
       "       [-0.3341585 , -0.33296913, -0.33771205],\n",
       "       [ 0.08402559,  0.09015212,  0.08390184],\n",
       "       [-0.09464757, -0.08723893, -0.09694269]])"
      ]
     },
     "execution_count": 35,
     "metadata": {
      "tags": []
     },
     "output_type": "execute_result"
    }
   ],
   "source": [
    "X_train"
   ]
  },
  {
   "cell_type": "markdown",
   "metadata": {
    "id": "3TWpN0nVTpUx"
   },
   "source": [
    "## Question 6"
   ]
  },
  {
   "cell_type": "markdown",
   "metadata": {
    "id": "_sj0LYNkhR-L"
   },
   "source": [
    "### Convert data to NumPy array\n",
    "- Convert features and labels to numpy array"
   ]
  },
  {
   "cell_type": "code",
   "execution_count": 36,
   "metadata": {
    "colab": {
     "base_uri": "https://localhost:8080/"
    },
    "executionInfo": {
     "elapsed": 766,
     "status": "ok",
     "timestamp": 1610283280476,
     "user": {
      "displayName": "jovije1996",
      "photoUrl": "",
      "userId": "07377799791697773871"
     },
     "user_tz": -330
    },
    "id": "X6mIfuTxhbTT",
    "outputId": "20f1003d-d594-4e7a-fc4c-3e6138e6c121"
   },
   "outputs": [
    {
     "name": "stdout",
     "output_type": "stream",
     "text": [
      "<class 'numpy.ndarray'>\n",
      "<class 'numpy.ndarray'>\n",
      "<class 'pandas.core.series.Series'>\n",
      "<class 'pandas.core.series.Series'>\n"
     ]
    }
   ],
   "source": [
    "print(type(X_train))\n",
    "print(type(X_test))\n",
    "print(type(y_train))\n",
    "print(type(y_test))"
   ]
  },
  {
   "cell_type": "code",
   "execution_count": 37,
   "metadata": {
    "executionInfo": {
     "elapsed": 649,
     "status": "ok",
     "timestamp": 1610283280963,
     "user": {
      "displayName": "jovije1996",
      "photoUrl": "",
      "userId": "07377799791697773871"
     },
     "user_tz": -330
    },
    "id": "Vi4TqqWS0Y-r"
   },
   "outputs": [],
   "source": [
    "y_train = np.array(y_train)\n",
    "y_test = np.array(y_test)"
   ]
  },
  {
   "cell_type": "code",
   "execution_count": 38,
   "metadata": {
    "colab": {
     "base_uri": "https://localhost:8080/"
    },
    "executionInfo": {
     "elapsed": 968,
     "status": "ok",
     "timestamp": 1610283281801,
     "user": {
      "displayName": "jovije1996",
      "photoUrl": "",
      "userId": "07377799791697773871"
     },
     "user_tz": -330
    },
    "id": "UNyzAKtB0yDS",
    "outputId": "f35620c1-7acf-4605-9ca8-e06e978546cc"
   },
   "outputs": [
    {
     "name": "stdout",
     "output_type": "stream",
     "text": [
      "<class 'numpy.ndarray'>\n",
      "<class 'numpy.ndarray'>\n",
      "<class 'numpy.ndarray'>\n",
      "<class 'numpy.ndarray'>\n"
     ]
    }
   ],
   "source": [
    "print(type(X_train))\n",
    "print(type(X_test))\n",
    "print(type(y_train))\n",
    "print(type(y_test))"
   ]
  },
  {
   "cell_type": "markdown",
   "metadata": {
    "id": "wmXUGc2oTspa"
   },
   "source": [
    "## Question 7"
   ]
  },
  {
   "cell_type": "markdown",
   "metadata": {
    "id": "cl2M9whFh6mh"
   },
   "source": [
    "### Define Model\n",
    "- Initialize a Sequential model\n",
    "- Add a Flatten layer\n",
    "- Add a Dense layer with one neuron as output\n",
    "  - add 'linear' as activation function\n"
   ]
  },
  {
   "cell_type": "code",
   "execution_count": 39,
   "metadata": {
    "executionInfo": {
     "elapsed": 653,
     "status": "ok",
     "timestamp": 1610283282996,
     "user": {
      "displayName": "jovije1996",
      "photoUrl": "",
      "userId": "07377799791697773871"
     },
     "user_tz": -330
    },
    "id": "TkiBpORmiegL"
   },
   "outputs": [],
   "source": [
    "from tensorflow.keras.models import Sequential\n",
    "from tensorflow.keras.layers import Flatten, Dense"
   ]
  },
  {
   "cell_type": "code",
   "execution_count": 40,
   "metadata": {
    "executionInfo": {
     "elapsed": 655,
     "status": "ok",
     "timestamp": 1610283283509,
     "user": {
      "displayName": "jovije1996",
      "photoUrl": "",
      "userId": "07377799791697773871"
     },
     "user_tz": -330
    },
    "id": "3BnYkJsK5H-j"
   },
   "outputs": [],
   "source": [
    "model = Sequential()\n",
    "model.add(Flatten())\n",
    "model.add(Dense(1, activation='linear'))"
   ]
  },
  {
   "cell_type": "markdown",
   "metadata": {
    "id": "8a0wr94aTyjg"
   },
   "source": [
    "## Question 8"
   ]
  },
  {
   "cell_type": "markdown",
   "metadata": {
    "id": "BNZPb5lKioX0"
   },
   "source": [
    "### Compile the model\n",
    "- Compile the model\n",
    "- Use \"sgd\" optimizer\n",
    "- for calculating loss, use mean squared error"
   ]
  },
  {
   "cell_type": "code",
   "execution_count": 41,
   "metadata": {
    "executionInfo": {
     "elapsed": 855,
     "status": "ok",
     "timestamp": 1610283285379,
     "user": {
      "displayName": "jovije1996",
      "photoUrl": "",
      "userId": "07377799791697773871"
     },
     "user_tz": -330
    },
    "id": "ZEQUP3VaiuT2"
   },
   "outputs": [],
   "source": [
    "model.compile(optimizer='sgd', loss='mean_squared_error')"
   ]
  },
  {
   "cell_type": "markdown",
   "metadata": {
    "id": "ZbBpnOtfT0wd"
   },
   "source": [
    "## Question 9"
   ]
  },
  {
   "cell_type": "markdown",
   "metadata": {
    "id": "n9o45OHdjDhA"
   },
   "source": [
    "### Fit the model\n",
    "- epochs: 50\n",
    "- batch size: 128\n",
    "- specify validation data"
   ]
  },
  {
   "cell_type": "code",
   "execution_count": 42,
   "metadata": {
    "colab": {
     "base_uri": "https://localhost:8080/"
    },
    "executionInfo": {
     "elapsed": 447437,
     "status": "ok",
     "timestamp": 1610283734438,
     "user": {
      "displayName": "jovije1996",
      "photoUrl": "",
      "userId": "07377799791697773871"
     },
     "user_tz": -330
    },
    "id": "-Y6tA30XjOH2",
    "outputId": "59f2d308-86ec-4a80-edd5-8fe686fd0f7b"
   },
   "outputs": [
    {
     "name": "stdout",
     "output_type": "stream",
     "text": [
      "Epoch 1/50\n",
      "4656/4656 [==============================] - 11s 2ms/step - loss: 248.1780 - val_loss: 1.0262\n",
      "Epoch 2/50\n",
      "4656/4656 [==============================] - 9s 2ms/step - loss: 0.9743 - val_loss: 1.0083\n",
      "Epoch 3/50\n",
      "4656/4656 [==============================] - 9s 2ms/step - loss: 0.9678 - val_loss: 1.0063\n",
      "Epoch 4/50\n",
      "4656/4656 [==============================] - 9s 2ms/step - loss: 0.9759 - val_loss: 0.9943\n",
      "Epoch 5/50\n",
      "4656/4656 [==============================] - 9s 2ms/step - loss: 0.9641 - val_loss: 1.0093\n",
      "Epoch 6/50\n",
      "4656/4656 [==============================] - 9s 2ms/step - loss: 0.9301 - val_loss: 0.9797\n",
      "Epoch 7/50\n",
      "4656/4656 [==============================] - 9s 2ms/step - loss: 0.9235 - val_loss: 0.9725\n",
      "Epoch 8/50\n",
      "4656/4656 [==============================] - 9s 2ms/step - loss: 0.9214 - val_loss: 0.9816\n",
      "Epoch 9/50\n",
      "4656/4656 [==============================] - 9s 2ms/step - loss: 0.9220 - val_loss: 0.9671\n",
      "Epoch 10/50\n",
      "4656/4656 [==============================] - 9s 2ms/step - loss: 0.9262 - val_loss: 0.9525\n",
      "Epoch 11/50\n",
      "4656/4656 [==============================] - 9s 2ms/step - loss: 0.8991 - val_loss: 0.9713\n",
      "Epoch 12/50\n",
      "4656/4656 [==============================] - 9s 2ms/step - loss: 0.8838 - val_loss: 0.9595\n",
      "Epoch 13/50\n",
      "4656/4656 [==============================] - 9s 2ms/step - loss: 0.9079 - val_loss: 0.9435\n",
      "Epoch 14/50\n",
      "4656/4656 [==============================] - 9s 2ms/step - loss: 0.8744 - val_loss: 0.9342\n",
      "Epoch 15/50\n",
      "4656/4656 [==============================] - 9s 2ms/step - loss: 0.9085 - val_loss: 0.9254\n",
      "Epoch 16/50\n",
      "4656/4656 [==============================] - 9s 2ms/step - loss: 0.8718 - val_loss: 0.9182\n",
      "Epoch 17/50\n",
      "4656/4656 [==============================] - 9s 2ms/step - loss: 0.8695 - val_loss: 0.9192\n",
      "Epoch 18/50\n",
      "4656/4656 [==============================] - 9s 2ms/step - loss: 0.8728 - val_loss: 0.9033\n",
      "Epoch 19/50\n",
      "4656/4656 [==============================] - 9s 2ms/step - loss: 0.8522 - val_loss: 0.9094\n",
      "Epoch 20/50\n",
      "4656/4656 [==============================] - 9s 2ms/step - loss: 0.8609 - val_loss: 0.9074\n",
      "Epoch 21/50\n",
      "4656/4656 [==============================] - 9s 2ms/step - loss: 0.8475 - val_loss: 0.9058\n",
      "Epoch 22/50\n",
      "4656/4656 [==============================] - 9s 2ms/step - loss: 0.8377 - val_loss: 0.9269\n",
      "Epoch 23/50\n",
      "4656/4656 [==============================] - 9s 2ms/step - loss: 0.8540 - val_loss: 0.8771\n",
      "Epoch 24/50\n",
      "4656/4656 [==============================] - 9s 2ms/step - loss: 0.8306 - val_loss: 0.8692\n",
      "Epoch 25/50\n",
      "4656/4656 [==============================] - 9s 2ms/step - loss: 0.8348 - val_loss: 0.8896\n",
      "Epoch 26/50\n",
      "4656/4656 [==============================] - 9s 2ms/step - loss: 0.8362 - val_loss: 0.8613\n",
      "Epoch 27/50\n",
      "4656/4656 [==============================] - 9s 2ms/step - loss: 0.8274 - val_loss: 0.8625\n",
      "Epoch 28/50\n",
      "4656/4656 [==============================] - 9s 2ms/step - loss: 0.8085 - val_loss: 0.8553\n",
      "Epoch 29/50\n",
      "4656/4656 [==============================] - 9s 2ms/step - loss: 0.8115 - val_loss: 0.8457\n",
      "Epoch 30/50\n",
      "4656/4656 [==============================] - 9s 2ms/step - loss: 0.8059 - val_loss: 0.8453\n",
      "Epoch 31/50\n",
      "4656/4656 [==============================] - 9s 2ms/step - loss: 0.8093 - val_loss: 0.8382\n",
      "Epoch 32/50\n",
      "4656/4656 [==============================] - 9s 2ms/step - loss: 0.7951 - val_loss: 0.8281\n",
      "Epoch 33/50\n",
      "4656/4656 [==============================] - 9s 2ms/step - loss: 0.7809 - val_loss: 0.8235\n",
      "Epoch 34/50\n",
      "4656/4656 [==============================] - 9s 2ms/step - loss: 0.7724 - val_loss: 0.8182\n",
      "Epoch 35/50\n",
      "4656/4656 [==============================] - 9s 2ms/step - loss: 0.7895 - val_loss: 0.8138\n",
      "Epoch 36/50\n",
      "4656/4656 [==============================] - 9s 2ms/step - loss: 0.7831 - val_loss: 0.8086\n",
      "Epoch 37/50\n",
      "4656/4656 [==============================] - 9s 2ms/step - loss: 0.7751 - val_loss: 0.8047\n",
      "Epoch 38/50\n",
      "4656/4656 [==============================] - 9s 2ms/step - loss: 0.7832 - val_loss: 0.7993\n",
      "Epoch 39/50\n",
      "4656/4656 [==============================] - 9s 2ms/step - loss: 0.7759 - val_loss: 0.8038\n",
      "Epoch 40/50\n",
      "4656/4656 [==============================] - 9s 2ms/step - loss: 0.7598 - val_loss: 0.7903\n",
      "Epoch 41/50\n",
      "4656/4656 [==============================] - 9s 2ms/step - loss: 0.7533 - val_loss: 0.8033\n",
      "Epoch 42/50\n",
      "4656/4656 [==============================] - 9s 2ms/step - loss: 0.7475 - val_loss: 0.7901\n",
      "Epoch 43/50\n",
      "4656/4656 [==============================] - 9s 2ms/step - loss: 0.7417 - val_loss: 0.7771\n",
      "Epoch 44/50\n",
      "4656/4656 [==============================] - 9s 2ms/step - loss: 0.7583 - val_loss: 0.7766\n",
      "Epoch 45/50\n",
      "4656/4656 [==============================] - 9s 2ms/step - loss: 0.7356 - val_loss: 0.7695\n",
      "Epoch 46/50\n",
      "4656/4656 [==============================] - 9s 2ms/step - loss: 0.7259 - val_loss: 0.7658\n",
      "Epoch 47/50\n",
      "4656/4656 [==============================] - 9s 2ms/step - loss: 0.7367 - val_loss: 0.7662\n",
      "Epoch 48/50\n",
      "4656/4656 [==============================] - 9s 2ms/step - loss: 0.7374 - val_loss: 0.7569\n",
      "Epoch 49/50\n",
      "4656/4656 [==============================] - 9s 2ms/step - loss: 0.7254 - val_loss: 0.7528\n",
      "Epoch 50/50\n",
      "4656/4656 [==============================] - 9s 2ms/step - loss: 0.7184 - val_loss: 0.7522\n"
     ]
    },
    {
     "data": {
      "text/plain": [
       "<tensorflow.python.keras.callbacks.History at 0x7febdd827240>"
      ]
     },
     "execution_count": 42,
     "metadata": {
      "tags": []
     },
     "output_type": "execute_result"
    }
   ],
   "source": [
    "model.fit(X_train, y_train, epochs=50, batch_size=128, validation_data=(X_test, y_test))"
   ]
  },
  {
   "cell_type": "markdown",
   "metadata": {
    "id": "AW4SEP8kT2ls"
   },
   "source": [
    "## Question 10"
   ]
  },
  {
   "cell_type": "markdown",
   "metadata": {
    "id": "EJDoix_7JU61"
   },
   "source": [
    "### Evaluate the model\n",
    "- Evaluate the model on test data"
   ]
  },
  {
   "cell_type": "code",
   "execution_count": 44,
   "metadata": {
    "colab": {
     "base_uri": "https://localhost:8080/"
    },
    "executionInfo": {
     "elapsed": 9320,
     "status": "ok",
     "timestamp": 1610283847064,
     "user": {
      "displayName": "jovije1996",
      "photoUrl": "",
      "userId": "07377799791697773871"
     },
     "user_tz": -330
    },
    "id": "HdH8pYBIjHGL",
    "outputId": "c2ac1d72-233b-420e-c62e-56c19dfd7146"
   },
   "outputs": [
    {
     "name": "stdout",
     "output_type": "stream",
     "text": [
      "7981/7981 [==============================] - 9s 1ms/step - loss: 0.7522\n"
     ]
    },
    {
     "data": {
      "text/plain": [
       "0.752217710018158"
      ]
     },
     "execution_count": 44,
     "metadata": {
      "tags": []
     },
     "output_type": "execute_result"
    }
   ],
   "source": [
    "model.evaluate(X_test, y_test)"
   ]
  },
  {
   "cell_type": "markdown",
   "metadata": {
    "id": "hUpDD74Xjh01"
   },
   "source": [
    "### Manual predictions\n",
    "- Test the predictions on manual inputs\n",
    "- We have scaled out training data, so we need to transform our custom inputs using the object of the scaler\n",
    "- Example of manual input: [123.430000,\t122.30999, 116.250000]"
   ]
  },
  {
   "cell_type": "code",
   "execution_count": 140,
   "metadata": {
    "colab": {
     "base_uri": "https://localhost:8080/"
    },
    "executionInfo": {
     "elapsed": 275013,
     "status": "ok",
     "timestamp": 1610281020481,
     "user": {
      "displayName": "jovije1996",
      "photoUrl": "",
      "userId": "07377799791697773871"
     },
     "user_tz": -330
    },
    "id": "fvuH-c31lLiJ",
    "outputId": "19e9b422-62b4-4523-c118-e27231fff455"
   },
   "outputs": [
    {
     "data": {
      "text/plain": [
       "(122.30999, 116.25, 123.43)"
      ]
     },
     "execution_count": 140,
     "metadata": {
      "tags": []
     },
     "output_type": "execute_result"
    }
   ],
   "source": [
    "open = 122.30999\n",
    "low = 116.250000\n",
    "high = 123.430000\n",
    "\n",
    "122.30999, 116.250000, 123.430000"
   ]
  },
  {
   "cell_type": "code",
   "execution_count": 45,
   "metadata": {
    "colab": {
     "base_uri": "https://localhost:8080/"
    },
    "executionInfo": {
     "elapsed": 790,
     "status": "ok",
     "timestamp": 1610283856900,
     "user": {
      "displayName": "jovije1996",
      "photoUrl": "",
      "userId": "07377799791697773871"
     },
     "user_tz": -330
    },
    "id": "o70LyFzeFG8E",
    "outputId": "a8beea36-cddc-4d4a-8c43-6f380fb22467"
   },
   "outputs": [
    {
     "data": {
      "text/plain": [
       "array([[120.12314]], dtype=float32)"
      ]
     },
     "execution_count": 45,
     "metadata": {
      "tags": []
     },
     "output_type": "execute_result"
    }
   ],
   "source": [
    "model.predict(sc.transform([[122.30999, 116.25, 123.43]]))"
   ]
  },
  {
   "cell_type": "markdown",
   "metadata": {
    "id": "4WH1Pr4KQlCh"
   },
   "source": [
    "# Build a DNN"
   ]
  },
  {
   "cell_type": "markdown",
   "metadata": {
    "id": "74cQBsi5QlCw"
   },
   "source": [
    "### Collect Fashion mnist data from tf.keras.datasets "
   ]
  },
  {
   "cell_type": "code",
   "execution_count": 9,
   "metadata": {
    "executionInfo": {
     "elapsed": 771,
     "status": "ok",
     "timestamp": 1610284278200,
     "user": {
      "displayName": "jovije1996",
      "photoUrl": "",
      "userId": "07377799791697773871"
     },
     "user_tz": -330
    },
    "id": "wVWy0oDTr2Kj"
   },
   "outputs": [],
   "source": [
    "import tensorflow as tf"
   ]
  },
  {
   "cell_type": "code",
   "execution_count": 10,
   "metadata": {
    "executionInfo": {
     "elapsed": 1156,
     "status": "ok",
     "timestamp": 1610284281057,
     "user": {
      "displayName": "jovije1996",
      "photoUrl": "",
      "userId": "07377799791697773871"
     },
     "user_tz": -330
    },
    "id": "CXVhgeYOJsG6"
   },
   "outputs": [],
   "source": [
    "(X_train,Y_train),(x_test, y_test) = tf.keras.datasets.fashion_mnist.load_data()"
   ]
  },
  {
   "cell_type": "code",
   "execution_count": 11,
   "metadata": {
    "colab": {
     "base_uri": "https://localhost:8080/"
    },
    "executionInfo": {
     "elapsed": 786,
     "status": "ok",
     "timestamp": 1610284294726,
     "user": {
      "displayName": "jovije1996",
      "photoUrl": "",
      "userId": "07377799791697773871"
     },
     "user_tz": -330
    },
    "id": "vKSd7EZhKdnC",
    "outputId": "f485530c-7f24-4887-8430-f626b33e4742"
   },
   "outputs": [
    {
     "name": "stdout",
     "output_type": "stream",
     "text": [
      "(60000, 28, 28)\n",
      "(10000, 28, 28)\n",
      "(60000,)\n",
      "(10000,)\n"
     ]
    }
   ],
   "source": [
    "print(X_train.shape)\n",
    "print(x_test.shape)\n",
    "print(Y_train.shape)\n",
    "print(y_test.shape)"
   ]
  },
  {
   "cell_type": "markdown",
   "metadata": {
    "id": "no7aWYZyQlC1"
   },
   "source": [
    "### Change train and test labels into one-hot vectors"
   ]
  },
  {
   "cell_type": "code",
   "execution_count": 12,
   "metadata": {
    "colab": {
     "base_uri": "https://localhost:8080/"
    },
    "executionInfo": {
     "elapsed": 768,
     "status": "ok",
     "timestamp": 1610284299790,
     "user": {
      "displayName": "jovije1996",
      "photoUrl": "",
      "userId": "07377799791697773871"
     },
     "user_tz": -330
    },
    "id": "UX6otc4wQlC2",
    "outputId": "cd1e8210-1841-455f-a707-e1979bf5718f"
   },
   "outputs": [
    {
     "data": {
      "text/plain": [
       "array([9, 2, 1, ..., 8, 1, 5], dtype=uint8)"
      ]
     },
     "execution_count": 12,
     "metadata": {
      "tags": []
     },
     "output_type": "execute_result"
    }
   ],
   "source": [
    "y_test"
   ]
  },
  {
   "cell_type": "code",
   "execution_count": 13,
   "metadata": {
    "executionInfo": {
     "elapsed": 773,
     "status": "ok",
     "timestamp": 1610284301556,
     "user": {
      "displayName": "jovije1996",
      "photoUrl": "",
      "userId": "07377799791697773871"
     },
     "user_tz": -330
    },
    "id": "nbgUJmFTLUda"
   },
   "outputs": [],
   "source": [
    "y_test = tf.keras.utils.to_categorical(y_test)"
   ]
  },
  {
   "cell_type": "code",
   "execution_count": 185,
   "metadata": {
    "colab": {
     "base_uri": "https://localhost:8080/"
    },
    "executionInfo": {
     "elapsed": 900,
     "status": "ok",
     "timestamp": 1610284615894,
     "user": {
      "displayName": "jovije1996",
      "photoUrl": "",
      "userId": "07377799791697773871"
     },
     "user_tz": -330
    },
    "id": "IiD9AxsiLj1p",
    "outputId": "23d72005-3379-40fd-ce1e-1ba129799782"
   },
   "outputs": [
    {
     "data": {
      "text/plain": [
       "array([[0., 0., 0., ..., 0., 0., 1.],\n",
       "       [0., 0., 1., ..., 0., 0., 0.],\n",
       "       [0., 1., 0., ..., 0., 0., 0.],\n",
       "       ...,\n",
       "       [0., 0., 0., ..., 0., 1., 0.],\n",
       "       [0., 1., 0., ..., 0., 0., 0.],\n",
       "       [0., 0., 0., ..., 0., 0., 0.]], dtype=float32)"
      ]
     },
     "execution_count": 185,
     "metadata": {
      "tags": []
     },
     "output_type": "execute_result"
    }
   ],
   "source": [
    "y_test"
   ]
  },
  {
   "cell_type": "code",
   "execution_count": 186,
   "metadata": {
    "colab": {
     "base_uri": "https://localhost:8080/"
    },
    "executionInfo": {
     "elapsed": 801,
     "status": "ok",
     "timestamp": 1610284621207,
     "user": {
      "displayName": "jovije1996",
      "photoUrl": "",
      "userId": "07377799791697773871"
     },
     "user_tz": -330
    },
    "id": "Ztt1_ZNEL1m3",
    "outputId": "965adf55-3bbe-4613-b31a-36e51021e698"
   },
   "outputs": [
    {
     "data": {
      "text/plain": [
       "array([9, 0, 0, ..., 3, 0, 5], dtype=uint8)"
      ]
     },
     "execution_count": 186,
     "metadata": {
      "tags": []
     },
     "output_type": "execute_result"
    }
   ],
   "source": [
    "Y_train"
   ]
  },
  {
   "cell_type": "code",
   "execution_count": 187,
   "metadata": {
    "executionInfo": {
     "elapsed": 808,
     "status": "ok",
     "timestamp": 1610284621638,
     "user": {
      "displayName": "jovije1996",
      "photoUrl": "",
      "userId": "07377799791697773871"
     },
     "user_tz": -330
    },
    "id": "uyCVu2c4L3Zj"
   },
   "outputs": [],
   "source": [
    "Y_train = tf.keras.utils.to_categorical(Y_train)"
   ]
  },
  {
   "cell_type": "code",
   "execution_count": 188,
   "metadata": {
    "colab": {
     "base_uri": "https://localhost:8080/"
    },
    "executionInfo": {
     "elapsed": 820,
     "status": "ok",
     "timestamp": 1610284622109,
     "user": {
      "displayName": "jovije1996",
      "photoUrl": "",
      "userId": "07377799791697773871"
     },
     "user_tz": -330
    },
    "id": "-Cd13uSCL3dJ",
    "outputId": "09c21f49-4fcd-4f96-f992-1c8d2de65d34"
   },
   "outputs": [
    {
     "data": {
      "text/plain": [
       "array([[0., 0., 0., ..., 0., 0., 1.],\n",
       "       [1., 0., 0., ..., 0., 0., 0.],\n",
       "       [1., 0., 0., ..., 0., 0., 0.],\n",
       "       ...,\n",
       "       [0., 0., 0., ..., 0., 0., 0.],\n",
       "       [1., 0., 0., ..., 0., 0., 0.],\n",
       "       [0., 0., 0., ..., 0., 0., 0.]], dtype=float32)"
      ]
     },
     "execution_count": 188,
     "metadata": {
      "tags": []
     },
     "output_type": "execute_result"
    }
   ],
   "source": [
    "Y_train"
   ]
  },
  {
   "cell_type": "markdown",
   "metadata": {
    "id": "QjNrRTdoQlC5"
   },
   "source": [
    "### Build the Graph"
   ]
  },
  {
   "cell_type": "markdown",
   "metadata": {
    "id": "CDJ9DHVNQlC7"
   },
   "source": [
    "### Initialize model, reshape & normalize data"
   ]
  },
  {
   "cell_type": "code",
   "execution_count": 190,
   "metadata": {
    "executionInfo": {
     "elapsed": 806,
     "status": "ok",
     "timestamp": 1610284655419,
     "user": {
      "displayName": "jovije1996",
      "photoUrl": "",
      "userId": "07377799791697773871"
     },
     "user_tz": -330
    },
    "id": "pCDQs_g1QlC8"
   },
   "outputs": [],
   "source": [
    "model1 = Sequential()\n",
    "model1.add(tf.keras.layers.Reshape((784,),input_shape=(28,28)))\n",
    "model1.add(tf.keras.layers.BatchNormalization())"
   ]
  },
  {
   "cell_type": "code",
   "execution_count": 191,
   "metadata": {
    "colab": {
     "base_uri": "https://localhost:8080/"
    },
    "executionInfo": {
     "elapsed": 661,
     "status": "ok",
     "timestamp": 1610284655940,
     "user": {
      "displayName": "jovije1996",
      "photoUrl": "",
      "userId": "07377799791697773871"
     },
     "user_tz": -330
    },
    "id": "1Y-tnLy2OOU9",
    "outputId": "34646551-78c4-49cf-9f7c-8cef83af79b3"
   },
   "outputs": [
    {
     "name": "stdout",
     "output_type": "stream",
     "text": [
      "Model: \"sequential_8\"\n",
      "_________________________________________________________________\n",
      "Layer (type)                 Output Shape              Param #   \n",
      "=================================================================\n",
      "reshape_3 (Reshape)          (None, 784)               0         \n",
      "_________________________________________________________________\n",
      "batch_normalization_3 (Batch (None, 784)               3136      \n",
      "=================================================================\n",
      "Total params: 3,136\n",
      "Trainable params: 1,568\n",
      "Non-trainable params: 1,568\n",
      "_________________________________________________________________\n"
     ]
    }
   ],
   "source": [
    "model1.summary()"
   ]
  },
  {
   "cell_type": "markdown",
   "metadata": {
    "id": "kBGwTTilQlDD"
   },
   "source": [
    "### Add two fully connected layers with 200 and 100 neurons respectively with `relu` activations. Add a dropout layer with `p=0.25`"
   ]
  },
  {
   "cell_type": "code",
   "execution_count": 192,
   "metadata": {
    "executionInfo": {
     "elapsed": 1000,
     "status": "ok",
     "timestamp": 1610284657426,
     "user": {
      "displayName": "jovije1996",
      "photoUrl": "",
      "userId": "07377799791697773871"
     },
     "user_tz": -330
    },
    "id": "k4OALuS4O9G8"
   },
   "outputs": [],
   "source": [
    "model1.add(tf.keras.layers.Dense(200, activation='relu'))\n",
    "model1.add(tf.keras.layers.Dense(100, activation='relu')) \n",
    "model1.add(tf.keras.layers.Dropout(0.25))"
   ]
  },
  {
   "cell_type": "markdown",
   "metadata": {
    "id": "5I8f5otcQlDJ"
   },
   "source": [
    "### Add the output layer with a fully connected layer with 10 neurons with `softmax` activation. Use `categorical_crossentropy` loss and `adam` optimizer and train the network. And, report the final validation.\n",
    "\n",
    "###Also add callback, such that if validation loss doesn't decreases consecutively 2 times, stop the training"
   ]
  },
  {
   "cell_type": "code",
   "execution_count": 193,
   "metadata": {
    "executionInfo": {
     "elapsed": 845,
     "status": "ok",
     "timestamp": 1610284659987,
     "user": {
      "displayName": "jovije1996",
      "photoUrl": "",
      "userId": "07377799791697773871"
     },
     "user_tz": -330
    },
    "id": "JZkvKymSd0Sr"
   },
   "outputs": [],
   "source": [
    "model1.add(Dense(10, activation='softmax'))"
   ]
  },
  {
   "cell_type": "code",
   "execution_count": 194,
   "metadata": {
    "executionInfo": {
     "elapsed": 883,
     "status": "ok",
     "timestamp": 1610284660377,
     "user": {
      "displayName": "jovije1996",
      "photoUrl": "",
      "userId": "07377799791697773871"
     },
     "user_tz": -330
    },
    "id": "R1fHBTInQfcQ"
   },
   "outputs": [],
   "source": [
    "early_stop = tf.keras.callbacks.EarlyStopping(patience=2,monitor='val_loss')"
   ]
  },
  {
   "cell_type": "code",
   "execution_count": 195,
   "metadata": {
    "executionInfo": {
     "elapsed": 1166,
     "status": "ok",
     "timestamp": 1610284660909,
     "user": {
      "displayName": "jovije1996",
      "photoUrl": "",
      "userId": "07377799791697773871"
     },
     "user_tz": -330
    },
    "id": "a1zhYd34Q9G9"
   },
   "outputs": [],
   "source": [
    "model1.compile(optimizer='adam',loss='categorical_crossentropy',metrics='accuracy')"
   ]
  },
  {
   "cell_type": "markdown",
   "metadata": {
    "id": "foL4GTKfRnkF"
   },
   "source": [
    "### Print model summary"
   ]
  },
  {
   "cell_type": "code",
   "execution_count": 196,
   "metadata": {
    "colab": {
     "base_uri": "https://localhost:8080/"
    },
    "executionInfo": {
     "elapsed": 773,
     "status": "ok",
     "timestamp": 1610284661319,
     "user": {
      "displayName": "jovije1996",
      "photoUrl": "",
      "userId": "07377799791697773871"
     },
     "user_tz": -330
    },
    "id": "BhoNWO83vwmK",
    "outputId": "a2a7580d-d32c-43d1-9b9d-2b38d63921ac"
   },
   "outputs": [
    {
     "name": "stdout",
     "output_type": "stream",
     "text": [
      "Model: \"sequential_8\"\n",
      "_________________________________________________________________\n",
      "Layer (type)                 Output Shape              Param #   \n",
      "=================================================================\n",
      "reshape_3 (Reshape)          (None, 784)               0         \n",
      "_________________________________________________________________\n",
      "batch_normalization_3 (Batch (None, 784)               3136      \n",
      "_________________________________________________________________\n",
      "dense_14 (Dense)             (None, 200)               157000    \n",
      "_________________________________________________________________\n",
      "dense_15 (Dense)             (None, 100)               20100     \n",
      "_________________________________________________________________\n",
      "dropout_3 (Dropout)          (None, 100)               0         \n",
      "_________________________________________________________________\n",
      "dense_16 (Dense)             (None, 10)                1010      \n",
      "=================================================================\n",
      "Total params: 181,246\n",
      "Trainable params: 179,678\n",
      "Non-trainable params: 1,568\n",
      "_________________________________________________________________\n"
     ]
    }
   ],
   "source": [
    "model1.summary()"
   ]
  },
  {
   "cell_type": "markdown",
   "metadata": {
    "id": "Ld9xHnSbRv1T"
   },
   "source": [
    "###Train your model, use test data as validation set"
   ]
  },
  {
   "cell_type": "code",
   "execution_count": 197,
   "metadata": {
    "colab": {
     "base_uri": "https://localhost:8080/"
    },
    "executionInfo": {
     "elapsed": 79123,
     "status": "ok",
     "timestamp": 1610284741898,
     "user": {
      "displayName": "jovije1996",
      "photoUrl": "",
      "userId": "07377799791697773871"
     },
     "user_tz": -330
    },
    "id": "WSiMhJPpk3GO",
    "outputId": "6709880c-0305-4800-be99-f469f52fc2c3"
   },
   "outputs": [
    {
     "name": "stdout",
     "output_type": "stream",
     "text": [
      "Epoch 1/10\n",
      "1875/1875 [==============================] - 9s 5ms/step - loss: 0.6319 - accuracy: 0.7797 - val_loss: 0.4226 - val_accuracy: 0.8427\n",
      "Epoch 2/10\n",
      "1875/1875 [==============================] - 9s 5ms/step - loss: 0.3923 - accuracy: 0.8551 - val_loss: 0.3759 - val_accuracy: 0.8636\n",
      "Epoch 3/10\n",
      "1875/1875 [==============================] - 8s 5ms/step - loss: 0.3641 - accuracy: 0.8656 - val_loss: 0.3641 - val_accuracy: 0.8683\n",
      "Epoch 4/10\n",
      "1875/1875 [==============================] - 8s 4ms/step - loss: 0.3354 - accuracy: 0.8762 - val_loss: 0.3590 - val_accuracy: 0.8743\n",
      "Epoch 5/10\n",
      "1875/1875 [==============================] - 8s 4ms/step - loss: 0.3114 - accuracy: 0.8855 - val_loss: 0.3711 - val_accuracy: 0.8747\n",
      "Epoch 6/10\n",
      "1875/1875 [==============================] - 9s 5ms/step - loss: 0.2954 - accuracy: 0.8901 - val_loss: 0.3527 - val_accuracy: 0.8779\n",
      "Epoch 7/10\n",
      "1875/1875 [==============================] - 9s 5ms/step - loss: 0.2864 - accuracy: 0.8937 - val_loss: 0.3431 - val_accuracy: 0.8851\n",
      "Epoch 8/10\n",
      "1875/1875 [==============================] - 9s 5ms/step - loss: 0.2668 - accuracy: 0.8987 - val_loss: 0.3497 - val_accuracy: 0.8812\n",
      "Epoch 9/10\n",
      "1875/1875 [==============================] - 9s 5ms/step - loss: 0.2669 - accuracy: 0.8994 - val_loss: 0.3710 - val_accuracy: 0.8827\n"
     ]
    }
   ],
   "source": [
    "history = model1.fit(X_train,Y_train,validation_data=(x_test,y_test),epochs=10,batch_size=32,callbacks=[early_stop])"
   ]
  },
  {
   "cell_type": "markdown",
   "metadata": {
    "id": "2K2w_Oq5RzZx"
   },
   "source": [
    "###Predict Labels"
   ]
  },
  {
   "cell_type": "code",
   "execution_count": 198,
   "metadata": {
    "colab": {
     "base_uri": "https://localhost:8080/"
    },
    "executionInfo": {
     "elapsed": 1436,
     "status": "ok",
     "timestamp": 1610284743350,
     "user": {
      "displayName": "jovije1996",
      "photoUrl": "",
      "userId": "07377799791697773871"
     },
     "user_tz": -330
    },
    "id": "UL76FU4lRz6n",
    "outputId": "34abbc59-4867-4f6f-c6da-14e8e838b83a"
   },
   "outputs": [
    {
     "data": {
      "text/plain": [
       "array([4.2532240e-09, 3.5622609e-08, 1.4006984e-09, 7.3749490e-08,\n",
       "       6.4040062e-09, 1.4293108e-02, 2.3333745e-07, 1.9249141e-02,\n",
       "       1.8915715e-07, 9.6645719e-01], dtype=float32)"
      ]
     },
     "execution_count": 198,
     "metadata": {
      "tags": []
     },
     "output_type": "execute_result"
    }
   ],
   "source": [
    "model1.predict(x_test)[0]"
   ]
  },
  {
   "cell_type": "code",
   "execution_count": 199,
   "metadata": {
    "executionInfo": {
     "elapsed": 2080,
     "status": "ok",
     "timestamp": 1610284744000,
     "user": {
      "displayName": "jovije1996",
      "photoUrl": "",
      "userId": "07377799791697773871"
     },
     "user_tz": -330
    },
    "id": "pE6pkvX-YOyM"
   },
   "outputs": [],
   "source": [
    "y_pred = np.argmax(model1.predict(x_test), axis=-1)"
   ]
  },
  {
   "cell_type": "code",
   "execution_count": 200,
   "metadata": {
    "colab": {
     "base_uri": "https://localhost:8080/"
    },
    "executionInfo": {
     "elapsed": 2074,
     "status": "ok",
     "timestamp": 1610284744001,
     "user": {
      "displayName": "jovije1996",
      "photoUrl": "",
      "userId": "07377799791697773871"
     },
     "user_tz": -330
    },
    "id": "X98mP1c_YbIY",
    "outputId": "411d03a2-52f4-4a20-e065-8b87d6565c77"
   },
   "outputs": [
    {
     "data": {
      "text/plain": [
       "array([9, 2, 1, ..., 8, 1, 5])"
      ]
     },
     "execution_count": 200,
     "metadata": {
      "tags": []
     },
     "output_type": "execute_result"
    }
   ],
   "source": [
    "y_pred"
   ]
  },
  {
   "cell_type": "markdown",
   "metadata": {
    "id": "BXPFIBBRR0mO"
   },
   "source": [
    "###Print Confusion matrix"
   ]
  },
  {
   "cell_type": "code",
   "execution_count": 207,
   "metadata": {
    "executionInfo": {
     "elapsed": 1478,
     "status": "ok",
     "timestamp": 1610284925806,
     "user": {
      "displayName": "jovije1996",
      "photoUrl": "",
      "userId": "07377799791697773871"
     },
     "user_tz": -330
    },
    "id": "DzVXP5KYdP6z"
   },
   "outputs": [],
   "source": [
    "(trainX_1,trainY_1),(x_test_1,y_test_1) = tf.keras.datasets.fashion_mnist.load_data()"
   ]
  },
  {
   "cell_type": "code",
   "execution_count": 208,
   "metadata": {
    "colab": {
     "base_uri": "https://localhost:8080/"
    },
    "executionInfo": {
     "elapsed": 844,
     "status": "ok",
     "timestamp": 1610284931156,
     "user": {
      "displayName": "jovije1996",
      "photoUrl": "",
      "userId": "07377799791697773871"
     },
     "user_tz": -330
    },
    "id": "hlR4qXJ7R3yT",
    "outputId": "721ff91a-a5ad-4657-bff3-46667f5bf72f"
   },
   "outputs": [
    {
     "data": {
      "text/plain": [
       "array([[866,   3,  14,  29,   6,   0,  75,   0,   7,   0],\n",
       "       [  2, 977,   1,  16,   1,   0,   2,   0,   1,   0],\n",
       "       [ 17,   2, 772,  14, 146,   0,  45,   1,   3,   0],\n",
       "       [ 21,   5,   6, 892,  50,   0,  20,   0,   6,   0],\n",
       "       [  1,   1,  54,  18, 877,   1,  45,   0,   3,   0],\n",
       "       [  0,   0,   0,   0,   0, 962,   0,  31,   1,   6],\n",
       "       [145,   0,  94,  34,  94,   0, 624,   0,   9,   0],\n",
       "       [  0,   0,   0,   0,   0,  11,   0, 980,   1,   8],\n",
       "       [  7,   1,   4,   5,   5,   1,   4,   4, 969,   0],\n",
       "       [  0,   0,   0,   0,   0,  14,   1,  76,   1, 908]])"
      ]
     },
     "execution_count": 208,
     "metadata": {
      "tags": []
     },
     "output_type": "execute_result"
    }
   ],
   "source": [
    "from sklearn.metrics import confusion_matrix\n",
    "confusion_matrix(y_test_1,y_pred)"
   ]
  },
  {
   "cell_type": "markdown",
   "metadata": {
    "id": "-xMY7tsqR4Z6"
   },
   "source": [
    "###Plot training accuracy vs validation accuracy\n",
    "###Plot training loss vs validation loss"
   ]
  },
  {
   "cell_type": "code",
   "execution_count": 210,
   "metadata": {
    "colab": {
     "base_uri": "https://localhost:8080/",
     "height": 573
    },
    "executionInfo": {
     "elapsed": 1442,
     "status": "ok",
     "timestamp": 1610284982712,
     "user": {
      "displayName": "jovije1996",
      "photoUrl": "",
      "userId": "07377799791697773871"
     },
     "user_tz": -330
    },
    "id": "q3irwsgFR-Uu",
    "outputId": "767f1245-92a8-4f50-c9ef-783deecfb5a4"
   },
   "outputs": [
    {
     "data": {
      "image/png": "[encoded data removed]",
      "text/plain": [
       "<Figure size 432x288 with 1 Axes>"
      ]
     },
     "metadata": {
      "needs_background": "light",
      "tags": []
     },
     "output_type": "display_data"
    },
    {
     "data": {
      "image/png": "[encoded data removed]",
      "text/plain": [
       "<Figure size 432x288 with 1 Axes>"
      ]
     },
     "metadata": {
      "needs_background": "light",
      "tags": []
     },
     "output_type": "display_data"
    }
   ],
   "source": [
    "import matplotlib.pyplot as plt\n",
    "\n",
    "plt.plot(history.history['accuracy'])\n",
    "plt.plot(history.history['val_accuracy'])\n",
    "plt.title('model accuracy')\n",
    "plt.ylabel('accuracy')\n",
    "plt.xlabel('epoch')\n",
    "plt.legend(['train', 'test'], loc='upper left')\n",
    "plt.show()\n",
    "# summarize history for loss\n",
    "plt.plot(history.history['loss'])\n",
    "plt.plot(history.history['val_loss'])\n",
    "plt.title('model loss')\n",
    "plt.ylabel('loss')\n",
    "plt.xlabel('epoch')\n",
    "plt.legend(['train', 'test'], loc='upper left')\n",
    "plt.show()"
   ]
  }
 ],
 "metadata": {
  "colab": {
   "collapsed_sections": [],
   "name": "Questions_Lab_on_NNDL.ipynb",
   "provenance": []
  },
  "kernelspec": {
   "display_name": "Python 3",
   "language": "python",
   "name": "python3"
  },
  "language_info": {
   "codemirror_mode": {
    "name": "ipython",
    "version": 3
   },
   "file_extension": ".py",
   "mimetype": "text/x-python",
   "name": "python",
   "nbconvert_exporter": "python",
   "pygments_lexer": "ipython3",
   "version": "3.8.3"
  }
 },
 "nbformat": 4,
 "nbformat_minor": 1
}
