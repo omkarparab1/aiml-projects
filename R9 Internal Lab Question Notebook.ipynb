{
 "cells": [
  {
   "cell_type": "markdown",
   "metadata": {
    "id": "PHYs6Z84xV8E"
   },
   "source": [
    "<img src=\"http://drive.google.com/uc?export=view&id=1tpOCamr9aWz817atPnyXus8w5gJ3mIts\" width=500px>\n",
    "\n",
    "Proprietary content. © Great Learning. All Rights Reserved. Unauthorized use or distribution prohibited."
   ]
  },
  {
   "cell_type": "markdown",
   "metadata": {
    "id": "FbwHYUXhxaqD"
   },
   "source": [
    "## Problem Statement\n",
    "\n"
   ]
  },
  {
   "cell_type": "markdown",
   "metadata": {
    "id": "5QQxgAmWzSye"
   },
   "source": [
    "# Samsung Internal SSD Reviews prediction\n",
    "\n",
    "Rating predictions using reviews written by users can be a useful problem statement in E-commerce domain and can be used for recommending similar products that may interest users. The dataset in this problem statement comprises reviews pertaining to Samsung Internal SSD product specifically SAMSUNG 850 EVO 2.5\" 250GB SATA III 3D NAND Internal Solid State Drive (SSD) MZ-75E250B/AM from the NewEgg Store website.  We will build a Natural Language processing model using Glove embeddings which is trained on reviews given by customers that have used the product and try to predict ratings given a new rating.\n",
    "\n",
    "\n",
    "\n",
    "\n",
    "### Objective:\n",
    "Given the reviews provided by customers, can you train a model that accurately predicts the corresponding rating of a review?"
   ]
  },
  {
   "cell_type": "markdown",
   "metadata": {
    "id": "CI7usguRzeox"
   },
   "source": [
    "### Package version\n",
    "\n",
    "- tensorflow==2.3.0\n",
    "- scikit-learn==0.22.2.post1\n",
    "- pandas==1.0.5\n",
    "- numpy==1.18.5\n",
    "- matplotlib==3.2.2\n",
    "- google==2.0.3"
   ]
  },
  {
   "cell_type": "markdown",
   "metadata": {
    "id": "aiMdVjHRH7NR"
   },
   "source": [
    "### Data Dictionary \n",
    "\n",
    "- review_title : The Title for the customer review\n",
    "\n",
    "- overall_review: The whole customer review details\n",
    "\n",
    "- pros: The customer opinion about the good things in this product\n",
    "\n",
    "- cons: The customer opinion about the bad things in this product\n",
    "\n",
    "- ownership_pariod: How long the customer owned this product\n",
    "\n",
    "- date: When the review was written\n",
    "\n",
    "- rating_stars: The product rating from 1 to 5\n",
    "\n",
    "- year: In which year the review was written\n",
    "\n",
    "- month: In which month the review was written\n",
    "\n",
    "- day: In which day the review was written"
   ]
  },
  {
   "cell_type": "markdown",
   "metadata": {
    "id": "cEn52o8jznJK"
   },
   "source": [
    "## Table of Content\n",
    "\n",
    "1. Import Libraries\n",
    "\n",
    "2. Setting options\n",
    "\n",
    "3. Read Data\n",
    "\n",
    "4. Data Analysis and Preparation\n",
    "\n",
    "5. Model Building\n",
    "\n",
    "6. Conclusion and Interpretation\n",
    "\n",
    "7. Food for thought"
   ]
  },
  {
   "cell_type": "markdown",
   "metadata": {
    "id": "x_Lom6cXzqn7"
   },
   "source": [
    "## 1. Import Libraries"
   ]
  },
  {
   "cell_type": "markdown",
   "metadata": {
    "id": "FZtVstH8zre2"
   },
   "source": [
    "Let us start by mounting the drive"
   ]
  },
  {
   "cell_type": "code",
   "execution_count": null,
   "metadata": {
    "colab": {
     "base_uri": "https://localhost:8080/"
    },
    "executionInfo": {
     "elapsed": 63045,
     "status": "ok",
     "timestamp": 1621178439617,
     "user": {
      "displayName": "Omkar Parab",
      "photoUrl": "https://lh3.googleusercontent.com/-k_5aDc4lY0s/AAAAAAAAAAI/AAAAAAAAY7M/CwjzItosNr8/s64/photo.jpg",
      "userId": "03333431617055937457"
     },
     "user_tz": -330
    },
    "id": "jSsg8JHkIh2k",
    "outputId": "0a736131-e46c-420c-eb4f-183b058c4327"
   },
   "outputs": [
    {
     "name": "stdout",
     "output_type": "stream",
     "text": [
      "Mounted at /content/drive\n"
     ]
    }
   ],
   "source": [
    "from google.colab import drive\n",
    "drive.mount('/content/drive')"
   ]
  },
  {
   "cell_type": "code",
   "execution_count": null,
   "metadata": {
    "id": "7NbGTYuVNKLb"
   },
   "outputs": [],
   "source": [
    "import os\n",
    "os.chdir('drive/MyDrive')"
   ]
  },
  {
   "cell_type": "markdown",
   "metadata": {
    "id": "Gv-tZoFjz2WD"
   },
   "source": [
    "Let us check for the version of installed tensorflow."
   ]
  },
  {
   "cell_type": "code",
   "execution_count": null,
   "metadata": {
    "colab": {
     "base_uri": "https://localhost:8080/"
    },
    "executionInfo": {
     "elapsed": 4494,
     "status": "ok",
     "timestamp": 1621178447754,
     "user": {
      "displayName": "Omkar Parab",
      "photoUrl": "https://lh3.googleusercontent.com/-k_5aDc4lY0s/AAAAAAAAAAI/AAAAAAAAY7M/CwjzItosNr8/s64/photo.jpg",
      "userId": "03333431617055937457"
     },
     "user_tz": -330
    },
    "id": "eiuUVBuDzzn9",
    "outputId": "174e883f-91b4-43db-8724-701e3a5a70fe"
   },
   "outputs": [
    {
     "name": "stdout",
     "output_type": "stream",
     "text": [
      "2.4.1\n"
     ]
    }
   ],
   "source": [
    "# used to supress display of warnings\n",
    "import warnings\n",
    "\n",
    "# os is used to provide a way of using operating system dependent functionality\n",
    "# We use it for setting working folder\n",
    "import os\n",
    "\n",
    "# Pandas is used for data manipulation and analysis\n",
    "import pandas as pd \n",
    "\n",
    "# Numpy is used for large, multi-dimensional arrays and matrices, along with mathematical operators on these arrays\n",
    "import numpy as np\n",
    "\n",
    "# Matplotlib is a data visualization library for 2D plots of arrays, built on NumPy arrays \n",
    "# and designed to work with the broader SciPy stack\n",
    "import matplotlib.pyplot as plt\n",
    "%matplotlib inline\n",
    "from matplotlib import pyplot\n",
    "\n",
    "# Seaborn is based on matplotlib, which aids in drawing attractive and informative statistical graphics.\n",
    "import seaborn as sns\n",
    "import tensorflow \n",
    "print(tensorflow.__version__)"
   ]
  },
  {
   "cell_type": "markdown",
   "metadata": {
    "id": "fze-aokU0ukH"
   },
   "source": [
    "## 2. Setting Options"
   ]
  },
  {
   "cell_type": "code",
   "execution_count": null,
   "metadata": {
    "id": "T3FALggG0xXa"
   },
   "outputs": [],
   "source": [
    "# suppress display of warnings\n",
    "warnings.filterwarnings('ignore')\n",
    "\n",
    "# display all dataframe columns\n",
    "pd.options.display.max_columns = None\n",
    "\n",
    "# to set the limit to 3 decimals\n",
    "pd.options.display.float_format = '{:.7f}'.format\n",
    "\n",
    "# display all dataframe rows\n",
    "pd.options.display.max_rows = None"
   ]
  },
  {
   "cell_type": "markdown",
   "metadata": {
    "id": "ZT1P1WdK1vfZ"
   },
   "source": [
    "## 3. Read Data"
   ]
  },
  {
   "cell_type": "markdown",
   "metadata": {
    "id": "NnnvF56gfwav"
   },
   "source": [
    "### Read the dataset and check top 5 rows"
   ]
  },
  {
   "cell_type": "code",
   "execution_count": null,
   "metadata": {
    "colab": {
     "base_uri": "https://localhost:8080/",
     "height": 346
    },
    "executionInfo": {
     "elapsed": 2841,
     "status": "ok",
     "timestamp": 1621178453156,
     "user": {
      "displayName": "Omkar Parab",
      "photoUrl": "https://lh3.googleusercontent.com/-k_5aDc4lY0s/AAAAAAAAAAI/AAAAAAAAY7M/CwjzItosNr8/s64/photo.jpg",
      "userId": "03333431617055937457"
     },
     "user_tz": -330
    },
    "id": "imj2VbNpf383",
    "outputId": "ff4cfcb9-9fb9-4e04-de9b-f9846b064cac"
   },
   "outputs": [
    {
     "data": {
      "text/html": [
       "<div>\n",
       "<style scoped>\n",
       "    .dataframe tbody tr th:only-of-type {\n",
       "        vertical-align: middle;\n",
       "    }\n",
       "\n",
       "    .dataframe tbody tr th {\n",
       "        vertical-align: top;\n",
       "    }\n",
       "\n",
       "    .dataframe thead th {\n",
       "        text-align: right;\n",
       "    }\n",
       "</style>\n",
       "<table border=\"1\" class=\"dataframe\">\n",
       "  <thead>\n",
       "    <tr style=\"text-align: right;\">\n",
       "      <th></th>\n",
       "      <th>Unnamed: 0</th>\n",
       "      <th>review_title</th>\n",
       "      <th>overall_review</th>\n",
       "      <th>pros</th>\n",
       "      <th>cons</th>\n",
       "      <th>ownership_pariod</th>\n",
       "      <th>date</th>\n",
       "      <th>rating_stars</th>\n",
       "      <th>year</th>\n",
       "      <th>month</th>\n",
       "      <th>day</th>\n",
       "    </tr>\n",
       "  </thead>\n",
       "  <tbody>\n",
       "    <tr>\n",
       "      <th>0</th>\n",
       "      <td>0</td>\n",
       "      <td>solid</td>\n",
       "      <td>buy it you will not regret this purchase</td>\n",
       "      <td>reliable fast silent cool running drive highly...</td>\n",
       "      <td>NaN</td>\n",
       "      <td>years</td>\n",
       "      <td>2019-12-05 12:58:58</td>\n",
       "      <td>5</td>\n",
       "      <td>2019</td>\n",
       "      <td>12</td>\n",
       "      <td>5</td>\n",
       "    </tr>\n",
       "    <tr>\n",
       "      <th>1</th>\n",
       "      <td>1</td>\n",
       "      <td>nice drive for price even cheaper by todays costs</td>\n",
       "      <td>good drive price</td>\n",
       "      <td>been running almost constantly since when i pu...</td>\n",
       "      <td>NaN</td>\n",
       "      <td>years</td>\n",
       "      <td>2019-11-01 08:25:45</td>\n",
       "      <td>5</td>\n",
       "      <td>2019</td>\n",
       "      <td>11</td>\n",
       "      <td>1</td>\n",
       "    </tr>\n",
       "    <tr>\n",
       "      <th>2</th>\n",
       "      <td>2</td>\n",
       "      <td>perfect</td>\n",
       "      <td>used this drive as my boot drive and only data...</td>\n",
       "      <td>good value decently fast good longevity</td>\n",
       "      <td>none so far</td>\n",
       "      <td>years</td>\n",
       "      <td>2019-10-27 17:05:49</td>\n",
       "      <td>5</td>\n",
       "      <td>2019</td>\n",
       "      <td>10</td>\n",
       "      <td>27</td>\n",
       "    </tr>\n",
       "    <tr>\n",
       "      <th>3</th>\n",
       "      <td>3</td>\n",
       "      <td>very snappy</td>\n",
       "      <td>os boots quicker os menus pop up quicker gamin...</td>\n",
       "      <td>noticeable improvement in os performance over ...</td>\n",
       "      <td>samsung magician software causes some games to...</td>\n",
       "      <td>years</td>\n",
       "      <td>2019-10-24 18:29:43</td>\n",
       "      <td>5</td>\n",
       "      <td>2019</td>\n",
       "      <td>10</td>\n",
       "      <td>24</td>\n",
       "    </tr>\n",
       "    <tr>\n",
       "      <th>4</th>\n",
       "      <td>4</td>\n",
       "      <td>worth the hype</td>\n",
       "      <td>this was the sdd that everyone said to get and...</td>\n",
       "      <td>NaN</td>\n",
       "      <td>NaN</td>\n",
       "      <td>years</td>\n",
       "      <td>2019-09-11 19:21:03</td>\n",
       "      <td>5</td>\n",
       "      <td>2019</td>\n",
       "      <td>9</td>\n",
       "      <td>11</td>\n",
       "    </tr>\n",
       "  </tbody>\n",
       "</table>\n",
       "</div>"
      ],
      "text/plain": [
       "   Unnamed: 0                                       review_title  \\\n",
       "0           0                                              solid   \n",
       "1           1  nice drive for price even cheaper by todays costs   \n",
       "2           2                                            perfect   \n",
       "3           3                                        very snappy   \n",
       "4           4                                     worth the hype   \n",
       "\n",
       "                                      overall_review  \\\n",
       "0           buy it you will not regret this purchase   \n",
       "1                                   good drive price   \n",
       "2  used this drive as my boot drive and only data...   \n",
       "3  os boots quicker os menus pop up quicker gamin...   \n",
       "4  this was the sdd that everyone said to get and...   \n",
       "\n",
       "                                                pros  \\\n",
       "0  reliable fast silent cool running drive highly...   \n",
       "1  been running almost constantly since when i pu...   \n",
       "2            good value decently fast good longevity   \n",
       "3  noticeable improvement in os performance over ...   \n",
       "4                                                NaN   \n",
       "\n",
       "                                                cons ownership_pariod  \\\n",
       "0                                                NaN            years   \n",
       "1                                                NaN            years   \n",
       "2                                        none so far            years   \n",
       "3  samsung magician software causes some games to...            years   \n",
       "4                                                NaN            years   \n",
       "\n",
       "                  date  rating_stars  year  month  day  \n",
       "0  2019-12-05 12:58:58             5  2019     12    5  \n",
       "1  2019-11-01 08:25:45             5  2019     11    1  \n",
       "2  2019-10-27 17:05:49             5  2019     10   27  \n",
       "3  2019-10-24 18:29:43             5  2019     10   24  \n",
       "4  2019-09-11 19:21:03             5  2019      9   11  "
      ]
     },
     "execution_count": 5,
     "metadata": {
      "tags": []
     },
     "output_type": "execute_result"
    }
   ],
   "source": [
    "df = pd.read_csv('ssd_reviews.csv')\n",
    "df.head()"
   ]
  },
  {
   "cell_type": "markdown",
   "metadata": {
    "id": "RGluIi5Sf5Rp"
   },
   "source": [
    "### Check info of the dataset and write your findings"
   ]
  },
  {
   "cell_type": "code",
   "execution_count": null,
   "metadata": {
    "colab": {
     "base_uri": "https://localhost:8080/"
    },
    "executionInfo": {
     "elapsed": 2712,
     "status": "ok",
     "timestamp": 1621178455273,
     "user": {
      "displayName": "Omkar Parab",
      "photoUrl": "https://lh3.googleusercontent.com/-k_5aDc4lY0s/AAAAAAAAAAI/AAAAAAAAY7M/CwjzItosNr8/s64/photo.jpg",
      "userId": "03333431617055937457"
     },
     "user_tz": -330
    },
    "id": "Pldlew5Mf9gA",
    "outputId": "29a7ccb1-8914-4e8a-da7e-cea698a9195f"
   },
   "outputs": [
    {
     "name": "stdout",
     "output_type": "stream",
     "text": [
      "<class 'pandas.core.frame.DataFrame'>\n",
      "RangeIndex: 2227 entries, 0 to 2226\n",
      "Data columns (total 11 columns):\n",
      " #   Column            Non-Null Count  Dtype \n",
      "---  ------            --------------  ----- \n",
      " 0   Unnamed: 0        2227 non-null   int64 \n",
      " 1   review_title      2131 non-null   object\n",
      " 2   overall_review    1448 non-null   object\n",
      " 3   pros              2205 non-null   object\n",
      " 4   cons              2216 non-null   object\n",
      " 5   ownership_pariod  2159 non-null   object\n",
      " 6   date              2227 non-null   object\n",
      " 7   rating_stars      2227 non-null   int64 \n",
      " 8   year              2227 non-null   int64 \n",
      " 9   month             2227 non-null   int64 \n",
      " 10  day               2227 non-null   int64 \n",
      "dtypes: int64(5), object(6)\n",
      "memory usage: 191.5+ KB\n"
     ]
    }
   ],
   "source": [
    "df.info()"
   ]
  },
  {
   "cell_type": "markdown",
   "metadata": {
    "id": "hW9_hGDHNaxk"
   },
   "source": [
    "* There are 2227 rows in the dataset.\n",
    "* Some rewiew_titles, overall_review and ownership_period are missing."
   ]
  },
  {
   "cell_type": "markdown",
   "metadata": {
    "id": "rED6DbDBKTjM"
   },
   "source": [
    "## 4.  Data Analysis and Preparation"
   ]
  },
  {
   "cell_type": "markdown",
   "metadata": {
    "id": "7VSqr0Seiy7g"
   },
   "source": [
    "### 4.1 Checking missing values\n",
    "#### Check for missing values (along with the percentage of null values)"
   ]
  },
  {
   "cell_type": "code",
   "execution_count": null,
   "metadata": {
    "colab": {
     "base_uri": "https://localhost:8080/"
    },
    "executionInfo": {
     "elapsed": 1938,
     "status": "ok",
     "timestamp": 1621178455273,
     "user": {
      "displayName": "Omkar Parab",
      "photoUrl": "https://lh3.googleusercontent.com/-k_5aDc4lY0s/AAAAAAAAAAI/AAAAAAAAY7M/CwjzItosNr8/s64/photo.jpg",
      "userId": "03333431617055937457"
     },
     "user_tz": -330
    },
    "id": "Il4yi7kdmnYQ",
    "outputId": "72ec1548-097f-4eab-c527-d9a29600a414"
   },
   "outputs": [
    {
     "data": {
      "text/plain": [
       "Unnamed: 0            0\n",
       "review_title         96\n",
       "overall_review      779\n",
       "pros                 22\n",
       "cons                 11\n",
       "ownership_pariod     68\n",
       "date                  0\n",
       "rating_stars          0\n",
       "year                  0\n",
       "month                 0\n",
       "day                   0\n",
       "dtype: int64"
      ]
     },
     "execution_count": 7,
     "metadata": {
      "tags": []
     },
     "output_type": "execute_result"
    }
   ],
   "source": [
    "df.isna().sum()"
   ]
  },
  {
   "cell_type": "code",
   "execution_count": null,
   "metadata": {
    "colab": {
     "base_uri": "https://localhost:8080/"
    },
    "executionInfo": {
     "elapsed": 3400,
     "status": "ok",
     "timestamp": 1621178456930,
     "user": {
      "displayName": "Omkar Parab",
      "photoUrl": "https://lh3.googleusercontent.com/-k_5aDc4lY0s/AAAAAAAAAAI/AAAAAAAAY7M/CwjzItosNr8/s64/photo.jpg",
      "userId": "03333431617055937457"
     },
     "user_tz": -330
    },
    "id": "YDtrtDhvNw27",
    "outputId": "38cdefb6-05c4-4ff5-82b3-3040f77fe08e"
   },
   "outputs": [
    {
     "data": {
      "text/plain": [
       "Unnamed: 0          0.0000000\n",
       "review_title        4.3107319\n",
       "overall_review     34.9797934\n",
       "pros                0.9878761\n",
       "cons                0.4939380\n",
       "ownership_pariod    3.0534351\n",
       "date                0.0000000\n",
       "rating_stars        0.0000000\n",
       "year                0.0000000\n",
       "month               0.0000000\n",
       "day                 0.0000000\n",
       "dtype: float64"
      ]
     },
     "execution_count": 8,
     "metadata": {
      "tags": []
     },
     "output_type": "execute_result"
    }
   ],
   "source": [
    "df.isna().sum() * 100 / len(df)"
   ]
  },
  {
   "cell_type": "markdown",
   "metadata": {
    "id": "SB40EGirmVjo"
   },
   "source": [
    "### 4.2 Analyzing the target column (Rating_stars)"
   ]
  },
  {
   "cell_type": "markdown",
   "metadata": {
    "id": "MoRvWVk-is6Y"
   },
   "source": [
    "#### Check the value counts of 'rating_stars' and write your comments"
   ]
  },
  {
   "cell_type": "code",
   "execution_count": null,
   "metadata": {
    "colab": {
     "base_uri": "https://localhost:8080/"
    },
    "executionInfo": {
     "elapsed": 2815,
     "status": "ok",
     "timestamp": 1621178456930,
     "user": {
      "displayName": "Omkar Parab",
      "photoUrl": "https://lh3.googleusercontent.com/-k_5aDc4lY0s/AAAAAAAAAAI/AAAAAAAAY7M/CwjzItosNr8/s64/photo.jpg",
      "userId": "03333431617055937457"
     },
     "user_tz": -330
    },
    "id": "LOVFp6Diiy0n",
    "outputId": "0e1bb077-b2bc-4182-de77-917b182c0ee1"
   },
   "outputs": [
    {
     "data": {
      "text/plain": [
       "5    1756\n",
       "4     181\n",
       "1     153\n",
       "3      77\n",
       "2      60\n",
       "Name: rating_stars, dtype: int64"
      ]
     },
     "execution_count": 9,
     "metadata": {
      "tags": []
     },
     "output_type": "execute_result"
    }
   ],
   "source": [
    "df['rating_stars'].value_counts()"
   ]
  },
  {
   "cell_type": "code",
   "execution_count": null,
   "metadata": {
    "colab": {
     "base_uri": "https://localhost:8080/",
     "height": 279
    },
    "executionInfo": {
     "elapsed": 2557,
     "status": "ok",
     "timestamp": 1621178456931,
     "user": {
      "displayName": "Omkar Parab",
      "photoUrl": "https://lh3.googleusercontent.com/-k_5aDc4lY0s/AAAAAAAAAAI/AAAAAAAAY7M/CwjzItosNr8/s64/photo.jpg",
      "userId": "03333431617055937457"
     },
     "user_tz": -330
    },
    "id": "Rhr2gnY2lc9h",
    "outputId": "a3ab9d30-5f86-4a64-eedf-acae37adee95"
   },
   "outputs": [
    {
     "data": {
      "text/plain": [
       "<matplotlib.axes._subplots.AxesSubplot at 0x7fd68d9cbed0>"
      ]
     },
     "execution_count": 10,
     "metadata": {
      "tags": []
     },
     "output_type": "execute_result"
    },
    {
     "data": {
      "image/png": "[encoded data removed]",
      "text/plain": [
       "<Figure size 432x288 with 1 Axes>"
      ]
     },
     "metadata": {
      "needs_background": "light",
      "tags": []
     },
     "output_type": "display_data"
    }
   ],
   "source": [
    "df['rating_stars'].value_counts().plot(kind='bar')"
   ]
  },
  {
   "cell_type": "markdown",
   "metadata": {
    "id": "99zwBw72iw_b"
   },
   "source": [
    "* Most ratings are concentrated towards 5 stars making it a highly unbalanced dataset."
   ]
  },
  {
   "cell_type": "markdown",
   "metadata": {
    "id": "ZL_BQlb5mE4O"
   },
   "source": [
    "### 4.3 Let's analyze other features like year, month, and day etc.\n",
    "#### Check value counts of 'year' and write your observations., Comment on the range of years, frequency of ratings in each year."
   ]
  },
  {
   "cell_type": "code",
   "execution_count": null,
   "metadata": {
    "colab": {
     "base_uri": "https://localhost:8080/"
    },
    "executionInfo": {
     "elapsed": 1909,
     "status": "ok",
     "timestamp": 1621178456932,
     "user": {
      "displayName": "Omkar Parab",
      "photoUrl": "https://lh3.googleusercontent.com/-k_5aDc4lY0s/AAAAAAAAAAI/AAAAAAAAY7M/CwjzItosNr8/s64/photo.jpg",
      "userId": "03333431617055937457"
     },
     "user_tz": -330
    },
    "id": "YAtEigKEmM-Z",
    "outputId": "2fc79504-ad47-4396-dfac-7c05255745d0"
   },
   "outputs": [
    {
     "data": {
      "text/plain": [
       "2015    1006\n",
       "2016     605\n",
       "2017     370\n",
       "2018     187\n",
       "2019      46\n",
       "2014      13\n",
       "Name: year, dtype: int64"
      ]
     },
     "execution_count": 11,
     "metadata": {
      "tags": []
     },
     "output_type": "execute_result"
    }
   ],
   "source": [
    "df['year'].value_counts()"
   ]
  },
  {
   "cell_type": "markdown",
   "metadata": {
    "id": "wmxrsocLON9u"
   },
   "source": [
    "* There are a total of 6 years ranging from 2014 to 2019\n",
    "* Most ratings were given in year 2015 and 2016 which indicates that most SSDs were sold in those years."
   ]
  },
  {
   "cell_type": "markdown",
   "metadata": {
    "id": "M-pWwPhRmsAz"
   },
   "source": [
    "#### Check mean rating for each year and write your findings"
   ]
  },
  {
   "cell_type": "code",
   "execution_count": null,
   "metadata": {
    "colab": {
     "base_uri": "https://localhost:8080/"
    },
    "executionInfo": {
     "elapsed": 2974,
     "status": "ok",
     "timestamp": 1621178458768,
     "user": {
      "displayName": "Omkar Parab",
      "photoUrl": "https://lh3.googleusercontent.com/-k_5aDc4lY0s/AAAAAAAAAAI/AAAAAAAAY7M/CwjzItosNr8/s64/photo.jpg",
      "userId": "03333431617055937457"
     },
     "user_tz": -330
    },
    "id": "sqWWhlLemwG8",
    "outputId": "ab71a44b-53ef-4e50-8cb0-e4a449e830c8"
   },
   "outputs": [
    {
     "data": {
      "text/plain": [
       "year\n",
       "2014   4.9230769\n",
       "2016   4.5900826\n",
       "2017   4.5108108\n",
       "2015   4.4582505\n",
       "2019   4.3478261\n",
       "2018   4.3475936\n",
       "Name: rating_stars, dtype: float64"
      ]
     },
     "execution_count": 12,
     "metadata": {
      "tags": []
     },
     "output_type": "execute_result"
    }
   ],
   "source": [
    "df.groupby('year')['rating_stars'].mean().sort_values(ascending=False)"
   ]
  },
  {
   "cell_type": "markdown",
   "metadata": {
    "id": "V_isrhADmw5l"
   },
   "source": [
    "* As its a highly unbalanced dataset as mentioned above, all mean ratings come closer to 5."
   ]
  },
  {
   "cell_type": "markdown",
   "metadata": {
    "id": "enoYYTDunPsT"
   },
   "source": [
    "#### Check value counts of 'month' and write your observations. Comment on the frequency of ratings and discuss if the rating count and mean rating is higher/low on certain months."
   ]
  },
  {
   "cell_type": "code",
   "execution_count": null,
   "metadata": {
    "colab": {
     "base_uri": "https://localhost:8080/"
    },
    "executionInfo": {
     "elapsed": 1993,
     "status": "ok",
     "timestamp": 1621178458769,
     "user": {
      "displayName": "Omkar Parab",
      "photoUrl": "https://lh3.googleusercontent.com/-k_5aDc4lY0s/AAAAAAAAAAI/AAAAAAAAY7M/CwjzItosNr8/s64/photo.jpg",
      "userId": "03333431617055937457"
     },
     "user_tz": -330
    },
    "id": "T0yhG8s1pTZD",
    "outputId": "b237d8f8-a9dc-4ce0-d09a-dd89b9121446"
   },
   "outputs": [
    {
     "data": {
      "text/plain": [
       "12    278\n",
       "2     239\n",
       "3     234\n",
       "1     221\n",
       "4     205\n",
       "11    191\n",
       "5     158\n",
       "9     157\n",
       "7     144\n",
       "10    141\n",
       "6     140\n",
       "8     119\n",
       "Name: month, dtype: int64"
      ]
     },
     "execution_count": 13,
     "metadata": {
      "tags": []
     },
     "output_type": "execute_result"
    }
   ],
   "source": [
    "df['month'].value_counts()"
   ]
  },
  {
   "cell_type": "code",
   "execution_count": null,
   "metadata": {
    "colab": {
     "base_uri": "https://localhost:8080/"
    },
    "executionInfo": {
     "elapsed": 3265,
     "status": "ok",
     "timestamp": 1621178460390,
     "user": {
      "displayName": "Omkar Parab",
      "photoUrl": "https://lh3.googleusercontent.com/-k_5aDc4lY0s/AAAAAAAAAAI/AAAAAAAAY7M/CwjzItosNr8/s64/photo.jpg",
      "userId": "03333431617055937457"
     },
     "user_tz": -330
    },
    "id": "wYTGepCMPYSE",
    "outputId": "8270789c-14a3-4cf5-8016-8b8495afa178"
   },
   "outputs": [
    {
     "data": {
      "text/plain": [
       "month\n",
       "7    4.7638889\n",
       "1    4.6425339\n",
       "3    4.6111111\n",
       "6    4.5571429\n",
       "9    4.5414013\n",
       "8    4.4789916\n",
       "11   4.4607330\n",
       "5    4.4493671\n",
       "4    4.4195122\n",
       "2    4.4058577\n",
       "12   4.3597122\n",
       "10   4.3049645\n",
       "Name: rating_stars, dtype: float64"
      ]
     },
     "execution_count": 14,
     "metadata": {
      "tags": []
     },
     "output_type": "execute_result"
    }
   ],
   "source": [
    "df.groupby('month')['rating_stars'].mean().sort_values(ascending=False)"
   ]
  },
  {
   "cell_type": "markdown",
   "metadata": {
    "id": "y9RsxshGoLRW"
   },
   "source": [
    "* Ratings are evenly spread accross every month.\n",
    "* As most ratings are o 5 stars the mean of each month comes closer to 5 with July being highest 4.7 and October being lowest 4.3."
   ]
  },
  {
   "cell_type": "markdown",
   "metadata": {
    "id": "lWofLqeJpTtI"
   },
   "source": [
    "### 4.4 Combine text features\n",
    "#### Drop all the numerical features ['Unnamed: 0','date', 'year', 'month', 'day', 'ownership_pariod'] and ['rating_stars']"
   ]
  },
  {
   "cell_type": "code",
   "execution_count": null,
   "metadata": {
    "id": "8VAMgNJkqn0h"
   },
   "outputs": [],
   "source": [
    "df_numerical = ['Unnamed: 0','date', 'year', 'month', 'day', 'ownership_pariod', 'rating_stars']\n",
    "text_data = df.drop(df_numerical, axis = 1)"
   ]
  },
  {
   "cell_type": "code",
   "execution_count": null,
   "metadata": {
    "colab": {
     "base_uri": "https://localhost:8080/",
     "height": 195
    },
    "executionInfo": {
     "elapsed": 1844,
     "status": "ok",
     "timestamp": 1621178460391,
     "user": {
      "displayName": "Omkar Parab",
      "photoUrl": "https://lh3.googleusercontent.com/-k_5aDc4lY0s/AAAAAAAAAAI/AAAAAAAAY7M/CwjzItosNr8/s64/photo.jpg",
      "userId": "03333431617055937457"
     },
     "user_tz": -330
    },
    "id": "3ktoqPTGQrAl",
    "outputId": "3bcc26ac-5be8-4c38-ad2c-67406002917e"
   },
   "outputs": [
    {
     "data": {
      "text/html": [
       "<div>\n",
       "<style scoped>\n",
       "    .dataframe tbody tr th:only-of-type {\n",
       "        vertical-align: middle;\n",
       "    }\n",
       "\n",
       "    .dataframe tbody tr th {\n",
       "        vertical-align: top;\n",
       "    }\n",
       "\n",
       "    .dataframe thead th {\n",
       "        text-align: right;\n",
       "    }\n",
       "</style>\n",
       "<table border=\"1\" class=\"dataframe\">\n",
       "  <thead>\n",
       "    <tr style=\"text-align: right;\">\n",
       "      <th></th>\n",
       "      <th>review_title</th>\n",
       "      <th>overall_review</th>\n",
       "      <th>pros</th>\n",
       "      <th>cons</th>\n",
       "    </tr>\n",
       "  </thead>\n",
       "  <tbody>\n",
       "    <tr>\n",
       "      <th>0</th>\n",
       "      <td>solid</td>\n",
       "      <td>buy it you will not regret this purchase</td>\n",
       "      <td>reliable fast silent cool running drive highly...</td>\n",
       "      <td>NaN</td>\n",
       "    </tr>\n",
       "    <tr>\n",
       "      <th>1</th>\n",
       "      <td>nice drive for price even cheaper by todays costs</td>\n",
       "      <td>good drive price</td>\n",
       "      <td>been running almost constantly since when i pu...</td>\n",
       "      <td>NaN</td>\n",
       "    </tr>\n",
       "    <tr>\n",
       "      <th>2</th>\n",
       "      <td>perfect</td>\n",
       "      <td>used this drive as my boot drive and only data...</td>\n",
       "      <td>good value decently fast good longevity</td>\n",
       "      <td>none so far</td>\n",
       "    </tr>\n",
       "    <tr>\n",
       "      <th>3</th>\n",
       "      <td>very snappy</td>\n",
       "      <td>os boots quicker os menus pop up quicker gamin...</td>\n",
       "      <td>noticeable improvement in os performance over ...</td>\n",
       "      <td>samsung magician software causes some games to...</td>\n",
       "    </tr>\n",
       "    <tr>\n",
       "      <th>4</th>\n",
       "      <td>worth the hype</td>\n",
       "      <td>this was the sdd that everyone said to get and...</td>\n",
       "      <td>NaN</td>\n",
       "      <td>NaN</td>\n",
       "    </tr>\n",
       "  </tbody>\n",
       "</table>\n",
       "</div>"
      ],
      "text/plain": [
       "                                        review_title  \\\n",
       "0                                              solid   \n",
       "1  nice drive for price even cheaper by todays costs   \n",
       "2                                            perfect   \n",
       "3                                        very snappy   \n",
       "4                                     worth the hype   \n",
       "\n",
       "                                      overall_review  \\\n",
       "0           buy it you will not regret this purchase   \n",
       "1                                   good drive price   \n",
       "2  used this drive as my boot drive and only data...   \n",
       "3  os boots quicker os menus pop up quicker gamin...   \n",
       "4  this was the sdd that everyone said to get and...   \n",
       "\n",
       "                                                pros  \\\n",
       "0  reliable fast silent cool running drive highly...   \n",
       "1  been running almost constantly since when i pu...   \n",
       "2            good value decently fast good longevity   \n",
       "3  noticeable improvement in os performance over ...   \n",
       "4                                                NaN   \n",
       "\n",
       "                                                cons  \n",
       "0                                                NaN  \n",
       "1                                                NaN  \n",
       "2                                        none so far  \n",
       "3  samsung magician software causes some games to...  \n",
       "4                                                NaN  "
      ]
     },
     "execution_count": 16,
     "metadata": {
      "tags": []
     },
     "output_type": "execute_result"
    }
   ],
   "source": [
    "text_data.head()"
   ]
  },
  {
   "cell_type": "markdown",
   "metadata": {
    "id": "HjRp0SgEqn9Z"
   },
   "source": [
    "#### Replace null values (NaN) with blanks"
   ]
  },
  {
   "cell_type": "code",
   "execution_count": null,
   "metadata": {
    "colab": {
     "base_uri": "https://localhost:8080/"
    },
    "executionInfo": {
     "elapsed": 1840,
     "status": "ok",
     "timestamp": 1621178461100,
     "user": {
      "displayName": "Omkar Parab",
      "photoUrl": "https://lh3.googleusercontent.com/-k_5aDc4lY0s/AAAAAAAAAAI/AAAAAAAAY7M/CwjzItosNr8/s64/photo.jpg",
      "userId": "03333431617055937457"
     },
     "user_tz": -330
    },
    "id": "CZr_sR_Tqs1x",
    "outputId": "0894b252-37fa-4725-c6e2-6413a207d4f8"
   },
   "outputs": [
    {
     "data": {
      "text/plain": [
       "review_title      0\n",
       "overall_review    0\n",
       "pros              0\n",
       "cons              0\n",
       "dtype: int64"
      ]
     },
     "execution_count": 17,
     "metadata": {
      "tags": []
     },
     "output_type": "execute_result"
    }
   ],
   "source": [
    "text_data.fillna(' ', inplace = True)\n",
    "text_data.isna().sum()"
   ]
  },
  {
   "cell_type": "code",
   "execution_count": null,
   "metadata": {
    "colab": {
     "base_uri": "https://localhost:8080/",
     "height": 195
    },
    "executionInfo": {
     "elapsed": 2618,
     "status": "ok",
     "timestamp": 1621178462228,
     "user": {
      "displayName": "Omkar Parab",
      "photoUrl": "https://lh3.googleusercontent.com/-k_5aDc4lY0s/AAAAAAAAAAI/AAAAAAAAY7M/CwjzItosNr8/s64/photo.jpg",
      "userId": "03333431617055937457"
     },
     "user_tz": -330
    },
    "id": "UFWpIgkJRT-d",
    "outputId": "9af02506-6238-4af5-fd1b-b4bf5365a660"
   },
   "outputs": [
    {
     "data": {
      "text/html": [
       "<div>\n",
       "<style scoped>\n",
       "    .dataframe tbody tr th:only-of-type {\n",
       "        vertical-align: middle;\n",
       "    }\n",
       "\n",
       "    .dataframe tbody tr th {\n",
       "        vertical-align: top;\n",
       "    }\n",
       "\n",
       "    .dataframe thead th {\n",
       "        text-align: right;\n",
       "    }\n",
       "</style>\n",
       "<table border=\"1\" class=\"dataframe\">\n",
       "  <thead>\n",
       "    <tr style=\"text-align: right;\">\n",
       "      <th></th>\n",
       "      <th>review_title</th>\n",
       "      <th>overall_review</th>\n",
       "      <th>pros</th>\n",
       "      <th>cons</th>\n",
       "    </tr>\n",
       "  </thead>\n",
       "  <tbody>\n",
       "    <tr>\n",
       "      <th>0</th>\n",
       "      <td>solid</td>\n",
       "      <td>buy it you will not regret this purchase</td>\n",
       "      <td>reliable fast silent cool running drive highly...</td>\n",
       "      <td></td>\n",
       "    </tr>\n",
       "    <tr>\n",
       "      <th>1</th>\n",
       "      <td>nice drive for price even cheaper by todays costs</td>\n",
       "      <td>good drive price</td>\n",
       "      <td>been running almost constantly since when i pu...</td>\n",
       "      <td></td>\n",
       "    </tr>\n",
       "    <tr>\n",
       "      <th>2</th>\n",
       "      <td>perfect</td>\n",
       "      <td>used this drive as my boot drive and only data...</td>\n",
       "      <td>good value decently fast good longevity</td>\n",
       "      <td>none so far</td>\n",
       "    </tr>\n",
       "    <tr>\n",
       "      <th>3</th>\n",
       "      <td>very snappy</td>\n",
       "      <td>os boots quicker os menus pop up quicker gamin...</td>\n",
       "      <td>noticeable improvement in os performance over ...</td>\n",
       "      <td>samsung magician software causes some games to...</td>\n",
       "    </tr>\n",
       "    <tr>\n",
       "      <th>4</th>\n",
       "      <td>worth the hype</td>\n",
       "      <td>this was the sdd that everyone said to get and...</td>\n",
       "      <td></td>\n",
       "      <td></td>\n",
       "    </tr>\n",
       "  </tbody>\n",
       "</table>\n",
       "</div>"
      ],
      "text/plain": [
       "                                        review_title  \\\n",
       "0                                              solid   \n",
       "1  nice drive for price even cheaper by todays costs   \n",
       "2                                            perfect   \n",
       "3                                        very snappy   \n",
       "4                                     worth the hype   \n",
       "\n",
       "                                      overall_review  \\\n",
       "0           buy it you will not regret this purchase   \n",
       "1                                   good drive price   \n",
       "2  used this drive as my boot drive and only data...   \n",
       "3  os boots quicker os menus pop up quicker gamin...   \n",
       "4  this was the sdd that everyone said to get and...   \n",
       "\n",
       "                                                pros  \\\n",
       "0  reliable fast silent cool running drive highly...   \n",
       "1  been running almost constantly since when i pu...   \n",
       "2            good value decently fast good longevity   \n",
       "3  noticeable improvement in os performance over ...   \n",
       "4                                                      \n",
       "\n",
       "                                                cons  \n",
       "0                                                     \n",
       "1                                                     \n",
       "2                                        none so far  \n",
       "3  samsung magician software causes some games to...  \n",
       "4                                                     "
      ]
     },
     "execution_count": 18,
     "metadata": {
      "tags": []
     },
     "output_type": "execute_result"
    }
   ],
   "source": [
    "text_data.head()"
   ]
  },
  {
   "cell_type": "markdown",
   "metadata": {
    "id": "ykjSdW1tqs-z"
   },
   "source": [
    "#### Join all text items in a row that have a space in between and Add a new column (with the newly created combined reviews) to the dataframe."
   ]
  },
  {
   "cell_type": "code",
   "execution_count": null,
   "metadata": {
    "colab": {
     "base_uri": "https://localhost:8080/",
     "height": 195
    },
    "executionInfo": {
     "elapsed": 1876,
     "status": "ok",
     "timestamp": 1621178462229,
     "user": {
      "displayName": "Omkar Parab",
      "photoUrl": "https://lh3.googleusercontent.com/-k_5aDc4lY0s/AAAAAAAAAAI/AAAAAAAAY7M/CwjzItosNr8/s64/photo.jpg",
      "userId": "03333431617055937457"
     },
     "user_tz": -330
    },
    "id": "9fJpSb-ZuSTr",
    "outputId": "63eaff5a-898a-47e2-813b-626deb1533f5"
   },
   "outputs": [
    {
     "data": {
      "text/html": [
       "<div>\n",
       "<style scoped>\n",
       "    .dataframe tbody tr th:only-of-type {\n",
       "        vertical-align: middle;\n",
       "    }\n",
       "\n",
       "    .dataframe tbody tr th {\n",
       "        vertical-align: top;\n",
       "    }\n",
       "\n",
       "    .dataframe thead th {\n",
       "        text-align: right;\n",
       "    }\n",
       "</style>\n",
       "<table border=\"1\" class=\"dataframe\">\n",
       "  <thead>\n",
       "    <tr style=\"text-align: right;\">\n",
       "      <th></th>\n",
       "      <th>combined_reviews</th>\n",
       "    </tr>\n",
       "  </thead>\n",
       "  <tbody>\n",
       "    <tr>\n",
       "      <th>0</th>\n",
       "      <td>solid buy it you will not regret this purchase...</td>\n",
       "    </tr>\n",
       "    <tr>\n",
       "      <th>1</th>\n",
       "      <td>nice drive for price even cheaper by todays co...</td>\n",
       "    </tr>\n",
       "    <tr>\n",
       "      <th>2</th>\n",
       "      <td>perfect used this drive as my boot drive and o...</td>\n",
       "    </tr>\n",
       "    <tr>\n",
       "      <th>3</th>\n",
       "      <td>very snappy os boots quicker os menus pop up q...</td>\n",
       "    </tr>\n",
       "    <tr>\n",
       "      <th>4</th>\n",
       "      <td>worth the hype this was the sdd that everyone ...</td>\n",
       "    </tr>\n",
       "  </tbody>\n",
       "</table>\n",
       "</div>"
      ],
      "text/plain": [
       "                                    combined_reviews\n",
       "0  solid buy it you will not regret this purchase...\n",
       "1  nice drive for price even cheaper by todays co...\n",
       "2  perfect used this drive as my boot drive and o...\n",
       "3  very snappy os boots quicker os menus pop up q...\n",
       "4  worth the hype this was the sdd that everyone ..."
      ]
     },
     "execution_count": 19,
     "metadata": {
      "tags": []
     },
     "output_type": "execute_result"
    }
   ],
   "source": [
    "text_data = text_data.apply(lambda x: ' '.join(x), axis=1)\n",
    "data = pd.DataFrame(text_data, columns=['combined_reviews'])\n",
    "data.head()"
   ]
  },
  {
   "cell_type": "code",
   "execution_count": null,
   "metadata": {
    "colab": {
     "base_uri": "https://localhost:8080/",
     "height": 195
    },
    "executionInfo": {
     "elapsed": 3209,
     "status": "ok",
     "timestamp": 1621178463867,
     "user": {
      "displayName": "Omkar Parab",
      "photoUrl": "https://lh3.googleusercontent.com/-k_5aDc4lY0s/AAAAAAAAAAI/AAAAAAAAY7M/CwjzItosNr8/s64/photo.jpg",
      "userId": "03333431617055937457"
     },
     "user_tz": -330
    },
    "id": "0VHzRd1gq1lY",
    "outputId": "9cf62862-3bb1-49db-dac2-7adbeda44ab2"
   },
   "outputs": [
    {
     "data": {
      "text/html": [
       "<div>\n",
       "<style scoped>\n",
       "    .dataframe tbody tr th:only-of-type {\n",
       "        vertical-align: middle;\n",
       "    }\n",
       "\n",
       "    .dataframe tbody tr th {\n",
       "        vertical-align: top;\n",
       "    }\n",
       "\n",
       "    .dataframe thead th {\n",
       "        text-align: right;\n",
       "    }\n",
       "</style>\n",
       "<table border=\"1\" class=\"dataframe\">\n",
       "  <thead>\n",
       "    <tr style=\"text-align: right;\">\n",
       "      <th></th>\n",
       "      <th>combined_reviews</th>\n",
       "      <th>ratings</th>\n",
       "    </tr>\n",
       "  </thead>\n",
       "  <tbody>\n",
       "    <tr>\n",
       "      <th>0</th>\n",
       "      <td>solid buy it you will not regret this purchase...</td>\n",
       "      <td>5</td>\n",
       "    </tr>\n",
       "    <tr>\n",
       "      <th>1</th>\n",
       "      <td>nice drive for price even cheaper by todays co...</td>\n",
       "      <td>5</td>\n",
       "    </tr>\n",
       "    <tr>\n",
       "      <th>2</th>\n",
       "      <td>perfect used this drive as my boot drive and o...</td>\n",
       "      <td>5</td>\n",
       "    </tr>\n",
       "    <tr>\n",
       "      <th>3</th>\n",
       "      <td>very snappy os boots quicker os menus pop up q...</td>\n",
       "      <td>5</td>\n",
       "    </tr>\n",
       "    <tr>\n",
       "      <th>4</th>\n",
       "      <td>worth the hype this was the sdd that everyone ...</td>\n",
       "      <td>5</td>\n",
       "    </tr>\n",
       "  </tbody>\n",
       "</table>\n",
       "</div>"
      ],
      "text/plain": [
       "                                    combined_reviews  ratings\n",
       "0  solid buy it you will not regret this purchase...        5\n",
       "1  nice drive for price even cheaper by todays co...        5\n",
       "2  perfect used this drive as my boot drive and o...        5\n",
       "3  very snappy os boots quicker os menus pop up q...        5\n",
       "4  worth the hype this was the sdd that everyone ...        5"
      ]
     },
     "execution_count": 20,
     "metadata": {
      "tags": []
     },
     "output_type": "execute_result"
    }
   ],
   "source": [
    "data['ratings'] = df['rating_stars']\n",
    "data.head()"
   ]
  },
  {
   "cell_type": "markdown",
   "metadata": {
    "id": "QLnNIq2iJQBn"
   },
   "source": [
    "#### Check if there are any null values and drop NaN values if any"
   ]
  },
  {
   "cell_type": "code",
   "execution_count": null,
   "metadata": {
    "colab": {
     "base_uri": "https://localhost:8080/"
    },
    "executionInfo": {
     "elapsed": 2523,
     "status": "ok",
     "timestamp": 1621178463867,
     "user": {
      "displayName": "Omkar Parab",
      "photoUrl": "https://lh3.googleusercontent.com/-k_5aDc4lY0s/AAAAAAAAAAI/AAAAAAAAY7M/CwjzItosNr8/s64/photo.jpg",
      "userId": "03333431617055937457"
     },
     "user_tz": -330
    },
    "id": "QOf3hTpcszKC",
    "outputId": "90629ead-6c25-4b08-e380-a26729c84fbb"
   },
   "outputs": [
    {
     "data": {
      "text/plain": [
       "combined_reviews    0\n",
       "ratings             0\n",
       "dtype: int64"
      ]
     },
     "execution_count": 21,
     "metadata": {
      "tags": []
     },
     "output_type": "execute_result"
    }
   ],
   "source": [
    "data.isna().sum()"
   ]
  },
  {
   "cell_type": "markdown",
   "metadata": {
    "id": "qS5NmyvzHMws"
   },
   "source": [
    "#### Calculate the length of each review and add it to the dataframe"
   ]
  },
  {
   "cell_type": "code",
   "execution_count": null,
   "metadata": {
    "colab": {
     "base_uri": "https://localhost:8080/",
     "height": 195
    },
    "executionInfo": {
     "elapsed": 2883,
     "status": "ok",
     "timestamp": 1621178465718,
     "user": {
      "displayName": "Omkar Parab",
      "photoUrl": "https://lh3.googleusercontent.com/-k_5aDc4lY0s/AAAAAAAAAAI/AAAAAAAAY7M/CwjzItosNr8/s64/photo.jpg",
      "userId": "03333431617055937457"
     },
     "user_tz": -330
    },
    "id": "TdMWM0jBHNzO",
    "outputId": "02340c29-7c23-4f40-8ce6-56839eb4480b"
   },
   "outputs": [
    {
     "data": {
      "text/html": [
       "<div>\n",
       "<style scoped>\n",
       "    .dataframe tbody tr th:only-of-type {\n",
       "        vertical-align: middle;\n",
       "    }\n",
       "\n",
       "    .dataframe tbody tr th {\n",
       "        vertical-align: top;\n",
       "    }\n",
       "\n",
       "    .dataframe thead th {\n",
       "        text-align: right;\n",
       "    }\n",
       "</style>\n",
       "<table border=\"1\" class=\"dataframe\">\n",
       "  <thead>\n",
       "    <tr style=\"text-align: right;\">\n",
       "      <th></th>\n",
       "      <th>combined_reviews</th>\n",
       "      <th>ratings</th>\n",
       "      <th>len</th>\n",
       "    </tr>\n",
       "  </thead>\n",
       "  <tbody>\n",
       "    <tr>\n",
       "      <th>0</th>\n",
       "      <td>solid buy it you will not regret this purchase...</td>\n",
       "      <td>5</td>\n",
       "      <td>17</td>\n",
       "    </tr>\n",
       "    <tr>\n",
       "      <th>1</th>\n",
       "      <td>nice drive for price even cheaper by todays co...</td>\n",
       "      <td>5</td>\n",
       "      <td>40</td>\n",
       "    </tr>\n",
       "    <tr>\n",
       "      <th>2</th>\n",
       "      <td>perfect used this drive as my boot drive and o...</td>\n",
       "      <td>5</td>\n",
       "      <td>65</td>\n",
       "    </tr>\n",
       "    <tr>\n",
       "      <th>3</th>\n",
       "      <td>very snappy os boots quicker os menus pop up q...</td>\n",
       "      <td>5</td>\n",
       "      <td>42</td>\n",
       "    </tr>\n",
       "    <tr>\n",
       "      <th>4</th>\n",
       "      <td>worth the hype this was the sdd that everyone ...</td>\n",
       "      <td>5</td>\n",
       "      <td>28</td>\n",
       "    </tr>\n",
       "  </tbody>\n",
       "</table>\n",
       "</div>"
      ],
      "text/plain": [
       "                                    combined_reviews  ratings  len\n",
       "0  solid buy it you will not regret this purchase...        5   17\n",
       "1  nice drive for price even cheaper by todays co...        5   40\n",
       "2  perfect used this drive as my boot drive and o...        5   65\n",
       "3  very snappy os boots quicker os menus pop up q...        5   42\n",
       "4  worth the hype this was the sdd that everyone ...        5   28"
      ]
     },
     "execution_count": 22,
     "metadata": {
      "tags": []
     },
     "output_type": "execute_result"
    }
   ],
   "source": [
    "data['len'] = data['combined_reviews'].apply(lambda x: len(x.split()))\n",
    "data.head()"
   ]
  },
  {
   "cell_type": "markdown",
   "metadata": {
    "id": "8FyfpsW4uNN-"
   },
   "source": [
    "#### Check summary stats of the length column"
   ]
  },
  {
   "cell_type": "code",
   "execution_count": null,
   "metadata": {
    "colab": {
     "base_uri": "https://localhost:8080/"
    },
    "executionInfo": {
     "elapsed": 2309,
     "status": "ok",
     "timestamp": 1621178465719,
     "user": {
      "displayName": "Omkar Parab",
      "photoUrl": "https://lh3.googleusercontent.com/-k_5aDc4lY0s/AAAAAAAAAAI/AAAAAAAAY7M/CwjzItosNr8/s64/photo.jpg",
      "userId": "03333431617055937457"
     },
     "user_tz": -330
    },
    "id": "cMEp309bHPSm",
    "outputId": "e75ffcea-afeb-437a-8848-8da7235ec4bf"
   },
   "outputs": [
    {
     "data": {
      "text/plain": [
       "count   2227.0000000\n",
       "mean      84.4598114\n",
       "std       87.6934472\n",
       "min        0.0000000\n",
       "25%       30.0000000\n",
       "50%       59.0000000\n",
       "75%      109.0000000\n",
       "max     1615.0000000\n",
       "Name: len, dtype: float64"
      ]
     },
     "execution_count": 23,
     "metadata": {
      "tags": []
     },
     "output_type": "execute_result"
    }
   ],
   "source": [
    "data['len'].describe()"
   ]
  },
  {
   "cell_type": "markdown",
   "metadata": {
    "id": "JtFWZfZjJSJY"
   },
   "source": [
    "### 4.5 Analyzing and preparing the text data\n"
   ]
  },
  {
   "cell_type": "markdown",
   "metadata": {
    "id": "FL0mW8oPJVyq"
   },
   "source": [
    "#### Set the max length of each review to 25 since it results in faster training (however, you are free to change this)\n",
    "#### Set max_features to 10000 and embedding size to 50"
   ]
  },
  {
   "cell_type": "code",
   "execution_count": null,
   "metadata": {
    "id": "T7Ma4u3kSOD3"
   },
   "outputs": [],
   "source": [
    "max_features = 10000\n",
    "maxlen = 25\n",
    "embedding_size = 50"
   ]
  },
  {
   "cell_type": "markdown",
   "metadata": {
    "id": "qph71mXtJyWM"
   },
   "source": [
    "#### Tokenize the cobined text data. You can use the Tokenizer from tensorflow.keras.preprocessing.text. Check the number of samples post tokenization."
   ]
  },
  {
   "cell_type": "code",
   "execution_count": null,
   "metadata": {
    "colab": {
     "base_uri": "https://localhost:8080/"
    },
    "executionInfo": {
     "elapsed": 2660,
     "status": "ok",
     "timestamp": 1621178467265,
     "user": {
      "displayName": "Omkar Parab",
      "photoUrl": "https://lh3.googleusercontent.com/-k_5aDc4lY0s/AAAAAAAAAAI/AAAAAAAAY7M/CwjzItosNr8/s64/photo.jpg",
      "userId": "03333431617055937457"
     },
     "user_tz": -330
    },
    "id": "hvn5Bssu6MoQ",
    "outputId": "cf0e4b97-37b3-4fa4-9456-2f02fcfd02b4"
   },
   "outputs": [
    {
     "name": "stdout",
     "output_type": "stream",
     "text": [
      "Num of samples: 2227\n",
      "[232, 93, 6, 19, 54, 22, 829, 10, 248, 162, 16, 830, 550, 145, 7, 264, 126]\n"
     ]
    }
   ],
   "source": [
    "from tensorflow.keras.preprocessing.text import Tokenizer\n",
    "token = Tokenizer(num_words = max_features)\n",
    "\n",
    "# fit on text data\n",
    "token.fit_on_texts(data['combined_reviews'])\n",
    "\n",
    "# convert to sequences \n",
    "X = token.texts_to_sequences(data['combined_reviews'])\n",
    "\n",
    "print(\"Num of samples:\" , len(X))\n",
    "print(X[0])"
   ]
  },
  {
   "cell_type": "code",
   "execution_count": null,
   "metadata": {
    "colab": {
     "base_uri": "https://localhost:8080/"
    },
    "executionInfo": {
     "elapsed": 2339,
     "status": "ok",
     "timestamp": 1621178467265,
     "user": {
      "displayName": "Omkar Parab",
      "photoUrl": "https://lh3.googleusercontent.com/-k_5aDc4lY0s/AAAAAAAAAAI/AAAAAAAAY7M/CwjzItosNr8/s64/photo.jpg",
      "userId": "03333431617055937457"
     },
     "user_tz": -330
    },
    "id": "lN_inteobahy",
    "outputId": "8e2cc9a3-57c9-4527-8df9-4671cde298e4"
   },
   "outputs": [
    {
     "data": {
      "text/plain": [
       "8838"
      ]
     },
     "execution_count": 26,
     "metadata": {
      "tags": []
     },
     "output_type": "execute_result"
    }
   ],
   "source": [
    "len(token.word_index)"
   ]
  },
  {
   "cell_type": "markdown",
   "metadata": {
    "id": "HXy2gZrkJ0f_"
   },
   "source": [
    "#### Pad the above tokenized reviews data save it as independent features. Use max_len for the same."
   ]
  },
  {
   "cell_type": "code",
   "execution_count": null,
   "metadata": {
    "colab": {
     "base_uri": "https://localhost:8080/"
    },
    "executionInfo": {
     "elapsed": 2152,
     "status": "ok",
     "timestamp": 1621178467948,
     "user": {
      "displayName": "Omkar Parab",
      "photoUrl": "https://lh3.googleusercontent.com/-k_5aDc4lY0s/AAAAAAAAAAI/AAAAAAAAY7M/CwjzItosNr8/s64/photo.jpg",
      "userId": "03333431617055937457"
     },
     "user_tz": -330
    },
    "id": "mV-KtcR06OAr",
    "outputId": "22ffc258-382f-49f4-b86b-968f7d2b03a3"
   },
   "outputs": [
    {
     "name": "stdout",
     "output_type": "stream",
     "text": [
      "(2227, 25)\n",
      "Number of labels:  2227\n"
     ]
    }
   ],
   "source": [
    "from tensorflow.keras.preprocessing.sequence import pad_sequences\n",
    "x = pad_sequences(X, maxlen = maxlen)\n",
    "y = np.asarray(data['ratings'])\n",
    "print(x.shape)\n",
    "print('Number of labels: ', len(y))"
   ]
  },
  {
   "cell_type": "code",
   "execution_count": null,
   "metadata": {
    "colab": {
     "base_uri": "https://localhost:8080/"
    },
    "executionInfo": {
     "elapsed": 1835,
     "status": "ok",
     "timestamp": 1621178467948,
     "user": {
      "displayName": "Omkar Parab",
      "photoUrl": "https://lh3.googleusercontent.com/-k_5aDc4lY0s/AAAAAAAAAAI/AAAAAAAAY7M/CwjzItosNr8/s64/photo.jpg",
      "userId": "03333431617055937457"
     },
     "user_tz": -330
    },
    "id": "Xmif-9KRfhy4",
    "outputId": "b0a39820-30a5-4c5a-a5d4-2775f2e5f748"
   },
   "outputs": [
    {
     "data": {
      "text/plain": [
       "array([[   0,    0,    0, ...,    7,  264,  126],\n",
       "       [1541,  209,   77, ...,   14,  612,  931],\n",
       "       [  21,   99,  472, ...,   31,   27,   87],\n",
       "       ...,\n",
       "       [   1,    8,   12, ...,   31,   27,   87],\n",
       "       [ 247,   34,   20, ...,   14,    1,  612],\n",
       "       [   5,  294,   13, ...,   10,  248,   31]], dtype=int32)"
      ]
     },
     "execution_count": 28,
     "metadata": {
      "tags": []
     },
     "output_type": "execute_result"
    }
   ],
   "source": [
    "x"
   ]
  },
  {
   "cell_type": "markdown",
   "metadata": {
    "id": "XVT7dRRUHsgR"
   },
   "source": [
    "#### Check the shape of X (padded tokenized review data) and y (rating_stars) data."
   ]
  },
  {
   "cell_type": "code",
   "execution_count": null,
   "metadata": {
    "colab": {
     "base_uri": "https://localhost:8080/"
    },
    "executionInfo": {
     "elapsed": 3337,
     "status": "ok",
     "timestamp": 1621178470840,
     "user": {
      "displayName": "Omkar Parab",
      "photoUrl": "https://lh3.googleusercontent.com/-k_5aDc4lY0s/AAAAAAAAAAI/AAAAAAAAY7M/CwjzItosNr8/s64/photo.jpg",
      "userId": "03333431617055937457"
     },
     "user_tz": -330
    },
    "id": "SXc3DOi9Hz6O",
    "outputId": "70077b4f-4ea9-49d4-8ac2-b5019afcf855"
   },
   "outputs": [
    {
     "name": "stdout",
     "output_type": "stream",
     "text": [
      "(2227, 25)\n",
      "(2227,)\n"
     ]
    }
   ],
   "source": [
    "print(x.shape)\n",
    "print(y.shape)"
   ]
  },
  {
   "cell_type": "markdown",
   "metadata": {
    "id": "A5GlWwKnJ7ie"
   },
   "source": [
    "#### Check the total number of words in the dictionary (of tekenizer)"
   ]
  },
  {
   "cell_type": "code",
   "execution_count": null,
   "metadata": {
    "colab": {
     "base_uri": "https://localhost:8080/"
    },
    "executionInfo": {
     "elapsed": 2506,
     "status": "ok",
     "timestamp": 1621178470840,
     "user": {
      "displayName": "Omkar Parab",
      "photoUrl": "https://lh3.googleusercontent.com/-k_5aDc4lY0s/AAAAAAAAAAI/AAAAAAAAY7M/CwjzItosNr8/s64/photo.jpg",
      "userId": "03333431617055937457"
     },
     "user_tz": -330
    },
    "id": "oR0W8MdX6V3A",
    "outputId": "bb8ab51d-acc5-4ca0-e25f-ed9511ef4e4f"
   },
   "outputs": [
    {
     "name": "stdout",
     "output_type": "stream",
     "text": [
      "8839\n"
     ]
    }
   ],
   "source": [
    "num_words = len(token.word_index) + 1\n",
    "print(num_words)"
   ]
  },
  {
   "cell_type": "markdown",
   "metadata": {
    "id": "RKa3eYLDJ_yO"
   },
   "source": [
    "### 4.6 Compute the glove embeddings. Use the provided txt file for the same."
   ]
  },
  {
   "cell_type": "markdown",
   "metadata": {
    "id": "WNwPD9EmIbMt"
   },
   "source": [
    "#### Read the glove embeddings from the file provided titled ‘glove.6B.50d.txt’. And save it to a dictotionary having word and corresponding embedding vector."
   ]
  },
  {
   "cell_type": "code",
   "execution_count": null,
   "metadata": {
    "id": "bNd9ZFjuIp3g"
   },
   "outputs": [],
   "source": [
    "embedding_file = 'glove.6B.50d.txt'\n",
    "embedding = {}\n",
    "\n",
    "for o in open(embedding_file):\n",
    "    word = o.split(\" \")[0]\n",
    "    embd = np.asarray(o.split(\" \")[1:] , dtype = 'float32')\n",
    "    embedding[word] = embd"
   ]
  },
  {
   "cell_type": "code",
   "execution_count": null,
   "metadata": {
    "colab": {
     "base_uri": "https://localhost:8080/"
    },
    "executionInfo": {
     "elapsed": 10945,
     "status": "ok",
     "timestamp": 1621178481697,
     "user": {
      "displayName": "Omkar Parab",
      "photoUrl": "https://lh3.googleusercontent.com/-k_5aDc4lY0s/AAAAAAAAAAI/AAAAAAAAY7M/CwjzItosNr8/s64/photo.jpg",
      "userId": "03333431617055937457"
     },
     "user_tz": -330
    },
    "id": "oIfx9ssXmCuV",
    "outputId": "547baa76-a706-45be-bad2-78a6070f8d93"
   },
   "outputs": [
    {
     "data": {
      "text/plain": [
       "400000"
      ]
     },
     "execution_count": 32,
     "metadata": {
      "tags": []
     },
     "output_type": "execute_result"
    }
   ],
   "source": [
    "len(embedding)"
   ]
  },
  {
   "cell_type": "markdown",
   "metadata": {
    "id": "EuolWkfmIqCJ"
   },
   "source": [
    "#### Create a weight matrix for words in the training docs"
   ]
  },
  {
   "cell_type": "code",
   "execution_count": null,
   "metadata": {
    "id": "BGHZ0nIaI0Ar"
   },
   "outputs": [],
   "source": [
    "embedding_matrix = np.zeros((num_words,50))\n",
    "\n",
    "for word,i in token.word_index.items():\n",
    "  if word in embedding.keys():\n",
    "    embedding_matrix[i] = embedding[word]"
   ]
  },
  {
   "cell_type": "markdown",
   "metadata": {
    "id": "-DdpiQZ9_Fiq"
   },
   "source": [
    "#### Check length of the embedding"
   ]
  },
  {
   "cell_type": "code",
   "execution_count": null,
   "metadata": {
    "colab": {
     "base_uri": "https://localhost:8080/"
    },
    "executionInfo": {
     "elapsed": 9274,
     "status": "ok",
     "timestamp": 1621178481698,
     "user": {
      "displayName": "Omkar Parab",
      "photoUrl": "https://lh3.googleusercontent.com/-k_5aDc4lY0s/AAAAAAAAAAI/AAAAAAAAY7M/CwjzItosNr8/s64/photo.jpg",
      "userId": "03333431617055937457"
     },
     "user_tz": -330
    },
    "id": "8bcs-LtYILlO",
    "outputId": "03fab2fd-0ce4-4fe3-ff58-9c3616773350"
   },
   "outputs": [
    {
     "data": {
      "text/plain": [
       "8839"
      ]
     },
     "execution_count": 34,
     "metadata": {
      "tags": []
     },
     "output_type": "execute_result"
    }
   ],
   "source": [
    "len(embedding_matrix)"
   ]
  },
  {
   "cell_type": "code",
   "execution_count": null,
   "metadata": {
    "colab": {
     "base_uri": "https://localhost:8080/"
    },
    "executionInfo": {
     "elapsed": 8853,
     "status": "ok",
     "timestamp": 1621178481698,
     "user": {
      "displayName": "Omkar Parab",
      "photoUrl": "https://lh3.googleusercontent.com/-k_5aDc4lY0s/AAAAAAAAAAI/AAAAAAAAY7M/CwjzItosNr8/s64/photo.jpg",
      "userId": "03333431617055937457"
     },
     "user_tz": -330
    },
    "id": "kiI3Q9dAqZGE",
    "outputId": "abe1fd90-4c6b-40b9-d5c1-821db198533e"
   },
   "outputs": [
    {
     "data": {
      "text/plain": [
       "array([[ 0.        ,  0.        ,  0.        , ...,  0.        ,\n",
       "         0.        ,  0.        ],\n",
       "       [ 0.41800001,  0.24968   , -0.41242   , ..., -0.18411   ,\n",
       "        -0.11514   , -0.78580999],\n",
       "       [ 0.11891   ,  0.15255   , -0.082073  , ..., -0.57511997,\n",
       "        -0.26671001,  0.92120999],\n",
       "       ...,\n",
       "       [-0.38949001,  0.070842  ,  0.060221  , ..., -0.12498   ,\n",
       "         0.21944   ,  0.18415   ],\n",
       "       [-0.33673999,  0.44661999,  1.08659995, ..., -0.56177002,\n",
       "        -0.28937   , -0.0086977 ],\n",
       "       [ 0.        ,  0.        ,  0.        , ...,  0.        ,\n",
       "         0.        ,  0.        ]])"
      ]
     },
     "execution_count": 35,
     "metadata": {
      "tags": []
     },
     "output_type": "execute_result"
    }
   ],
   "source": [
    "embedding_matrix"
   ]
  },
  {
   "cell_type": "markdown",
   "metadata": {
    "id": "xVPf3X5MKGpm"
   },
   "source": [
    "### 4.7 Target Feature:- One hot encode the target variable (rating_stars)"
   ]
  },
  {
   "cell_type": "code",
   "execution_count": null,
   "metadata": {
    "colab": {
     "base_uri": "https://localhost:8080/"
    },
    "executionInfo": {
     "elapsed": 7855,
     "status": "ok",
     "timestamp": 1621178481699,
     "user": {
      "displayName": "Omkar Parab",
      "photoUrl": "https://lh3.googleusercontent.com/-k_5aDc4lY0s/AAAAAAAAAAI/AAAAAAAAY7M/CwjzItosNr8/s64/photo.jpg",
      "userId": "03333431617055937457"
     },
     "user_tz": -330
    },
    "id": "7PVDBmkjJC4n",
    "outputId": "a86d2aeb-51c3-4667-e9a1-127cab737236"
   },
   "outputs": [
    {
     "data": {
      "text/plain": [
       "array([[0., 0., 0., 0., 0., 1.],\n",
       "       [0., 0., 0., 0., 0., 1.],\n",
       "       [0., 0., 0., 0., 0., 1.],\n",
       "       ...,\n",
       "       [0., 0., 0., 0., 0., 1.],\n",
       "       [0., 0., 0., 0., 0., 1.],\n",
       "       [0., 0., 0., 0., 0., 1.]], dtype=float32)"
      ]
     },
     "execution_count": 36,
     "metadata": {
      "tags": []
     },
     "output_type": "execute_result"
    }
   ],
   "source": [
    "from tensorflow.keras.utils import to_categorical\n",
    "y_en = to_categorical(y)\n",
    "y_en"
   ]
  },
  {
   "cell_type": "markdown",
   "metadata": {
    "id": "5dqPXETLKN0h"
   },
   "source": [
    "### 4.8 Split the data into Train & Test sets"
   ]
  },
  {
   "cell_type": "code",
   "execution_count": null,
   "metadata": {
    "id": "FFJ1oEUmJEEW"
   },
   "outputs": [],
   "source": [
    "from sklearn.model_selection import train_test_split\n",
    "\n",
    "X_train, X_test, y_train, y_test = train_test_split(x, y_en, test_size = 0.3)"
   ]
  },
  {
   "cell_type": "code",
   "execution_count": null,
   "metadata": {
    "colab": {
     "base_uri": "https://localhost:8080/"
    },
    "executionInfo": {
     "elapsed": 6874,
     "status": "ok",
     "timestamp": 1621178481699,
     "user": {
      "displayName": "Omkar Parab",
      "photoUrl": "https://lh3.googleusercontent.com/-k_5aDc4lY0s/AAAAAAAAAAI/AAAAAAAAY7M/CwjzItosNr8/s64/photo.jpg",
      "userId": "03333431617055937457"
     },
     "user_tz": -330
    },
    "id": "FFJz6tSusCWU",
    "outputId": "e13c57e3-6fea-4efa-ed0b-90ffa87d5c86"
   },
   "outputs": [
    {
     "name": "stdout",
     "output_type": "stream",
     "text": [
      "(1558, 25) (1558, 6)\n",
      "(669, 25) (669, 6)\n"
     ]
    }
   ],
   "source": [
    "print(X_train.shape, y_train.shape)\n",
    "print(X_test.shape, y_test.shape)"
   ]
  },
  {
   "cell_type": "markdown",
   "metadata": {
    "id": "rhD1a-beKvE7"
   },
   "source": [
    "## 5. Model building"
   ]
  },
  {
   "cell_type": "markdown",
   "metadata": {
    "id": "bRmxklYnKvxk"
   },
   "source": [
    "### 5.1 Construct a neural network architecture using embedding and LSTM layers for building the rating prediction model.\n",
    "- Use the num_words, embedding_size from the above tokenizer and embeddings respectively\n",
    "- Use weights from the above embedding matrix\n",
    "- Use input length as the maxlen\n",
    "- Add LSTM layers"
   ]
  },
  {
   "cell_type": "code",
   "execution_count": null,
   "metadata": {
    "id": "gSGsebsiNA78"
   },
   "outputs": [],
   "source": [
    "from tensorflow.keras.models import Sequential\n",
    "from tensorflow.keras.layers import Embedding, LSTM, Dense, Dropout, Flatten\n",
    "\n",
    "# embedding layer with input_dim, embedding_size, weights, input_length \n",
    "model = Sequential()\n",
    "model.add(Embedding(num_words, embedding_size, weights = [embedding_matrix], input_length = maxlen) )\n",
    "\n",
    "# LSTM layer\n",
    "model.add(LSTM(64, return_sequences = True))\n",
    "\n",
    "# extract features\n",
    "model.add(Flatten())\n",
    "\n",
    "# dense layers\n",
    "model.add(Dense(128, activation = 'relu'))\n",
    "model.add(Dropout(0.2))\n",
    "model.add(Dense(64, activation ='relu'))\n",
    "model.add(Dropout(0.2))\n",
    "model.add(Dense(6, activation = 'softmax'))"
   ]
  },
  {
   "cell_type": "code",
   "execution_count": null,
   "metadata": {
    "colab": {
     "base_uri": "https://localhost:8080/"
    },
    "executionInfo": {
     "elapsed": 9783,
     "status": "ok",
     "timestamp": 1621178487937,
     "user": {
      "displayName": "Omkar Parab",
      "photoUrl": "https://lh3.googleusercontent.com/-k_5aDc4lY0s/AAAAAAAAAAI/AAAAAAAAY7M/CwjzItosNr8/s64/photo.jpg",
      "userId": "03333431617055937457"
     },
     "user_tz": -330
    },
    "id": "mPn3X_fXvxA2",
    "outputId": "be4fc57e-6b73-4e30-9774-d3b9b8a506e7"
   },
   "outputs": [
    {
     "name": "stdout",
     "output_type": "stream",
     "text": [
      "Model: \"sequential\"\n",
      "_________________________________________________________________\n",
      "Layer (type)                 Output Shape              Param #   \n",
      "=================================================================\n",
      "embedding (Embedding)        (None, 25, 50)            441950    \n",
      "_________________________________________________________________\n",
      "lstm (LSTM)                  (None, 25, 64)            29440     \n",
      "_________________________________________________________________\n",
      "flatten (Flatten)            (None, 1600)              0         \n",
      "_________________________________________________________________\n",
      "dense (Dense)                (None, 128)               204928    \n",
      "_________________________________________________________________\n",
      "dropout (Dropout)            (None, 128)               0         \n",
      "_________________________________________________________________\n",
      "dense_1 (Dense)              (None, 64)                8256      \n",
      "_________________________________________________________________\n",
      "dropout_1 (Dropout)          (None, 64)                0         \n",
      "_________________________________________________________________\n",
      "dense_2 (Dense)              (None, 6)                 390       \n",
      "=================================================================\n",
      "Total params: 684,964\n",
      "Trainable params: 684,964\n",
      "Non-trainable params: 0\n",
      "_________________________________________________________________\n"
     ]
    }
   ],
   "source": [
    "model.summary()"
   ]
  },
  {
   "cell_type": "markdown",
   "metadata": {
    "id": "iN0P-a6X_jAb"
   },
   "source": [
    "### 5.2 Compile the model using appropriate loss, optimizer, and accuracy metric"
   ]
  },
  {
   "cell_type": "code",
   "execution_count": null,
   "metadata": {
    "id": "8Kyk9kPxNCMb"
   },
   "outputs": [],
   "source": [
    "model.compile(loss = 'categorical_crossentropy', optimizer='adam', metrics = ['accuracy'])"
   ]
  },
  {
   "cell_type": "markdown",
   "metadata": {
    "id": "tIODqXJK_qrQ"
   },
   "source": [
    "### 5.3 Fit the model"
   ]
  },
  {
   "cell_type": "code",
   "execution_count": null,
   "metadata": {
    "colab": {
     "base_uri": "https://localhost:8080/"
    },
    "executionInfo": {
     "elapsed": 38650,
     "status": "ok",
     "timestamp": 1621178529333,
     "user": {
      "displayName": "Omkar Parab",
      "photoUrl": "https://lh3.googleusercontent.com/-k_5aDc4lY0s/AAAAAAAAAAI/AAAAAAAAY7M/CwjzItosNr8/s64/photo.jpg",
      "userId": "03333431617055937457"
     },
     "user_tz": -330
    },
    "id": "fEX-_bd2NDPW",
    "outputId": "c43c666e-b3cf-4d76-956c-527aaf2fbfac"
   },
   "outputs": [
    {
     "name": "stdout",
     "output_type": "stream",
     "text": [
      "Epoch 1/20\n",
      "16/16 [==============================] - 32s 78ms/step - loss: 1.2123 - accuracy: 0.6771 - val_loss: 0.8409 - val_accuracy: 0.7788\n",
      "Epoch 2/20\n",
      "16/16 [==============================] - 0s 19ms/step - loss: 0.8277 - accuracy: 0.8048 - val_loss: 0.8011 - val_accuracy: 0.7788\n",
      "Epoch 3/20\n",
      "16/16 [==============================] - 0s 19ms/step - loss: 0.7112 - accuracy: 0.7995 - val_loss: 0.7525 - val_accuracy: 0.7788\n",
      "Epoch 4/20\n",
      "16/16 [==============================] - 0s 19ms/step - loss: 0.6876 - accuracy: 0.7925 - val_loss: 0.7478 - val_accuracy: 0.7788\n",
      "Epoch 5/20\n",
      "16/16 [==============================] - 0s 19ms/step - loss: 0.5917 - accuracy: 0.8114 - val_loss: 0.7294 - val_accuracy: 0.7758\n",
      "Epoch 6/20\n",
      "16/16 [==============================] - 0s 19ms/step - loss: 0.5703 - accuracy: 0.8096 - val_loss: 0.7351 - val_accuracy: 0.7743\n",
      "Epoch 7/20\n",
      "16/16 [==============================] - 0s 19ms/step - loss: 0.5306 - accuracy: 0.7996 - val_loss: 0.7468 - val_accuracy: 0.7788\n",
      "Epoch 8/20\n",
      "16/16 [==============================] - 0s 19ms/step - loss: 0.5294 - accuracy: 0.8118 - val_loss: 0.8079 - val_accuracy: 0.7773\n",
      "Epoch 9/20\n",
      "16/16 [==============================] - 0s 19ms/step - loss: 0.4022 - accuracy: 0.8560 - val_loss: 0.8606 - val_accuracy: 0.7803\n",
      "Epoch 10/20\n",
      "16/16 [==============================] - 0s 19ms/step - loss: 0.3115 - accuracy: 0.8876 - val_loss: 0.8600 - val_accuracy: 0.7653\n",
      "Epoch 11/20\n",
      "16/16 [==============================] - 0s 19ms/step - loss: 0.2790 - accuracy: 0.9114 - val_loss: 0.9824 - val_accuracy: 0.7623\n",
      "Epoch 12/20\n",
      "16/16 [==============================] - 0s 20ms/step - loss: 0.2224 - accuracy: 0.9325 - val_loss: 1.1349 - val_accuracy: 0.7623\n",
      "Epoch 13/20\n",
      "16/16 [==============================] - 0s 19ms/step - loss: 0.1627 - accuracy: 0.9417 - val_loss: 1.2870 - val_accuracy: 0.7608\n",
      "Epoch 14/20\n",
      "16/16 [==============================] - 0s 19ms/step - loss: 0.1113 - accuracy: 0.9672 - val_loss: 1.4145 - val_accuracy: 0.7638\n",
      "Epoch 15/20\n",
      "16/16 [==============================] - 0s 18ms/step - loss: 0.0712 - accuracy: 0.9857 - val_loss: 1.5731 - val_accuracy: 0.7773\n",
      "Epoch 16/20\n",
      "16/16 [==============================] - 0s 19ms/step - loss: 0.0494 - accuracy: 0.9845 - val_loss: 1.7025 - val_accuracy: 0.7564\n",
      "Epoch 17/20\n",
      "16/16 [==============================] - 0s 19ms/step - loss: 0.0281 - accuracy: 0.9977 - val_loss: 2.0092 - val_accuracy: 0.7653\n",
      "Epoch 18/20\n",
      "16/16 [==============================] - 0s 19ms/step - loss: 0.0274 - accuracy: 0.9962 - val_loss: 1.9070 - val_accuracy: 0.7623\n",
      "Epoch 19/20\n",
      "16/16 [==============================] - 0s 20ms/step - loss: 0.0239 - accuracy: 0.9955 - val_loss: 1.9028 - val_accuracy: 0.7085\n",
      "Epoch 20/20\n",
      "16/16 [==============================] - 0s 20ms/step - loss: 0.0299 - accuracy: 0.9922 - val_loss: 2.0947 - val_accuracy: 0.7623\n"
     ]
    }
   ],
   "source": [
    "history = model.fit(X_train, y_train, validation_data= (X_test, y_test), epochs = 20, batch_size = 100)"
   ]
  },
  {
   "cell_type": "markdown",
   "metadata": {
    "id": "1iakHzMFNDsz"
   },
   "source": [
    "### 5.4 Predict ratings for test data and check accuracy and confusion matrix"
   ]
  },
  {
   "cell_type": "code",
   "execution_count": null,
   "metadata": {
    "colab": {
     "base_uri": "https://localhost:8080/"
    },
    "executionInfo": {
     "elapsed": 1185,
     "status": "ok",
     "timestamp": 1621178568784,
     "user": {
      "displayName": "Omkar Parab",
      "photoUrl": "https://lh3.googleusercontent.com/-k_5aDc4lY0s/AAAAAAAAAAI/AAAAAAAAY7M/CwjzItosNr8/s64/photo.jpg",
      "userId": "03333431617055937457"
     },
     "user_tz": -330
    },
    "id": "erNFghTpNK-j",
    "outputId": "45bd7b39-4781-48d2-f1f5-4a9e64428fcc"
   },
   "outputs": [
    {
     "data": {
      "text/plain": [
       "array([[1.5578681e-06, 1.6490319e-05, 2.4727399e-03, 1.4112856e-03,\n",
       "        2.0537755e-04, 9.9589252e-01],\n",
       "       [4.5718676e-12, 3.1359195e-09, 1.7706544e-09, 1.2677586e-07,\n",
       "        9.1540322e-09, 9.9999988e-01],\n",
       "       [6.0116196e-09, 3.2787343e-06, 1.8542868e-07, 2.0462023e-06,\n",
       "        6.7673216e-07, 9.9999380e-01],\n",
       "       ...,\n",
       "       [5.9796355e-11, 8.7292440e-10, 1.3368214e-07, 3.4006729e-07,\n",
       "        6.7703053e-07, 9.9999881e-01],\n",
       "       [2.2400824e-19, 5.1202978e-16, 1.5286867e-13, 2.8089527e-12,\n",
       "        1.6520723e-13, 1.0000000e+00],\n",
       "       [1.1515042e-12, 2.5296834e-09, 2.1492320e-10, 8.7167811e-09,\n",
       "        4.4701438e-09, 1.0000000e+00]], dtype=float32)"
      ]
     },
     "execution_count": 43,
     "metadata": {
      "tags": []
     },
     "output_type": "execute_result"
    }
   ],
   "source": [
    "prediction = model.predict(X_test)\n",
    "prediction"
   ]
  },
  {
   "cell_type": "code",
   "execution_count": null,
   "metadata": {
    "colab": {
     "base_uri": "https://localhost:8080/"
    },
    "executionInfo": {
     "elapsed": 895,
     "status": "ok",
     "timestamp": 1621178568784,
     "user": {
      "displayName": "Omkar Parab",
      "photoUrl": "https://lh3.googleusercontent.com/-k_5aDc4lY0s/AAAAAAAAAAI/AAAAAAAAY7M/CwjzItosNr8/s64/photo.jpg",
      "userId": "03333431617055937457"
     },
     "user_tz": -330
    },
    "id": "glNaXRZqNLBN",
    "outputId": "4eed9172-ef5c-4c06-f7db-469daa8ea912"
   },
   "outputs": [
    {
     "data": {
      "text/plain": [
       "array([[0., 0., 0., 0., 0., 1.],\n",
       "       [0., 0., 1., 0., 0., 0.],\n",
       "       [0., 0., 0., 0., 0., 1.],\n",
       "       ...,\n",
       "       [0., 0., 0., 0., 0., 1.],\n",
       "       [0., 0., 0., 0., 0., 1.],\n",
       "       [0., 0., 0., 1., 0., 0.]], dtype=float32)"
      ]
     },
     "execution_count": 44,
     "metadata": {
      "tags": []
     },
     "output_type": "execute_result"
    }
   ],
   "source": [
    "y_test"
   ]
  },
  {
   "cell_type": "code",
   "execution_count": null,
   "metadata": {
    "id": "gk0r9S9Fyr1D"
   },
   "outputs": [],
   "source": [
    "test_prediction = np.argmax(prediction, axis = 1)\n",
    "Y_test = np.argmax(y_test, axis = 1)"
   ]
  },
  {
   "cell_type": "code",
   "execution_count": null,
   "metadata": {
    "colab": {
     "base_uri": "https://localhost:8080/"
    },
    "executionInfo": {
     "elapsed": 1293,
     "status": "ok",
     "timestamp": 1621178571031,
     "user": {
      "displayName": "Omkar Parab",
      "photoUrl": "https://lh3.googleusercontent.com/-k_5aDc4lY0s/AAAAAAAAAAI/AAAAAAAAY7M/CwjzItosNr8/s64/photo.jpg",
      "userId": "03333431617055937457"
     },
     "user_tz": -330
    },
    "id": "L3U-3eIizAfS",
    "outputId": "b2fc5b07-1e84-4f43-a183-513e7c302a35"
   },
   "outputs": [
    {
     "name": "stdout",
     "output_type": "stream",
     "text": [
      "[[ 14   5   2   9  18]\n",
      " [  2   3   0   2   8]\n",
      " [  3   3   3   3  15]\n",
      " [  2   2   2   5  47]\n",
      " [  8   4   4  20 485]]\n",
      "              precision    recall  f1-score   support\n",
      "\n",
      "           1       0.48      0.29      0.36        48\n",
      "           2       0.18      0.20      0.19        15\n",
      "           3       0.27      0.11      0.16        27\n",
      "           4       0.13      0.09      0.10        58\n",
      "           5       0.85      0.93      0.89       521\n",
      "\n",
      "    accuracy                           0.76       669\n",
      "   macro avg       0.38      0.32      0.34       669\n",
      "weighted avg       0.72      0.76      0.74       669\n",
      "\n"
     ]
    }
   ],
   "source": [
    "from sklearn.metrics import confusion_matrix, classification_report\n",
    "\n",
    "print(confusion_matrix(Y_test, test_prediction))\n",
    "print(classification_report(Y_test, test_prediction))"
   ]
  },
  {
   "cell_type": "markdown",
   "metadata": {
    "id": "lHyQA-RsNOXT"
   },
   "source": [
    "### 5.5 Display plot of training and validation loss/accuracy wrt to epochs"
   ]
  },
  {
   "cell_type": "code",
   "execution_count": null,
   "metadata": {
    "colab": {
     "base_uri": "https://localhost:8080/",
     "height": 295
    },
    "executionInfo": {
     "elapsed": 2290,
     "status": "ok",
     "timestamp": 1621178576375,
     "user": {
      "displayName": "Omkar Parab",
      "photoUrl": "https://lh3.googleusercontent.com/-k_5aDc4lY0s/AAAAAAAAAAI/AAAAAAAAY7M/CwjzItosNr8/s64/photo.jpg",
      "userId": "03333431617055937457"
     },
     "user_tz": -330
    },
    "id": "gC7Lb0eSNawO",
    "outputId": "ec4e2179-67c8-4fc8-8b79-d64c85946670"
   },
   "outputs": [
    {
     "data": {
      "image/png": "[encoded data removed]",
      "text/plain": [
       "<Figure size 432x288 with 1 Axes>"
      ]
     },
     "metadata": {
      "needs_background": "light",
      "tags": []
     },
     "output_type": "display_data"
    }
   ],
   "source": [
    "%matplotlib inline\n",
    "import matplotlib.pyplot as plt\n",
    "\n",
    "plt.plot(history.history['accuracy'])\n",
    "plt.plot(history.history['val_accuracy'])\n",
    "plt.title('Training and Validation accuracy')\n",
    "plt.xlabel('Epoch')\n",
    "plt.ylabel('Accuracy')\n",
    "plt.legend(['Training', 'Validation'], loc='best')\n",
    "plt.grid(True)"
   ]
  },
  {
   "cell_type": "code",
   "execution_count": null,
   "metadata": {
    "colab": {
     "base_uri": "https://localhost:8080/",
     "height": 295
    },
    "executionInfo": {
     "elapsed": 1022,
     "status": "ok",
     "timestamp": 1621178579064,
     "user": {
      "displayName": "Omkar Parab",
      "photoUrl": "https://lh3.googleusercontent.com/-k_5aDc4lY0s/AAAAAAAAAAI/AAAAAAAAY7M/CwjzItosNr8/s64/photo.jpg",
      "userId": "03333431617055937457"
     },
     "user_tz": -330
    },
    "id": "BLBx5E3d0Cpz",
    "outputId": "e66196f0-2829-4367-c057-7f3aadc91e78"
   },
   "outputs": [
    {
     "data": {
      "image/png": "[encoded data removed]",
      "text/plain": [
       "<Figure size 432x288 with 1 Axes>"
      ]
     },
     "metadata": {
      "needs_background": "light",
      "tags": []
     },
     "output_type": "display_data"
    }
   ],
   "source": [
    "plt.plot(history.history['loss'])\n",
    "plt.plot(history.history['val_loss'])\n",
    "plt.title('Training and Validation loss')\n",
    "plt.xlabel('Epoch')\n",
    "plt.ylabel('Accuracy')\n",
    "plt.legend(['Training', 'Validation'], loc='best')\n",
    "plt.grid(True)"
   ]
  },
  {
   "cell_type": "markdown",
   "metadata": {
    "id": "Ey7an7ukLxWB"
   },
   "source": [
    "## 6. Conclusion and Interpretation"
   ]
  },
  {
   "cell_type": "markdown",
   "metadata": {
    "id": "iIECGd9T0ROT"
   },
   "source": [
    "* Heavy class imbalance in the data.\n",
    "* Test accuracy is coming around 78% and Training accuracy is 99% so the model is overfitted.\n",
    "* Adding more Dropout and Dense layers might help.\n",
    "* Class 5 (5 star rating) is having majority of prediction so clubbing the ratings might help in achieving overall accuracy (Class 1+2, 3+4, 5)."
   ]
  },
  {
   "cell_type": "markdown",
   "metadata": {
    "id": "9nwOCcvqxVCH"
   },
   "source": [
    "## 7. Food for thought:\n",
    "\n",
    "1.) Change activation function (try leaky_relu or tanh) and see if it helps in improving model performance with the dataset that is highly imbalanced\n",
    "\n",
    "2.) Try with only the overall review feature and see if it leads to improvement in model performace\n",
    "\n",
    "3.) Change the hyperparameters of the model and compare the results "
   ]
  },
  {
   "cell_type": "code",
   "execution_count": null,
   "metadata": {
    "id": "VCylm4X8Nfik"
   },
   "outputs": [],
   "source": [
    "# trying leaky_relu as activation\n",
    "\n",
    "from tensorflow.keras.models import Sequential\n",
    "from tensorflow.keras.layers import Embedding, LSTM, Dense, Dropout, Flatten\n",
    "from keras.layers import LeakyReLU\n",
    "\n",
    "# embedding layer with input_dim, embedding_size, weights, input_length \n",
    "model = Sequential()\n",
    "model.add(Embedding(num_words, embedding_size, weights = [embedding_matrix], input_length = maxlen) )\n",
    "\n",
    "# LSTM layer\n",
    "model.add(LSTM(64, return_sequences = True))\n",
    "\n",
    "# extract features\n",
    "model.add(Flatten())\n",
    "\n",
    "# dense layers\n",
    "model.add(Dense(128))\n",
    "model.add(LeakyReLU(alpha=0.1))\n",
    "model.add(Dropout(0.2))\n",
    "model.add(Dense(64))\n",
    "model.add(LeakyReLU(alpha=0.1))\n",
    "model.add(Dropout(0.2))\n",
    "model.add(Dense(6, activation = 'softmax'))"
   ]
  },
  {
   "cell_type": "code",
   "execution_count": null,
   "metadata": {
    "colab": {
     "base_uri": "https://localhost:8080/"
    },
    "executionInfo": {
     "elapsed": 1219,
     "status": "ok",
     "timestamp": 1621178721127,
     "user": {
      "displayName": "Omkar Parab",
      "photoUrl": "https://lh3.googleusercontent.com/-k_5aDc4lY0s/AAAAAAAAAAI/AAAAAAAAY7M/CwjzItosNr8/s64/photo.jpg",
      "userId": "03333431617055937457"
     },
     "user_tz": -330
    },
    "id": "9FMVey5nCeIT",
    "outputId": "932870dd-7f81-488c-9056-452a6696c2d7"
   },
   "outputs": [
    {
     "name": "stdout",
     "output_type": "stream",
     "text": [
      "Model: \"sequential_2\"\n",
      "_________________________________________________________________\n",
      "Layer (type)                 Output Shape              Param #   \n",
      "=================================================================\n",
      "embedding_2 (Embedding)      (None, 25, 50)            441950    \n",
      "_________________________________________________________________\n",
      "lstm_2 (LSTM)                (None, 25, 64)            29440     \n",
      "_________________________________________________________________\n",
      "flatten_2 (Flatten)          (None, 1600)              0         \n",
      "_________________________________________________________________\n",
      "dense_4 (Dense)              (None, 128)               204928    \n",
      "_________________________________________________________________\n",
      "leaky_re_lu (LeakyReLU)      (None, 128)               0         \n",
      "_________________________________________________________________\n",
      "dropout_2 (Dropout)          (None, 128)               0         \n",
      "_________________________________________________________________\n",
      "dense_5 (Dense)              (None, 64)                8256      \n",
      "_________________________________________________________________\n",
      "leaky_re_lu_1 (LeakyReLU)    (None, 64)                0         \n",
      "_________________________________________________________________\n",
      "dropout_3 (Dropout)          (None, 64)                0         \n",
      "_________________________________________________________________\n",
      "dense_6 (Dense)              (None, 6)                 390       \n",
      "=================================================================\n",
      "Total params: 684,964\n",
      "Trainable params: 684,964\n",
      "Non-trainable params: 0\n",
      "_________________________________________________________________\n"
     ]
    }
   ],
   "source": [
    "model.summary()"
   ]
  },
  {
   "cell_type": "code",
   "execution_count": null,
   "metadata": {
    "id": "ynDZbDbvChky"
   },
   "outputs": [],
   "source": [
    "model.compile(loss = 'categorical_crossentropy', optimizer='adam', metrics = ['accuracy'])"
   ]
  },
  {
   "cell_type": "code",
   "execution_count": null,
   "metadata": {
    "colab": {
     "base_uri": "https://localhost:8080/"
    },
    "executionInfo": {
     "elapsed": 9701,
     "status": "ok",
     "timestamp": 1621178736581,
     "user": {
      "displayName": "Omkar Parab",
      "photoUrl": "https://lh3.googleusercontent.com/-k_5aDc4lY0s/AAAAAAAAAAI/AAAAAAAAY7M/CwjzItosNr8/s64/photo.jpg",
      "userId": "03333431617055937457"
     },
     "user_tz": -330
    },
    "id": "iBdZX48HCkai",
    "outputId": "6e90e532-6e69-4d08-e3c0-0cafbf7a090a"
   },
   "outputs": [
    {
     "name": "stdout",
     "output_type": "stream",
     "text": [
      "Epoch 1/20\n",
      "16/16 [==============================] - 3s 62ms/step - loss: 1.1420 - accuracy: 0.6637 - val_loss: 0.8293 - val_accuracy: 0.7788\n",
      "Epoch 2/20\n",
      "16/16 [==============================] - 0s 19ms/step - loss: 0.8018 - accuracy: 0.7939 - val_loss: 0.7681 - val_accuracy: 0.7788\n",
      "Epoch 3/20\n",
      "16/16 [==============================] - 0s 19ms/step - loss: 0.7538 - accuracy: 0.7860 - val_loss: 0.7509 - val_accuracy: 0.7788\n",
      "Epoch 4/20\n",
      "16/16 [==============================] - 0s 19ms/step - loss: 0.7156 - accuracy: 0.7803 - val_loss: 0.7335 - val_accuracy: 0.7788\n",
      "Epoch 5/20\n",
      "16/16 [==============================] - 0s 18ms/step - loss: 0.6297 - accuracy: 0.8002 - val_loss: 0.7327 - val_accuracy: 0.7743\n",
      "Epoch 6/20\n",
      "16/16 [==============================] - 0s 19ms/step - loss: 0.5765 - accuracy: 0.8019 - val_loss: 0.7349 - val_accuracy: 0.7713\n",
      "Epoch 7/20\n",
      "16/16 [==============================] - 0s 17ms/step - loss: 0.5227 - accuracy: 0.8203 - val_loss: 0.7514 - val_accuracy: 0.7773\n",
      "Epoch 8/20\n",
      "16/16 [==============================] - 0s 20ms/step - loss: 0.4526 - accuracy: 0.8376 - val_loss: 0.7634 - val_accuracy: 0.7698\n",
      "Epoch 9/20\n",
      "16/16 [==============================] - 0s 18ms/step - loss: 0.4116 - accuracy: 0.8725 - val_loss: 0.8156 - val_accuracy: 0.7549\n",
      "Epoch 10/20\n",
      "16/16 [==============================] - 0s 18ms/step - loss: 0.3237 - accuracy: 0.8930 - val_loss: 0.9196 - val_accuracy: 0.7683\n",
      "Epoch 11/20\n",
      "16/16 [==============================] - 0s 19ms/step - loss: 0.2717 - accuracy: 0.9099 - val_loss: 1.1027 - val_accuracy: 0.7758\n",
      "Epoch 12/20\n",
      "16/16 [==============================] - 0s 19ms/step - loss: 0.1983 - accuracy: 0.9309 - val_loss: 1.1165 - val_accuracy: 0.7504\n",
      "Epoch 13/20\n",
      "16/16 [==============================] - 0s 19ms/step - loss: 0.1573 - accuracy: 0.9562 - val_loss: 1.2163 - val_accuracy: 0.7653\n",
      "Epoch 14/20\n",
      "16/16 [==============================] - 0s 18ms/step - loss: 0.0841 - accuracy: 0.9760 - val_loss: 1.4484 - val_accuracy: 0.7683\n",
      "Epoch 15/20\n",
      "16/16 [==============================] - 0s 18ms/step - loss: 0.0640 - accuracy: 0.9789 - val_loss: 1.5488 - val_accuracy: 0.7504\n",
      "Epoch 16/20\n",
      "16/16 [==============================] - 0s 19ms/step - loss: 0.0441 - accuracy: 0.9915 - val_loss: 1.7197 - val_accuracy: 0.7459\n",
      "Epoch 17/20\n",
      "16/16 [==============================] - 0s 18ms/step - loss: 0.0326 - accuracy: 0.9922 - val_loss: 1.7453 - val_accuracy: 0.7414\n",
      "Epoch 18/20\n",
      "16/16 [==============================] - 0s 19ms/step - loss: 0.0277 - accuracy: 0.9938 - val_loss: 1.9219 - val_accuracy: 0.7683\n",
      "Epoch 19/20\n",
      "16/16 [==============================] - 0s 19ms/step - loss: 0.0222 - accuracy: 0.9920 - val_loss: 2.0890 - val_accuracy: 0.7593\n",
      "Epoch 20/20\n",
      "16/16 [==============================] - 0s 19ms/step - loss: 0.0129 - accuracy: 0.9978 - val_loss: 2.0716 - val_accuracy: 0.7564\n"
     ]
    },
    {
     "data": {
      "text/plain": [
       "<tensorflow.python.keras.callbacks.History at 0x7fd5d6cf0450>"
      ]
     },
     "execution_count": 53,
     "metadata": {
      "tags": []
     },
     "output_type": "execute_result"
    }
   ],
   "source": [
    "model.fit(X_train, y_train, validation_data= (X_test, y_test), epochs = 20, batch_size = 100)"
   ]
  },
  {
   "cell_type": "markdown",
   "metadata": {
    "id": "K4qDFHu6DEtK"
   },
   "source": [
    "* We can conclude that using LeakyRELU as the activation function dosent help much in accuracy."
   ]
  },
  {
   "cell_type": "code",
   "execution_count": null,
   "metadata": {
    "id": "xkjDd3xnphHj"
   },
   "outputs": [],
   "source": [
    "# using only overall review feature\n",
    "\n",
    "text_data_new = df[['overall_review', 'rating_stars']]"
   ]
  },
  {
   "cell_type": "code",
   "execution_count": null,
   "metadata": {
    "colab": {
     "base_uri": "https://localhost:8080/"
    },
    "executionInfo": {
     "elapsed": 1422,
     "status": "ok",
     "timestamp": 1621178798785,
     "user": {
      "displayName": "Omkar Parab",
      "photoUrl": "https://lh3.googleusercontent.com/-k_5aDc4lY0s/AAAAAAAAAAI/AAAAAAAAY7M/CwjzItosNr8/s64/photo.jpg",
      "userId": "03333431617055937457"
     },
     "user_tz": -330
    },
    "id": "t-lyXAE5qYmf",
    "outputId": "ca40e4b3-c41e-40d7-d19b-0d47d6f25fcb"
   },
   "outputs": [
    {
     "data": {
      "text/plain": [
       "overall_review    779\n",
       "rating_stars        0\n",
       "dtype: int64"
      ]
     },
     "execution_count": 55,
     "metadata": {
      "tags": []
     },
     "output_type": "execute_result"
    }
   ],
   "source": [
    "text_data_new.isna().sum()"
   ]
  },
  {
   "cell_type": "code",
   "execution_count": null,
   "metadata": {
    "colab": {
     "base_uri": "https://localhost:8080/"
    },
    "executionInfo": {
     "elapsed": 1482,
     "status": "ok",
     "timestamp": 1621178884741,
     "user": {
      "displayName": "Omkar Parab",
      "photoUrl": "https://lh3.googleusercontent.com/-k_5aDc4lY0s/AAAAAAAAAAI/AAAAAAAAY7M/CwjzItosNr8/s64/photo.jpg",
      "userId": "03333431617055937457"
     },
     "user_tz": -330
    },
    "id": "zF9QAY3Yyldz",
    "outputId": "970df65c-6276-48b7-cd15-04207aa7e969"
   },
   "outputs": [
    {
     "data": {
      "text/plain": [
       "overall_review    0\n",
       "rating_stars      0\n",
       "dtype: int64"
      ]
     },
     "execution_count": 56,
     "metadata": {
      "tags": []
     },
     "output_type": "execute_result"
    }
   ],
   "source": [
    "text_data_new.fillna(' ', inplace = True)\n",
    "text_data_new.isna().sum()"
   ]
  },
  {
   "cell_type": "code",
   "execution_count": null,
   "metadata": {
    "colab": {
     "base_uri": "https://localhost:8080/"
    },
    "executionInfo": {
     "elapsed": 1669,
     "status": "ok",
     "timestamp": 1621178888828,
     "user": {
      "displayName": "Omkar Parab",
      "photoUrl": "https://lh3.googleusercontent.com/-k_5aDc4lY0s/AAAAAAAAAAI/AAAAAAAAY7M/CwjzItosNr8/s64/photo.jpg",
      "userId": "03333431617055937457"
     },
     "user_tz": -330
    },
    "id": "YxsDmLKE1U_S",
    "outputId": "45d37a0c-15ab-4aa8-ca22-044eacb49ac8"
   },
   "outputs": [
    {
     "name": "stdout",
     "output_type": "stream",
     "text": [
      "Num of samples: 2227\n",
      "[52, 6, 16, 34, 23, 548, 7, 189]\n"
     ]
    }
   ],
   "source": [
    "from tensorflow.keras.preprocessing.text import Tokenizer\n",
    "token = Tokenizer(num_words = max_features)\n",
    "\n",
    "# fit on text data\n",
    "token.fit_on_texts(text_data_new['overall_review'])\n",
    "\n",
    "# convert to sequences \n",
    "X = token.texts_to_sequences(text_data_new['overall_review'])\n",
    "\n",
    "print(\"Num of samples:\" , len(X))\n",
    "print(X[0])"
   ]
  },
  {
   "cell_type": "code",
   "execution_count": null,
   "metadata": {
    "colab": {
     "base_uri": "https://localhost:8080/"
    },
    "executionInfo": {
     "elapsed": 1184,
     "status": "ok",
     "timestamp": 1621178892192,
     "user": {
      "displayName": "Omkar Parab",
      "photoUrl": "https://lh3.googleusercontent.com/-k_5aDc4lY0s/AAAAAAAAAAI/AAAAAAAAY7M/CwjzItosNr8/s64/photo.jpg",
      "userId": "03333431617055937457"
     },
     "user_tz": -330
    },
    "id": "-H4b70wm120J",
    "outputId": "4a8060ae-4ea5-4e23-df88-e51dd4635cde"
   },
   "outputs": [
    {
     "data": {
      "text/plain": [
       "5472"
      ]
     },
     "execution_count": 58,
     "metadata": {
      "tags": []
     },
     "output_type": "execute_result"
    }
   ],
   "source": [
    "len(token.word_index)"
   ]
  },
  {
   "cell_type": "code",
   "execution_count": null,
   "metadata": {
    "colab": {
     "base_uri": "https://localhost:8080/"
    },
    "executionInfo": {
     "elapsed": 1006,
     "status": "ok",
     "timestamp": 1621178894025,
     "user": {
      "displayName": "Omkar Parab",
      "photoUrl": "https://lh3.googleusercontent.com/-k_5aDc4lY0s/AAAAAAAAAAI/AAAAAAAAY7M/CwjzItosNr8/s64/photo.jpg",
      "userId": "03333431617055937457"
     },
     "user_tz": -330
    },
    "id": "A8_T0htN1U5a",
    "outputId": "ec9dac2d-d113-4802-80ee-10754cfc10ab"
   },
   "outputs": [
    {
     "name": "stdout",
     "output_type": "stream",
     "text": [
      "(2227, 25)\n",
      "Number of labels:  2227\n"
     ]
    }
   ],
   "source": [
    "from tensorflow.keras.preprocessing.sequence import pad_sequences\n",
    "x = pad_sequences(X, maxlen = maxlen)\n",
    "y = np.asarray(data['ratings'])\n",
    "print(x.shape)\n",
    "print('Number of labels: ', len(y))"
   ]
  },
  {
   "cell_type": "code",
   "execution_count": null,
   "metadata": {
    "colab": {
     "base_uri": "https://localhost:8080/"
    },
    "executionInfo": {
     "elapsed": 974,
     "status": "ok",
     "timestamp": 1621178896146,
     "user": {
      "displayName": "Omkar Parab",
      "photoUrl": "https://lh3.googleusercontent.com/-k_5aDc4lY0s/AAAAAAAAAAI/AAAAAAAAY7M/CwjzItosNr8/s64/photo.jpg",
      "userId": "03333431617055937457"
     },
     "user_tz": -330
    },
    "id": "qqRRZ0Pgknlu",
    "outputId": "cec2b1c4-8377-4771-e1a5-ecf99ee4fce0"
   },
   "outputs": [
    {
     "name": "stdout",
     "output_type": "stream",
     "text": [
      "(2227, 25)\n",
      "(2227,)\n"
     ]
    }
   ],
   "source": [
    "print(x.shape)\n",
    "print(y.shape)"
   ]
  },
  {
   "cell_type": "code",
   "execution_count": null,
   "metadata": {
    "colab": {
     "base_uri": "https://localhost:8080/"
    },
    "executionInfo": {
     "elapsed": 1065,
     "status": "ok",
     "timestamp": 1621178898153,
     "user": {
      "displayName": "Omkar Parab",
      "photoUrl": "https://lh3.googleusercontent.com/-k_5aDc4lY0s/AAAAAAAAAAI/AAAAAAAAY7M/CwjzItosNr8/s64/photo.jpg",
      "userId": "03333431617055937457"
     },
     "user_tz": -330
    },
    "id": "487ghoTBlNha",
    "outputId": "c8ee91e8-803e-4891-e21f-41c0ed92ccb9"
   },
   "outputs": [
    {
     "name": "stdout",
     "output_type": "stream",
     "text": [
      "5473\n"
     ]
    }
   ],
   "source": [
    "num_words = len(token.word_index) + 1\n",
    "print(num_words)"
   ]
  },
  {
   "cell_type": "code",
   "execution_count": null,
   "metadata": {
    "id": "slZ87xBnlOJn"
   },
   "outputs": [],
   "source": [
    "embedding_matrix = np.zeros((num_words,50))\n",
    "\n",
    "for word,i in token.word_index.items():\n",
    "  if word in embedding.keys():\n",
    "    embedding_matrix[i] = embedding[word]"
   ]
  },
  {
   "cell_type": "code",
   "execution_count": null,
   "metadata": {
    "id": "4OBdlBWJlc5n"
   },
   "outputs": [],
   "source": [
    "from sklearn.model_selection import train_test_split\n",
    "\n",
    "X_train, X_test, y_train, y_test = train_test_split(x, y_en, test_size = 0.3)"
   ]
  },
  {
   "cell_type": "code",
   "execution_count": null,
   "metadata": {
    "colab": {
     "base_uri": "https://localhost:8080/"
    },
    "executionInfo": {
     "elapsed": 730,
     "status": "ok",
     "timestamp": 1621178903545,
     "user": {
      "displayName": "Omkar Parab",
      "photoUrl": "https://lh3.googleusercontent.com/-k_5aDc4lY0s/AAAAAAAAAAI/AAAAAAAAY7M/CwjzItosNr8/s64/photo.jpg",
      "userId": "03333431617055937457"
     },
     "user_tz": -330
    },
    "id": "I4yDh1JQlsUC",
    "outputId": "0a5a0910-7c17-46b7-8508-7e3312f971f2"
   },
   "outputs": [
    {
     "name": "stdout",
     "output_type": "stream",
     "text": [
      "(1558, 25) (1558, 6)\n",
      "(669, 25) (669, 6)\n"
     ]
    }
   ],
   "source": [
    "print(X_train.shape, y_train.shape)\n",
    "print(X_test.shape, y_test.shape)"
   ]
  },
  {
   "cell_type": "code",
   "execution_count": null,
   "metadata": {
    "id": "jt0Q67RNlzPT"
   },
   "outputs": [],
   "source": [
    "from tensorflow.keras.models import Sequential\n",
    "from tensorflow.keras.layers import Embedding, LSTM, Dense, Dropout, Flatten\n",
    "\n",
    "# embedding layer with input_dim, embedding_size, weights, input_length \n",
    "model = Sequential()\n",
    "model.add(Embedding(num_words, embedding_size, weights = [embedding_matrix], input_length = maxlen) )\n",
    "\n",
    "# LSTM layer\n",
    "model.add(LSTM(64, return_sequences = True))\n",
    "\n",
    "# extract features\n",
    "model.add(Flatten())\n",
    "\n",
    "# dense layers\n",
    "model.add(Dense(128, activation = 'relu'))\n",
    "model.add(Dropout(0.2))\n",
    "model.add(Dense(64, activation ='relu'))\n",
    "model.add(Dropout(0.2))\n",
    "model.add(Dense(6, activation = 'softmax'))"
   ]
  },
  {
   "cell_type": "code",
   "execution_count": null,
   "metadata": {
    "colab": {
     "base_uri": "https://localhost:8080/"
    },
    "executionInfo": {
     "elapsed": 1150,
     "status": "ok",
     "timestamp": 1621178953543,
     "user": {
      "displayName": "Omkar Parab",
      "photoUrl": "https://lh3.googleusercontent.com/-k_5aDc4lY0s/AAAAAAAAAAI/AAAAAAAAY7M/CwjzItosNr8/s64/photo.jpg",
      "userId": "03333431617055937457"
     },
     "user_tz": -330
    },
    "id": "GByaZYHrl6t8",
    "outputId": "5eb98afc-d5c8-40f8-ec0f-6e117bf22d6a"
   },
   "outputs": [
    {
     "name": "stdout",
     "output_type": "stream",
     "text": [
      "Model: \"sequential_3\"\n",
      "_________________________________________________________________\n",
      "Layer (type)                 Output Shape              Param #   \n",
      "=================================================================\n",
      "embedding_3 (Embedding)      (None, 25, 50)            273650    \n",
      "_________________________________________________________________\n",
      "lstm_3 (LSTM)                (None, 25, 64)            29440     \n",
      "_________________________________________________________________\n",
      "flatten_3 (Flatten)          (None, 1600)              0         \n",
      "_________________________________________________________________\n",
      "dense_7 (Dense)              (None, 128)               204928    \n",
      "_________________________________________________________________\n",
      "dropout_4 (Dropout)          (None, 128)               0         \n",
      "_________________________________________________________________\n",
      "dense_8 (Dense)              (None, 64)                8256      \n",
      "_________________________________________________________________\n",
      "dropout_5 (Dropout)          (None, 64)                0         \n",
      "_________________________________________________________________\n",
      "dense_9 (Dense)              (None, 6)                 390       \n",
      "=================================================================\n",
      "Total params: 516,664\n",
      "Trainable params: 516,664\n",
      "Non-trainable params: 0\n",
      "_________________________________________________________________\n"
     ]
    }
   ],
   "source": [
    "model.summary()"
   ]
  },
  {
   "cell_type": "code",
   "execution_count": null,
   "metadata": {
    "id": "Uf543Roql7Ly"
   },
   "outputs": [],
   "source": [
    "model.compile(loss = 'categorical_crossentropy', optimizer='adam', metrics = ['accuracy'])"
   ]
  },
  {
   "cell_type": "code",
   "execution_count": null,
   "metadata": {
    "colab": {
     "base_uri": "https://localhost:8080/"
    },
    "executionInfo": {
     "elapsed": 9753,
     "status": "ok",
     "timestamp": 1621178967253,
     "user": {
      "displayName": "Omkar Parab",
      "photoUrl": "https://lh3.googleusercontent.com/-k_5aDc4lY0s/AAAAAAAAAAI/AAAAAAAAY7M/CwjzItosNr8/s64/photo.jpg",
      "userId": "03333431617055937457"
     },
     "user_tz": -330
    },
    "id": "JEHOsEOhmKT2",
    "outputId": "12f36e10-dba7-4a8f-9553-3774d90cf355"
   },
   "outputs": [
    {
     "name": "stdout",
     "output_type": "stream",
     "text": [
      "Epoch 1/20\n",
      "16/16 [==============================] - 3s 51ms/step - loss: 1.4510 - accuracy: 0.6159 - val_loss: 1.0196 - val_accuracy: 0.8057\n",
      "Epoch 2/20\n",
      "16/16 [==============================] - 0s 18ms/step - loss: 0.9526 - accuracy: 0.7923 - val_loss: 0.7893 - val_accuracy: 0.8057\n",
      "Epoch 3/20\n",
      "16/16 [==============================] - 0s 18ms/step - loss: 0.8712 - accuracy: 0.7662 - val_loss: 0.7422 - val_accuracy: 0.8057\n",
      "Epoch 4/20\n",
      "16/16 [==============================] - 0s 18ms/step - loss: 0.7240 - accuracy: 0.8020 - val_loss: 0.7320 - val_accuracy: 0.8057\n",
      "Epoch 5/20\n",
      "16/16 [==============================] - 0s 19ms/step - loss: 0.7611 - accuracy: 0.7839 - val_loss: 0.7431 - val_accuracy: 0.8057\n",
      "Epoch 6/20\n",
      "16/16 [==============================] - 0s 17ms/step - loss: 0.7579 - accuracy: 0.7716 - val_loss: 0.7437 - val_accuracy: 0.8057\n",
      "Epoch 7/20\n",
      "16/16 [==============================] - 0s 17ms/step - loss: 0.7224 - accuracy: 0.7752 - val_loss: 0.7358 - val_accuracy: 0.8072\n",
      "Epoch 8/20\n",
      "16/16 [==============================] - 0s 18ms/step - loss: 0.6576 - accuracy: 0.7877 - val_loss: 0.7560 - val_accuracy: 0.7997\n",
      "Epoch 9/20\n",
      "16/16 [==============================] - 0s 17ms/step - loss: 0.6166 - accuracy: 0.8007 - val_loss: 0.7882 - val_accuracy: 0.7982\n",
      "Epoch 10/20\n",
      "16/16 [==============================] - 0s 17ms/step - loss: 0.5608 - accuracy: 0.8192 - val_loss: 0.8153 - val_accuracy: 0.7922\n",
      "Epoch 11/20\n",
      "16/16 [==============================] - 0s 18ms/step - loss: 0.5846 - accuracy: 0.8185 - val_loss: 0.8595 - val_accuracy: 0.7519\n",
      "Epoch 12/20\n",
      "16/16 [==============================] - 0s 18ms/step - loss: 0.4679 - accuracy: 0.8649 - val_loss: 0.9013 - val_accuracy: 0.7803\n",
      "Epoch 13/20\n",
      "16/16 [==============================] - 0s 17ms/step - loss: 0.4717 - accuracy: 0.8717 - val_loss: 0.9590 - val_accuracy: 0.7848\n",
      "Epoch 14/20\n",
      "16/16 [==============================] - 0s 17ms/step - loss: 0.4297 - accuracy: 0.8886 - val_loss: 1.1095 - val_accuracy: 0.7952\n",
      "Epoch 15/20\n",
      "16/16 [==============================] - 0s 17ms/step - loss: 0.3508 - accuracy: 0.9159 - val_loss: 1.1594 - val_accuracy: 0.7892\n",
      "Epoch 16/20\n",
      "16/16 [==============================] - 0s 18ms/step - loss: 0.3228 - accuracy: 0.9163 - val_loss: 1.1620 - val_accuracy: 0.7862\n",
      "Epoch 17/20\n",
      "16/16 [==============================] - 0s 17ms/step - loss: 0.3369 - accuracy: 0.9182 - val_loss: 1.3058 - val_accuracy: 0.7937\n",
      "Epoch 18/20\n",
      "16/16 [==============================] - 0s 18ms/step - loss: 0.3042 - accuracy: 0.9220 - val_loss: 1.3366 - val_accuracy: 0.7848\n",
      "Epoch 19/20\n",
      "16/16 [==============================] - 0s 18ms/step - loss: 0.3043 - accuracy: 0.9211 - val_loss: 1.3969 - val_accuracy: 0.7773\n",
      "Epoch 20/20\n",
      "16/16 [==============================] - 0s 17ms/step - loss: 0.2968 - accuracy: 0.9265 - val_loss: 1.4795 - val_accuracy: 0.7877\n"
     ]
    }
   ],
   "source": [
    "history = model.fit(X_train, y_train, validation_data= (X_test, y_test), epochs = 20, batch_size = 100)"
   ]
  },
  {
   "cell_type": "markdown",
   "metadata": {
    "id": "Lfb3V87HzfPz"
   },
   "source": [
    "* Taking only overall_review feature results in a slight improvement in model performance with a validation accuracy of 80%."
   ]
  },
  {
   "cell_type": "code",
   "execution_count": null,
   "metadata": {
    "id": "7yryjew7neME"
   },
   "outputs": [],
   "source": [
    "# using different hyperparameters\n",
    "\n",
    "from tensorflow.keras.models import Sequential\n",
    "from tensorflow.keras.layers import BatchNormalization, Convolution2D, MaxPooling2D,Embedding, LSTM, Dense, Dropout, Flatten\n",
    "from keras.layers import LeakyReLU\n",
    "\n",
    "# embedding layer with input_dim, embedding_size, weights, input_length \n",
    "model = Sequential()\n",
    "model.add(Embedding(num_words, embedding_size, weights = [embedding_matrix], input_length = maxlen))\n",
    "model.add(BatchNormalization())\n",
    "\n",
    "# LSTM layer\n",
    "model.add(LSTM(64, return_sequences = True))\n",
    "\n",
    "# extract features\n",
    "model.add(Flatten())\n",
    "\n",
    "# dense layers\n",
    "model.add(Dense(128, activation = 'relu'))\n",
    "model.add(Dropout(0.2))\n",
    "model.add(Dense(64, activation = 'relu'))\n",
    "model.add(Dropout(0.2))\n",
    "model.add(Dense(32, activation = 'relu'))\n",
    "model.add(Dense(6, activation = 'softmax'))"
   ]
  },
  {
   "cell_type": "code",
   "execution_count": null,
   "metadata": {
    "colab": {
     "base_uri": "https://localhost:8080/"
    },
    "executionInfo": {
     "elapsed": 1393,
     "status": "ok",
     "timestamp": 1621179546231,
     "user": {
      "displayName": "Omkar Parab",
      "photoUrl": "https://lh3.googleusercontent.com/-k_5aDc4lY0s/AAAAAAAAAAI/AAAAAAAAY7M/CwjzItosNr8/s64/photo.jpg",
      "userId": "03333431617055937457"
     },
     "user_tz": -330
    },
    "id": "AEGc_M1bri3K",
    "outputId": "b9210e48-20f0-4387-c35f-16d10ec0d726"
   },
   "outputs": [
    {
     "name": "stdout",
     "output_type": "stream",
     "text": [
      "Model: \"sequential_7\"\n",
      "_________________________________________________________________\n",
      "Layer (type)                 Output Shape              Param #   \n",
      "=================================================================\n",
      "embedding_7 (Embedding)      (None, 25, 50)            273650    \n",
      "_________________________________________________________________\n",
      "batch_normalization_3 (Batch (None, 25, 50)            200       \n",
      "_________________________________________________________________\n",
      "lstm_5 (LSTM)                (None, 25, 64)            29440     \n",
      "_________________________________________________________________\n",
      "flatten_5 (Flatten)          (None, 1600)              0         \n",
      "_________________________________________________________________\n",
      "dense_14 (Dense)             (None, 128)               204928    \n",
      "_________________________________________________________________\n",
      "dropout_8 (Dropout)          (None, 128)               0         \n",
      "_________________________________________________________________\n",
      "dense_15 (Dense)             (None, 64)                8256      \n",
      "_________________________________________________________________\n",
      "dropout_9 (Dropout)          (None, 64)                0         \n",
      "_________________________________________________________________\n",
      "dense_16 (Dense)             (None, 32)                2080      \n",
      "_________________________________________________________________\n",
      "dense_17 (Dense)             (None, 6)                 198       \n",
      "=================================================================\n",
      "Total params: 518,752\n",
      "Trainable params: 518,652\n",
      "Non-trainable params: 100\n",
      "_________________________________________________________________\n"
     ]
    }
   ],
   "source": [
    "model.summary()"
   ]
  },
  {
   "cell_type": "code",
   "execution_count": null,
   "metadata": {
    "id": "1KqIEg7Urk6i"
   },
   "outputs": [],
   "source": [
    "# using mse as the loss function\n",
    "\n",
    "model.compile(loss = 'mse', optimizer='adam', metrics = ['accuracy'])"
   ]
  },
  {
   "cell_type": "code",
   "execution_count": null,
   "metadata": {
    "colab": {
     "base_uri": "https://localhost:8080/"
    },
    "executionInfo": {
     "elapsed": 12588,
     "status": "ok",
     "timestamp": 1621179564376,
     "user": {
      "displayName": "Omkar Parab",
      "photoUrl": "https://lh3.googleusercontent.com/-k_5aDc4lY0s/AAAAAAAAAAI/AAAAAAAAY7M/CwjzItosNr8/s64/photo.jpg",
      "userId": "03333431617055937457"
     },
     "user_tz": -330
    },
    "id": "X0TH2tSdrmXq",
    "outputId": "3c488751-764f-4dcb-ac43-4300561562cb"
   },
   "outputs": [
    {
     "name": "stdout",
     "output_type": "stream",
     "text": [
      "Epoch 1/30\n",
      "16/16 [==============================] - 3s 52ms/step - loss: 0.1123 - accuracy: 0.5504 - val_loss: 0.0654 - val_accuracy: 0.8057\n",
      "Epoch 2/30\n",
      "16/16 [==============================] - 0s 18ms/step - loss: 0.0766 - accuracy: 0.7645 - val_loss: 0.0587 - val_accuracy: 0.8057\n",
      "Epoch 3/30\n",
      "16/16 [==============================] - 0s 18ms/step - loss: 0.0666 - accuracy: 0.7771 - val_loss: 0.0597 - val_accuracy: 0.8057\n",
      "Epoch 4/30\n",
      "16/16 [==============================] - 0s 18ms/step - loss: 0.0607 - accuracy: 0.7918 - val_loss: 0.0589 - val_accuracy: 0.8057\n",
      "Epoch 5/30\n",
      "16/16 [==============================] - 0s 18ms/step - loss: 0.0562 - accuracy: 0.7934 - val_loss: 0.0615 - val_accuracy: 0.8072\n",
      "Epoch 6/30\n",
      "16/16 [==============================] - 0s 18ms/step - loss: 0.0558 - accuracy: 0.7868 - val_loss: 0.0654 - val_accuracy: 0.8057\n",
      "Epoch 7/30\n",
      "16/16 [==============================] - 0s 18ms/step - loss: 0.0487 - accuracy: 0.8188 - val_loss: 0.0597 - val_accuracy: 0.7862\n",
      "Epoch 8/30\n",
      "16/16 [==============================] - 0s 18ms/step - loss: 0.0424 - accuracy: 0.8442 - val_loss: 0.0593 - val_accuracy: 0.7952\n",
      "Epoch 9/30\n",
      "16/16 [==============================] - 0s 18ms/step - loss: 0.0376 - accuracy: 0.8566 - val_loss: 0.0575 - val_accuracy: 0.8057\n",
      "Epoch 10/30\n",
      "16/16 [==============================] - 0s 18ms/step - loss: 0.0346 - accuracy: 0.8727 - val_loss: 0.0579 - val_accuracy: 0.8027\n",
      "Epoch 11/30\n",
      "16/16 [==============================] - 0s 17ms/step - loss: 0.0304 - accuracy: 0.8909 - val_loss: 0.0613 - val_accuracy: 0.7982\n",
      "Epoch 12/30\n",
      "16/16 [==============================] - 0s 18ms/step - loss: 0.0295 - accuracy: 0.8938 - val_loss: 0.0624 - val_accuracy: 0.7788\n",
      "Epoch 13/30\n",
      "16/16 [==============================] - 0s 19ms/step - loss: 0.0250 - accuracy: 0.9163 - val_loss: 0.0603 - val_accuracy: 0.7862\n",
      "Epoch 14/30\n",
      "16/16 [==============================] - 0s 18ms/step - loss: 0.0241 - accuracy: 0.9173 - val_loss: 0.0604 - val_accuracy: 0.7952\n",
      "Epoch 15/30\n",
      "16/16 [==============================] - 0s 18ms/step - loss: 0.0258 - accuracy: 0.9185 - val_loss: 0.0659 - val_accuracy: 0.7698\n",
      "Epoch 16/30\n",
      "16/16 [==============================] - 0s 18ms/step - loss: 0.0232 - accuracy: 0.9200 - val_loss: 0.0609 - val_accuracy: 0.7937\n",
      "Epoch 17/30\n",
      "16/16 [==============================] - 0s 18ms/step - loss: 0.0236 - accuracy: 0.9212 - val_loss: 0.0603 - val_accuracy: 0.7907\n",
      "Epoch 18/30\n",
      "16/16 [==============================] - 0s 18ms/step - loss: 0.0199 - accuracy: 0.9368 - val_loss: 0.0638 - val_accuracy: 0.7833\n",
      "Epoch 19/30\n",
      "16/16 [==============================] - 0s 18ms/step - loss: 0.0209 - accuracy: 0.9332 - val_loss: 0.0614 - val_accuracy: 0.7952\n",
      "Epoch 20/30\n",
      "16/16 [==============================] - 0s 19ms/step - loss: 0.0200 - accuracy: 0.9341 - val_loss: 0.0621 - val_accuracy: 0.7907\n",
      "Epoch 21/30\n",
      "16/16 [==============================] - 0s 20ms/step - loss: 0.0185 - accuracy: 0.9392 - val_loss: 0.0654 - val_accuracy: 0.7743\n",
      "Epoch 22/30\n",
      "16/16 [==============================] - 0s 18ms/step - loss: 0.0193 - accuracy: 0.9366 - val_loss: 0.0609 - val_accuracy: 0.7952\n",
      "Epoch 23/30\n",
      "16/16 [==============================] - 0s 18ms/step - loss: 0.0205 - accuracy: 0.9316 - val_loss: 0.0697 - val_accuracy: 0.7638\n",
      "Epoch 24/30\n",
      "16/16 [==============================] - 0s 19ms/step - loss: 0.0210 - accuracy: 0.9292 - val_loss: 0.0619 - val_accuracy: 0.7862\n",
      "Epoch 25/30\n",
      "16/16 [==============================] - 0s 18ms/step - loss: 0.0175 - accuracy: 0.9398 - val_loss: 0.0659 - val_accuracy: 0.7668\n",
      "Epoch 26/30\n",
      "16/16 [==============================] - 0s 18ms/step - loss: 0.0217 - accuracy: 0.9262 - val_loss: 0.0666 - val_accuracy: 0.7728\n",
      "Epoch 27/30\n",
      "16/16 [==============================] - 0s 19ms/step - loss: 0.0196 - accuracy: 0.9346 - val_loss: 0.0638 - val_accuracy: 0.7788\n",
      "Epoch 28/30\n",
      "16/16 [==============================] - 0s 18ms/step - loss: 0.0193 - accuracy: 0.9342 - val_loss: 0.0638 - val_accuracy: 0.7818\n",
      "Epoch 29/30\n",
      "16/16 [==============================] - 0s 18ms/step - loss: 0.0203 - accuracy: 0.9317 - val_loss: 0.0682 - val_accuracy: 0.7623\n",
      "Epoch 30/30\n",
      "16/16 [==============================] - 0s 18ms/step - loss: 0.0186 - accuracy: 0.9389 - val_loss: 0.0614 - val_accuracy: 0.7937\n"
     ]
    }
   ],
   "source": [
    "history = model.fit(X_train, y_train, validation_data= (X_test, y_test), epochs = 30, batch_size = 100)"
   ]
  },
  {
   "cell_type": "markdown",
   "metadata": {
    "id": "qG5JtPCy1Zth"
   },
   "source": [
    "* After running the model with additional layers on overall_review feature it doesnt show much difference."
   ]
  }
 ],
 "metadata": {
  "accelerator": "GPU",
  "colab": {
   "collapsed_sections": [],
   "name": "R9 Internal Lab Question Notebook.ipynb",
   "provenance": []
  },
  "kernelspec": {
   "display_name": "Python 3",
   "language": "python",
   "name": "python3"
  },
  "language_info": {
   "codemirror_mode": {
    "name": "ipython",
    "version": 3
   },
   "file_extension": ".py",
   "mimetype": "text/x-python",
   "name": "python",
   "nbconvert_exporter": "python",
   "pygments_lexer": "ipython3",
   "version": "3.9.4"
  }
 },
 "nbformat": 4,
 "nbformat_minor": 1
}
